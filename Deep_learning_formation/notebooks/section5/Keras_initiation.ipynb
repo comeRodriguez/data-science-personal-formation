{
 "cells": [
  {
   "cell_type": "markdown",
   "id": "4fb85706",
   "metadata": {},
   "source": [
    "# Keras\n",
    "\n",
    "[Keras](https://keras.io) est une librairie Python très polulaire dédiée à l'apprentissage profond. Elle peut fonctionner comme surcouche de plusieurs librairies, comme [Tensorflow](https://www.tensorflow.org) ou [Theano](https://github.com/Theano/Theano). Keras est maintenant inclus dans [Tensorflow 2.0](https://www.tensorflow.org/api_docs/python/tf/keras)\n",
    "\n",
    "Keras a été développée pour travailler avec des modèles à réseaux de neurones profonds, en faisant en sorte d'être simple à utiliser et intuitive. Keras inclut un certain nombre de couches, de fonctions d'activations et d'optimiseurs communément utilisés. Un modèle peut être défini et entrainé avec seulement quelques lignes de code en Python.\n",
    "\n",
    "Keras fonctionne avec Matplotlib and NumPy."
   ]
  },
  {
   "cell_type": "code",
   "execution_count": 5,
   "id": "4bfdaf79",
   "metadata": {},
   "outputs": [],
   "source": [
    "from tensorflow.keras.models import Sequential\n",
    "from tensorflow.keras.layers import Dense, Activation\n",
    "from tensorflow.keras.optimizers import Adam\n",
    "from tensorflow.keras.models import model_from_json\n",
    "\n",
    "from matplotlib import pyplot as plt\n",
    "\n",
    "import numpy as np"
   ]
  },
  {
   "cell_type": "markdown",
   "id": "6d521d3e",
   "metadata": {},
   "source": [
    "# Apprentissage d'une fonction mathématique\n",
    "\n",
    "Nous allons prendre un exemple simple : développer un modèle Keras pour prédire les valeurs en sortie d'une fonction mathématique. Cet exemple s'entraine rapidement, ce qui est idéal pour faire des expériences.\n",
    "\n",
    "Les échantillons pour les tests et pour les données sont générés avec la fonction ci-dessous. Le nombre d'échantillons pour les tests peut être ajusté afin d'explorer la précision du modèle en fonction de la taille des données."
   ]
  },
  {
   "cell_type": "code",
   "execution_count": 6,
   "id": "3df12a44",
   "metadata": {},
   "outputs": [],
   "source": [
    "def function(x):\n",
    "    return 10*x**2 - 5*x - 0.5"
   ]
  },
  {
   "cell_type": "code",
   "execution_count": 7,
   "id": "07e5593d",
   "metadata": {},
   "outputs": [],
   "source": [
    "# Génération des données d'entrainement\n",
    "x_entrainement = np.random.rand(10000)\n",
    "y_entrainement = function(x_entrainement)\n",
    "\n",
    "# Génération des données pour les tests\n",
    "x_test = np.linspace(0, 1, 100)\n",
    "y_test = function(x_test)"
   ]
  },
  {
   "cell_type": "markdown",
   "id": "2f42abf7",
   "metadata": {},
   "source": [
    "# Visualisation des données"
   ]
  },
  {
   "cell_type": "code",
   "execution_count": 8,
   "id": "aee8d273",
   "metadata": {},
   "outputs": [
    {
     "data": {
      "image/png": "[encoded data removed]",
      "text/plain": [
       "<Figure size 432x288 with 1 Axes>"
      ]
     },
     "metadata": {
      "needs_background": "light"
     },
     "output_type": "display_data"
    }
   ],
   "source": [
    "plt.scatter(x_entrainement, y_entrainement, label='Entrainement', color='blue')\n",
    "plt.scatter(x_test, y_test, label='Test', color='red',s=2)\n",
    "plt.ylabel('y')\n",
    "plt.xlabel('x')\n",
    "plt.legend(loc='best')\n",
    "plt.show()"
   ]
  },
  {
   "cell_type": "markdown",
   "id": "15c004dd",
   "metadata": {},
   "source": [
    "# Definition du modèle\n",
    "\n",
    "Nous allons utiliser un [modèle séquentiel](https://keras.io/guides/sequential_model/) multi-couches avec une fonction d'activation de type [Unité Linéaire Rectifiée (Rectified Linear Unit - ReLU)](https://fr.wikipedia.org/wiki/Redresseur_(r%C3%A9seaux_neuronaux)). La couche de sortie n'a pas de fonction d'activation afin de produire des données continues en sortie.  \n",
    "*  Le terme dense signifie qu'une fonction d'activation non linéaire est utlisée en sortie des couches internes.  \n",
    "*  Le modèle séquentiel est adapté dans le cas où chaque couche possède une entrée et une sortie et où les couches s'échangent des données. Il n'est pas adapté pour les modèles multi-entrées / sorties ou dans le cas où il n'y a pas d'échange de données entre les couches.  \n"
   ]
  },
  {
   "cell_type": "markdown",
   "id": "439d59fd",
   "metadata": {},
   "source": [
    "La structure du modèle est la suivante :  \n",
    "*  L'entrée du modèle est de dimension 1. La couche d'entrée contient donc 1 neurone.  \n",
    "*  La première couche cachée contient 200 neurones (units).    \n",
    "*  La deuxième couche cachée contient 20 neurones.  \n",
    "*  La couche de sortie contient un seul neurone.  \n",
    "*  La couche d'entrée et la première couche cachée ont une fonction d'activation non linéaire de type ReLU en sortie.  "
   ]
  },
  {
   "cell_type": "markdown",
   "id": "556e9aea",
   "metadata": {},
   "source": [
    "Sous forme graphique, sa structure est la suivante :  \n",
    "  \n",
    "\n",
    "![ReseauNeurone](KerasNeurone.png \"ReseauNeurone\")"
   ]
  },
  {
   "cell_type": "code",
   "execution_count": 9,
   "id": "9360fc9d",
   "metadata": {},
   "outputs": [],
   "source": [
    "model = Sequential()\n",
    "model.add(Dense(units=200, input_dim=1))\n",
    "model.add(Activation('relu'))\n",
    "model.add(Dense(units=20))\n",
    "model.add(Activation('relu'))\n",
    "model.add(Dense(units=1))"
   ]
  },
  {
   "cell_type": "markdown",
   "id": "60a964af",
   "metadata": {},
   "source": [
    "On peut obtenir une description du modèle créé avec la fonction **summary** :"
   ]
  },
  {
   "cell_type": "code",
   "execution_count": 10,
   "id": "7dde62b8",
   "metadata": {},
   "outputs": [
    {
     "name": "stdout",
     "output_type": "stream",
     "text": [
      "Model: \"sequential_1\"\n",
      "_________________________________________________________________\n",
      "Layer (type)                 Output Shape              Param #   \n",
      "=================================================================\n",
      "dense_3 (Dense)              (None, 200)               400       \n",
      "_________________________________________________________________\n",
      "activation_2 (Activation)    (None, 200)               0         \n",
      "_________________________________________________________________\n",
      "dense_4 (Dense)              (None, 20)                4020      \n",
      "_________________________________________________________________\n",
      "activation_3 (Activation)    (None, 20)                0         \n",
      "_________________________________________________________________\n",
      "dense_5 (Dense)              (None, 1)                 21        \n",
      "=================================================================\n",
      "Total params: 4,441\n",
      "Trainable params: 4,441\n",
      "Non-trainable params: 0\n",
      "_________________________________________________________________\n"
     ]
    }
   ],
   "source": [
    "model.summary()"
   ]
  },
  {
   "cell_type": "markdown",
   "id": "caffbbd8",
   "metadata": {},
   "source": [
    "# Entrainement\n",
    "\n",
    "[La documentation](https://keras.io/api/models/model_training_apis/) de l'API d'entrainement de Keras fournit des informations complémentaires sur la configuration."
   ]
  },
  {
   "cell_type": "code",
   "execution_count": 11,
   "id": "35d92976",
   "metadata": {},
   "outputs": [
    {
     "name": "stderr",
     "output_type": "stream",
     "text": [
      "2021-11-12 18:54:08.439836: I tensorflow/compiler/mlir/mlir_graph_optimization_pass.cc:185] None of the MLIR Optimization Passes are enabled (registered 2)\n"
     ]
    },
    {
     "name": "stdout",
     "output_type": "stream",
     "text": [
      "Epoch 1/10\n",
      "200/200 [==============================] - 1s 1ms/step - loss: 1.3191 - val_loss: 0.1007\n",
      "Epoch 2/10\n",
      "200/200 [==============================] - 0s 913us/step - loss: 0.0308 - val_loss: 0.0114\n",
      "Epoch 3/10\n",
      "200/200 [==============================] - 0s 895us/step - loss: 0.0067 - val_loss: 0.0047\n",
      "Epoch 4/10\n",
      "200/200 [==============================] - 0s 894us/step - loss: 0.0032 - val_loss: 0.0025\n",
      "Epoch 5/10\n",
      "200/200 [==============================] - 0s 963us/step - loss: 0.0018 - val_loss: 0.0015\n",
      "Epoch 6/10\n",
      "200/200 [==============================] - 0s 906us/step - loss: 0.0011 - val_loss: 8.9639e-04\n",
      "Epoch 7/10\n",
      "200/200 [==============================] - 0s 901us/step - loss: 6.3415e-04 - val_loss: 5.7188e-04\n",
      "Epoch 8/10\n",
      "200/200 [==============================] - 0s 895us/step - loss: 3.8455e-04 - val_loss: 3.6172e-04\n",
      "Epoch 9/10\n",
      "200/200 [==============================] - 0s 945us/step - loss: 2.4254e-04 - val_loss: 2.3944e-04\n",
      "Epoch 10/10\n",
      "200/200 [==============================] - 0s 908us/step - loss: 1.6026e-04 - val_loss: 1.6107e-04\n"
     ]
    }
   ],
   "source": [
    "model.compile(loss='mean_squared_error', optimizer=Adam())\n",
    "history = model.fit(x_entrainement, y_entrainement, batch_size=50, epochs=10, verbose=1, validation_data=(x_test, y_test))"
   ]
  },
  {
   "cell_type": "markdown",
   "id": "588de4dd",
   "metadata": {},
   "source": [
    "# Les pertes du modèle (fonction d'objectif - Loss Function)\n",
    "\n",
    "Les pertes sont la différence entre les valeurs attendues (y_entrainement) et les sorties du modèle. Plus les pertes sont faibles, plus le modèle est juste."
   ]
  },
  {
   "cell_type": "code",
   "execution_count": 12,
   "id": "6d88f0f6",
   "metadata": {},
   "outputs": [
    {
     "data": {
      "image/png": "[encoded data removed]",
      "text/plain": [
       "<Figure size 432x288 with 1 Axes>"
      ]
     },
     "metadata": {
      "needs_background": "light"
     },
     "output_type": "display_data"
    }
   ],
   "source": [
    "plt.plot(history.history['loss'])\n",
    "plt.plot(history.history['val_loss'])\n",
    "plt.title('Pertes du modèle')\n",
    "plt.ylabel('Pertes')\n",
    "plt.xlabel('Itération')\n",
    "plt.legend(['Entrainement', 'Test'], loc='upper right')\n",
    "plt.show()"
   ]
  },
  {
   "cell_type": "markdown",
   "id": "3564630a",
   "metadata": {},
   "source": [
    "# Predictions"
   ]
  },
  {
   "cell_type": "code",
   "execution_count": 13,
   "id": "7d1cbd28",
   "metadata": {},
   "outputs": [],
   "source": [
    "y_predictions = model.predict(x_test)"
   ]
  },
  {
   "cell_type": "code",
   "execution_count": 14,
   "id": "3436b983",
   "metadata": {},
   "outputs": [
    {
     "data": {
      "image/png": "[encoded data removed]",
      "text/plain": [
       "<Figure size 432x288 with 1 Axes>"
      ]
     },
     "metadata": {
      "needs_background": "light"
     },
     "output_type": "display_data"
    }
   ],
   "source": [
    "plt.scatter(x_test, y_predictions, label='Predictions', color='blue')\n",
    "plt.plot(x_test, y_test, label='Test', color='red')\n",
    "plt.ylabel('y')\n",
    "plt.xlabel('x')\n",
    "plt.legend(loc='best')\n",
    "plt.show()"
   ]
  },
  {
   "cell_type": "markdown",
   "id": "9d417479",
   "metadata": {},
   "source": [
    "# Sauvegarde du modèle\n",
    "\n",
    "La structure du modèle ainsi que les paramètres calculés (poids et offsets) peuvent être sauvegardés dans un fichier et rechargés plus tard."
   ]
  },
  {
   "cell_type": "code",
   "execution_count": 15,
   "id": "08358c96",
   "metadata": {},
   "outputs": [],
   "source": [
    "model_structure = model.to_json()\n",
    "with open(\"model.json\", \"w\") as json_file:\n",
    "    json_file.write(model_structure)\n",
    "model.save_weights(\"weights.h5\")"
   ]
  },
  {
   "cell_type": "markdown",
   "id": "84a732d7",
   "metadata": {},
   "source": [
    "# Chargement d'un modèle entrainé"
   ]
  },
  {
   "cell_type": "code",
   "execution_count": 16,
   "id": "cad954d4",
   "metadata": {},
   "outputs": [],
   "source": [
    "with open('model.json', 'r') as json_file:\n",
    "    loaded_model_json = json_file.read()\n",
    "restored_model = model_from_json(loaded_model_json)\n",
    "restored_model.load_weights(\"weights.h5\")"
   ]
  },
  {
   "cell_type": "markdown",
   "id": "9aa894a0",
   "metadata": {},
   "source": [
    "# Predictions\n",
    "\n",
    "Utlisons le modèle sauvegardé pour faire des prédictions. On devriat retoruver les mêmes résultats."
   ]
  },
  {
   "cell_type": "code",
   "execution_count": 17,
   "id": "16012e33",
   "metadata": {},
   "outputs": [
    {
     "data": {
      "image/png": "[encoded data removed]",
      "text/plain": [
       "<Figure size 432x288 with 1 Axes>"
      ]
     },
     "metadata": {
      "needs_background": "light"
     },
     "output_type": "display_data"
    }
   ],
   "source": [
    "y_predictions = restored_model.predict(x_test)\n",
    "\n",
    "plt.scatter(x_test, y_predictions, label='Predictions', color='blue')\n",
    "plt.plot(x_test, y_test, label='Test', color='red')\n",
    "plt.ylabel('y')\n",
    "plt.xlabel('x')\n",
    "plt.legend(loc='best')\n",
    "plt.show()"
   ]
  },
  {
   "cell_type": "code",
   "execution_count": null,
   "id": "b8aeb808",
   "metadata": {},
   "outputs": [],
   "source": []
  }
 ],
 "metadata": {
  "kernelspec": {
   "display_name": "Python 3 (ipykernel)",
   "language": "python",
   "name": "python3"
  },
  "language_info": {
   "codemirror_mode": {
    "name": "ipython",
    "version": 3
   },
   "file_extension": ".py",
   "mimetype": "text/x-python",
   "name": "python",
   "nbconvert_exporter": "python",
   "pygments_lexer": "ipython3",
   "version": "3.9.7"
  }
 },
 "nbformat": 4,
 "nbformat_minor": 5
}
