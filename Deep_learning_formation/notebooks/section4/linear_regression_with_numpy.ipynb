{
 "cells": [
  {
   "cell_type": "code",
   "execution_count": 7,
   "id": "6d269b94",
   "metadata": {},
   "outputs": [],
   "source": [
    "import numpy as np\n",
    "import math\n",
    "import matplotlib.pyplot as plt"
   ]
  },
  {
   "cell_type": "code",
   "execution_count": 8,
   "id": "24ad7204",
   "metadata": {},
   "outputs": [
    {
     "data": {
      "image/png": "[encoded data removed]",
      "text/plain": [
       "<Figure size 432x288 with 1 Axes>"
      ]
     },
     "metadata": {
      "needs_background": "light"
     },
     "output_type": "display_data"
    }
   ],
   "source": [
    "(x1, y1) = (2, 1)\n",
    "(x2, y2) = (3, 3)\n",
    "\n",
    "plt.plot(x1, y1, 'ro')\n",
    "plt.plot(x2, y2, 'ro')\n",
    "plt.plot([x1, x2], [y1, y2])\n",
    "plt.show()"
   ]
  },
  {
   "cell_type": "markdown",
   "id": "9f64946f",
   "metadata": {},
   "source": [
    "Pour trouver les constantes $a$ et $b$ de l'équation de la droite, on peut écrire l'équation de la doite aux deux points $A(1,2)$ et $B(3,3)$ et ainsi obtenir deux équations :\n",
    "\n",
    "$$1 = 2 a + b$$\n",
    "\n",
    "$$3 = 3 a + b$$\n",
    "\n",
    "Il ne reste ensuite plus qu'à résoudre cette équation à deux inconnues, et on trouve les valeurs de $a$ et $b$ :\n",
    "\n",
    "$$a = 2$$\n",
    "\n",
    "$$b = -3$$\n",
    "\n",
    "Pour vérifier, dessinons la droite obtenue :"
   ]
  },
  {
   "cell_type": "code",
   "execution_count": 9,
   "id": "ab3b9b8f",
   "metadata": {},
   "outputs": [
    {
     "data": {
      "image/png": "[encoded data removed]",
      "text/plain": [
       "<Figure size 432x288 with 1 Axes>"
      ]
     },
     "metadata": {
      "needs_background": "light"
     },
     "output_type": "display_data"
    }
   ],
   "source": [
    "a = 2\n",
    "b = -3\n",
    "\n",
    "plt.plot(x1, y1, 'ro')\n",
    "plt.plot(x2, y2, 'ro')\n",
    "\n",
    "x= np.linspace(2.0,3.0,num=10)\n",
    "\n",
    "droite = a*x+b\n",
    "plt.plot(x, droite, color='blue', linewidth=0.5)\n",
    "\n",
    "plt.show()"
   ]
  },
  {
   "cell_type": "markdown",
   "id": "d9bb494a",
   "metadata": {},
   "source": [
    "## Algèbre Linéaire\n",
    "\n",
    "Le problème qu'on a vu peut être écrit à l'aide des outils mathématiques de \n",
    "[l'Algèbre Linéaire](https://fr.wikipedia.org/wiki/Alg%C3%A8bre_lin%C3%A9aire). \n",
    "Le système de deux équations à deux inconnues peut-être écrit sous forme matricielle :\n",
    "\n",
    "$$1 = 2 a + b$$\n",
    "\n",
    "$$3 = 3 a + b$$\n",
    "\n",
    "$$ \\begin{bmatrix}\n",
    "1 \\\\\n",
    "3\n",
    "\\end{bmatrix} = \\begin{bmatrix}\n",
    "2 & 1 \\\\\n",
    "3 & 1 \\\\\n",
    "\\end{bmatrix} \\begin{bmatrix}\n",
    "a \\\\\n",
    "b\n",
    "\\end{bmatrix}$$\n",
    "\n",
    "Ce qu'on peut écrire plus généralement sous forme d'une équation matricielle :\n",
    "\n",
    "$$y = A v$$\n",
    "\n",
    "$y$ et $v$ sont des vecteurs et $A$ est une matrice :\n",
    "\n",
    "$$y = \\begin{bmatrix}\n",
    "1 \\\\\n",
    "3\n",
    "\\end{bmatrix}$$\n",
    "\n",
    "$$v = \\begin{bmatrix}\n",
    "a \\\\\n",
    "b\n",
    "\\end{bmatrix}$$\n",
    "\n",
    "$$A = \\begin{bmatrix}\n",
    "2 & 1 \\\\\n",
    "3 & 1 \\\\\n",
    "\\end{bmatrix}$$"
   ]
  },
  {
   "cell_type": "markdown",
   "id": "2b89cf18",
   "metadata": {},
   "source": [
    "Pour trouver $a$ et $b$, ce qui est équivalent à trouver le vecteur $v$, regardons comment on peut résoudre une simple équation comme :\n",
    "\n",
    "$$1 = 2 x$$\n",
    "\n",
    "On multiplie les deux côtés de l'équation par l'inverse de $2$, c'est-à-dire $2^{-1}$ :\n",
    "\n",
    "$$2^{-1} \\times 1 = 2^{-1} \\times 2 x$$\n",
    "\n",
    "Comme $2 \\times 2^{-1}$ = $1$, on a :\n",
    "\n",
    "$$x = \\frac{1}{2}$$"
   ]
  },
  {
   "cell_type": "markdown",
   "id": "030f8e15",
   "metadata": {},
   "source": [
    "Par analogie, multiplier l'équation matricielle précédente par l'inverse de $A$, c'est-à-dire $A^{-1}$, des deux côtés amène à cela :\n",
    "\n",
    "$$y = A v$$\n",
    "\n",
    "$$A^{-1} y = A^{-1} A v$$\n",
    "\n",
    "La quantité $A^{-1} A$ est la [matrice identitée](https://fr.wikipedia.org/wiki/Matrice_identit%C3%A9), ainsi le vecteur $v$ devient :\n",
    "\n",
    "$$v = A^{-1} y$$\n",
    "\n",
    "NumPy contient des fonctions qui permettent de calculer l'inverse d'une matrice."
   ]
  },
  {
   "cell_type": "code",
   "execution_count": 16,
   "id": "2a141f0c",
   "metadata": {},
   "outputs": [
    {
     "data": {
      "text/plain": [
       "array([[2, 1],\n",
       "       [3, 1]])"
      ]
     },
     "execution_count": 16,
     "metadata": {},
     "output_type": "execute_result"
    }
   ],
   "source": [
    "A = np.array([[2, 1], [3, 1]])\n",
    "A"
   ]
  },
  {
   "cell_type": "code",
   "execution_count": 18,
   "id": "19f2ddba",
   "metadata": {},
   "outputs": [
    {
     "data": {
      "text/plain": [
       "array([[-1.,  1.],\n",
       "       [ 3., -2.]])"
      ]
     },
     "execution_count": 18,
     "metadata": {},
     "output_type": "execute_result"
    }
   ],
   "source": [
    "Ainv = np.linalg.inv(A)\n",
    "Ainv"
   ]
  },
  {
   "cell_type": "code",
   "execution_count": 19,
   "id": "8851b7ff",
   "metadata": {},
   "outputs": [
    {
     "data": {
      "text/plain": [
       "array([[1.0000000e+00, 0.0000000e+00],\n",
       "       [4.4408921e-16, 1.0000000e+00]])"
      ]
     },
     "execution_count": 19,
     "metadata": {},
     "output_type": "execute_result"
    }
   ],
   "source": [
    "Ainv.dot(A)"
   ]
  },
  {
   "cell_type": "code",
   "execution_count": 21,
   "id": "aa7f4035",
   "metadata": {},
   "outputs": [],
   "source": [
    "y = np.array([1, 3])\n",
    "v = Ainv.dot(y)"
   ]
  },
  {
   "cell_type": "code",
   "execution_count": 22,
   "id": "150f7907",
   "metadata": {},
   "outputs": [
    {
     "data": {
      "text/plain": [
       "array([ 2., -3.])"
      ]
     },
     "execution_count": 22,
     "metadata": {},
     "output_type": "execute_result"
    }
   ],
   "source": [
    "v"
   ]
  },
  {
   "cell_type": "markdown",
   "id": "900f7266",
   "metadata": {},
   "source": [
    "## Avec davantage de données\n",
    "\n",
    "Considérons le cas où plus de deux points sont disponibles."
   ]
  },
  {
   "cell_type": "markdown",
   "id": "964578cc",
   "metadata": {},
   "source": [
    "Si par exemple on a n points, on a dans ce cas $n$ abscisses, $x_1, x_2, ... x_n$ et $n$ ordonnées $y_1, y_2, ... y_n$. Un modèle linéaire simple est une droite et chaque point doit passer par la droite. On peut donc écrire les relations suivantes :\n",
    "$$\\left\\{\\begin{array}{}\n",
    "  y_1 = a x_1 + b\\\\\n",
    "  y_2 = a x_2 + b\\\\\n",
    "  y_3 = a x_3 + b\\\\\n",
    "  ...\\\\\n",
    "  y_n = a x_n + b\n",
    "  \\end{array}\n",
    "  \\right.\n",
    "$$  \n",
    "On se retrouve donc avec une système de $n$ équations à 2 inconnues ($a$ et $b$)."
   ]
  },
  {
   "cell_type": "markdown",
   "id": "5e27eb78",
   "metadata": {},
   "source": [
    "Cette relation peut être écrite sous forme matricielle :\n",
    "\n",
    "$$ \\begin{bmatrix}\n",
    "y_1 \\\\\n",
    "y_2 \\\\\n",
    "... \\\\\n",
    "y_n\n",
    "\\end{bmatrix} = \\begin{bmatrix}\n",
    "x_1 & 1 \\\\\n",
    "x_2 & 1 \\\\\n",
    "... \\\\\n",
    "x_n & 1\n",
    "\\end{bmatrix} \\begin{bmatrix}\n",
    "a \\\\\n",
    "b\n",
    "\\end{bmatrix}$$"
   ]
  },
  {
   "cell_type": "markdown",
   "id": "43a96582",
   "metadata": {},
   "source": [
    "Introduisons les variables ci-dessous pour simplifier l'écriture :\n",
    "\n",
    "$$ y = \\begin{bmatrix}\n",
    "y_1 \\\\\n",
    "y_2 \\\\\n",
    "... \\\\\n",
    "y_n\n",
    "\\end{bmatrix}$$\n",
    "\n",
    "$$ A = \\begin{bmatrix}\n",
    "x_1 & 1 \\\\\n",
    "x_2 & 1 \\\\\n",
    "... \\\\\n",
    "x_n & 1\n",
    "\\end{bmatrix}$$\n",
    "\n",
    "$$ v = \\begin{bmatrix}\n",
    "a \\\\\n",
    "b\n",
    "\\end{bmatrix}$$"
   ]
  },
  {
   "cell_type": "markdown",
   "id": "ea3f0413",
   "metadata": {},
   "source": [
    "Ainsi l'équation précédente peut s'écrire :\n",
    "\n",
    "$$ y = A v$$"
   ]
  },
  {
   "cell_type": "markdown",
   "id": "24b89931",
   "metadata": {},
   "source": [
    "Si $A$ est une matrice carrée (même nombre de lignes et de colonne - par exemple si $n = 2$), $a$ et $b$ peuvent être déterminés de manière exacte :\n",
    "\n",
    "$$ \\begin{bmatrix}\n",
    "a \\\\\n",
    "b\n",
    "\\end{bmatrix} = v = A^{-1} y$$"
   ]
  },
  {
   "cell_type": "markdown",
   "id": "9bb7799b",
   "metadata": {},
   "source": [
    "Dans le cas où $n > 2$, $A$ n'est plus une matrice carrée et elle ne peut pas être inversée. Une solution est de calculer sa matrice pseudo-inverse en multipliant la matrice $A$ par sa transposée $A^T$, ce qui permet d'obtenir une matrice carrée :\n",
    "\n",
    "$$ A^T y = (A^T A) v$$"
   ]
  },
  {
   "cell_type": "markdown",
   "id": "22628638",
   "metadata": {},
   "source": [
    "La matrice $(A^T A)$ à droite peut être éliminée en la multipliant par son inverse $(A^T A)^{-1}$:\n",
    "\n",
    "$$ (A^T A)^{-1} A^T y = (A^T A)^{-1} (A^T A) v$$"
   ]
  },
  {
   "cell_type": "markdown",
   "id": "fab06be9",
   "metadata": {},
   "source": [
    "Le terme $(A^T A)^{-1} (A^T A)$ se simplifie car il est égal à la matrice unitée : $(A^T A)^{-1} (A^T A) = I$"
   ]
  },
  {
   "cell_type": "markdown",
   "id": "1bc6031f",
   "metadata": {},
   "source": [
    "Après simplification on obtient $a$ et $b$:\n",
    "\n",
    "$$ v = \\begin{bmatrix}\n",
    "a \\\\\n",
    "b\n",
    "\\end{bmatrix} = (A^T A)^{-1} A^T y$$"
   ]
  },
  {
   "cell_type": "markdown",
   "id": "d3c44815",
   "metadata": {},
   "source": [
    "##### Exemple"
   ]
  },
  {
   "cell_type": "code",
   "execution_count": 23,
   "id": "832f9e7e",
   "metadata": {},
   "outputs": [
    {
     "data": {
      "image/png": "[encoded data removed]",
      "text/plain": [
       "<Figure size 432x288 with 1 Axes>"
      ]
     },
     "metadata": {
      "needs_background": "light"
     },
     "output_type": "display_data"
    }
   ],
   "source": [
    "x = np.array([-0.40033681,  1.12710083,  1.51535892,  3.13012734,  3.07744676,\n",
    "        4.25275393,  6.535855  ,  4.23343874,  8.048823  ,  7.38773014,\n",
    "        9.91933651, 12.69142755, 11.61959316, 12.20667906, 13.98048109,\n",
    "       16.07602619, 16.31351797, 17.31102756, 17.74511659, 17.66863483])\n",
    "\n",
    "y = np.array([ 0.7261771 ,  2.86206199, -0.2489528 ,  0.63325248,  4.49244568,\n",
    "        5.30531409, 13.6101148 ,  8.48395548, 10.42996366, 14.74172737,\n",
    "       15.88897483, 23.76571743, 23.61602269, 20.17880228, 25.85779471,\n",
    "       30.11114371, 26.88735809, 28.57977723, 30.99383456, 33.03676545])\n",
    "\n",
    "plt.scatter(x, y, color='red')\n",
    "plt.show()"
   ]
  },
  {
   "cell_type": "markdown",
   "id": "9cf082a9",
   "metadata": {},
   "source": [
    "On commence par créer la matrice A sous la forme :\n",
    "\n",
    "$$A = \\begin{bmatrix}\n",
    "x_1 & 1 \\\\\n",
    "x_2 & 1 \\\\\n",
    "... \\\\\n",
    "x_n & 1\n",
    "\\end{bmatrix}$$"
   ]
  },
  {
   "cell_type": "code",
   "execution_count": 24,
   "id": "91f722eb",
   "metadata": {},
   "outputs": [
    {
     "data": {
      "text/plain": [
       "array([[-0.40033681,  1.        ],\n",
       "       [ 1.12710083,  1.        ],\n",
       "       [ 1.51535892,  1.        ],\n",
       "       [ 3.13012734,  1.        ],\n",
       "       [ 3.07744676,  1.        ],\n",
       "       [ 4.25275393,  1.        ],\n",
       "       [ 6.535855  ,  1.        ],\n",
       "       [ 4.23343874,  1.        ],\n",
       "       [ 8.048823  ,  1.        ],\n",
       "       [ 7.38773014,  1.        ],\n",
       "       [ 9.91933651,  1.        ],\n",
       "       [12.69142755,  1.        ],\n",
       "       [11.61959316,  1.        ],\n",
       "       [12.20667906,  1.        ],\n",
       "       [13.98048109,  1.        ],\n",
       "       [16.07602619,  1.        ],\n",
       "       [16.31351797,  1.        ],\n",
       "       [17.31102756,  1.        ],\n",
       "       [17.74511659,  1.        ],\n",
       "       [17.66863483,  1.        ]])"
      ]
     },
     "execution_count": 24,
     "metadata": {},
     "output_type": "execute_result"
    }
   ],
   "source": [
    "x_colonnes = x.reshape((-1, 1))\n",
    "ones = np.ones((len(x), 1))\n",
    "A = np.append(x_colonnes, ones, axis=1)\n",
    "A"
   ]
  },
  {
   "cell_type": "markdown",
   "id": "892a617a",
   "metadata": {},
   "source": [
    "On calcule ensuite la matrice pseudo-inverse de $A$ : $(A^TA)^{-1}$, et on la multiplie par $A^T$:\n",
    "\n",
    "$$(A^T A)^{-1} A^T$$"
   ]
  },
  {
   "cell_type": "code",
   "execution_count": 25,
   "id": "b2012cda",
   "metadata": {},
   "outputs": [
    {
     "data": {
      "text/plain": [
       "array([[-0.01354453, -0.01139449, -0.01084797, -0.008575  , -0.00864916,\n",
       "        -0.00699478, -0.00378106, -0.00702197, -0.00165139, -0.00258195,\n",
       "         0.00098157,  0.0048836 ,  0.00337487,  0.00420126,  0.00669809,\n",
       "         0.0096478 ,  0.0099821 ,  0.01138621,  0.01199723,  0.01188958],\n",
       "       [ 0.17490775,  0.15508006,  0.15004008,  0.12907875,  0.1297626 ,\n",
       "         0.11450593,  0.08486897,  0.11475666,  0.06522911,  0.07381077,\n",
       "         0.04094796,  0.00496341,  0.01887691,  0.01125594, -0.0117698 ,\n",
       "        -0.0389721 , -0.04205498, -0.05500366, -0.06063858, -0.05964577]])"
      ]
     },
     "execution_count": 25,
     "metadata": {},
     "output_type": "execute_result"
    }
   ],
   "source": [
    "At = A.T\n",
    "pseudo_inv = np.linalg.inv(At.dot(A)).dot(At)\n",
    "pseudo_inv"
   ]
  },
  {
   "cell_type": "markdown",
   "id": "6d21f824",
   "metadata": {},
   "source": [
    "On calcule ensuite $a$ et $b$ en multipliant le résultat précédent par $y$ :\n",
    "\n",
    "$$\\begin{bmatrix}\n",
    "a \\\\\n",
    "b\n",
    "\\end{bmatrix} = (A^T A)^{-1} A^T y$$"
   ]
  },
  {
   "cell_type": "code",
   "execution_count": 26,
   "id": "53c9741c",
   "metadata": {},
   "outputs": [
    {
     "data": {
      "image/png": "[encoded data removed]",
      "text/plain": [
       "<Figure size 432x288 with 1 Axes>"
      ]
     },
     "metadata": {
      "needs_background": "light"
     },
     "output_type": "display_data"
    }
   ],
   "source": [
    "(a, b) = pseudo_inv.dot(y)\n",
    "\n",
    "x_points = [0, 20]\n",
    "y_points = [a*x + b for x in x_points]\n",
    "plt.scatter(x, y, color='red')\n",
    "plt.plot(x_points, y_points)\n",
    "plt.show()"
   ]
  },
  {
   "cell_type": "markdown",
   "id": "7ef91017",
   "metadata": {},
   "source": [
    "## Précision du modèle obtenu\n",
    "\n",
    "La précision du modèle obtenu peut être mesurée en calculant l'erreur quadratique moyenne entre les valeurs prédites et les valeurs obtenues par le modèle.  \n",
    "Pour cela, on calcule l'écart au carré entre la valeur que donne le modèle pour chaque point et la valeur vraie :  \n",
    "  \n",
    "  Erreur pour le point n°1 : $\\epsilon_1 = ((ax_1+b) - y_1)^2$  \n",
    "  Erreur pour le point n°2 : $\\epsilon_2 = ((ax_2+b) - y_2)^2$  \n",
    "  ...  \n",
    "  Erreur pour le point n°n : $\\epsilon_n = ((ax_n+b) - y_n)^2$  \n",
    "\n",
    "Puis on ajoute toutes les erreurs et on calcule la moyenne. On obtient l'erreur quadratique moyenne :\n",
    "$$ \\epsilon = \\frac{1}{n} \\sum_{i=1}^{n} (a x_i + b - y_i)^2 $$\n",
    "\n"
   ]
  },
  {
   "cell_type": "code",
   "execution_count": 27,
   "id": "4610b731",
   "metadata": {},
   "outputs": [
    {
     "data": {
      "text/plain": [
       "2.125412002520472"
      ]
     },
     "execution_count": 27,
     "metadata": {},
     "output_type": "execute_result"
    }
   ],
   "source": [
    "epsilon = ((a*x + b - y)**2).mean()     # Calcule la variance (erreur quadratique moyenne)\n",
    "math.sqrt(epsilon)                      # Calcule l'écart type"
   ]
  },
  {
   "cell_type": "markdown",
   "id": "73946a3b",
   "metadata": {},
   "source": [
    "L'erreur calculée vaut environ 2.13. Cela signifie que les points se situent dans un intervalle de $\\pm$ 2.13 autour de la droite approximée.  \n",
    "Regardons cela sous forme d'un graphique :"
   ]
  },
  {
   "cell_type": "code",
   "execution_count": 28,
   "id": "35f85674",
   "metadata": {},
   "outputs": [
    {
     "data": {
      "image/png": "[encoded data removed]",
      "text/plain": [
       "<Figure size 432x288 with 1 Axes>"
      ]
     },
     "metadata": {
      "needs_background": "light"
     },
     "output_type": "display_data"
    }
   ],
   "source": [
    "(a, b) = pseudo_inv.dot(y)\n",
    "\n",
    "x_points = [0, 20]\n",
    "y_points = [a*x + b for x in x_points]\n",
    "\n",
    "intervalle_haut = [a*x + b+epsilon for x in x_points]\n",
    "intervalle_bas = [a*x + b-epsilon for x in x_points]\n",
    "\n",
    "plt.scatter(x, y, color='red')\n",
    "plt.plot(x_points, y_points)\n",
    "plt.plot(x_points, intervalle_haut,color='green')\n",
    "plt.plot(x_points, intervalle_bas,color='green')\n",
    "plt.show()"
   ]
  },
  {
   "cell_type": "markdown",
   "id": "318f9f2d",
   "metadata": {},
   "source": [
    "# Exercice"
   ]
  },
  {
   "cell_type": "code",
   "execution_count": 29,
   "id": "3876848f",
   "metadata": {},
   "outputs": [],
   "source": [
    "import pandas as pd"
   ]
  },
  {
   "cell_type": "code",
   "execution_count": 30,
   "id": "af9665be",
   "metadata": {},
   "outputs": [],
   "source": [
    "import numpy as np\n",
    "import math\n",
    "import matplotlib.pyplot as plt"
   ]
  },
  {
   "cell_type": "code",
   "execution_count": 38,
   "id": "fc483418",
   "metadata": {},
   "outputs": [],
   "source": [
    "df = pd.read_csv('Ex1_Datas.csv',sep=\",\",header=None)"
   ]
  },
  {
   "cell_type": "code",
   "execution_count": 39,
   "id": "8becaa59",
   "metadata": {},
   "outputs": [
    {
     "data": {
      "text/html": [
       "<div>\n",
       "<style scoped>\n",
       "    .dataframe tbody tr th:only-of-type {\n",
       "        vertical-align: middle;\n",
       "    }\n",
       "\n",
       "    .dataframe tbody tr th {\n",
       "        vertical-align: top;\n",
       "    }\n",
       "\n",
       "    .dataframe thead th {\n",
       "        text-align: right;\n",
       "    }\n",
       "</style>\n",
       "<table border=\"1\" class=\"dataframe\">\n",
       "  <thead>\n",
       "    <tr style=\"text-align: right;\">\n",
       "      <th></th>\n",
       "      <th>0</th>\n",
       "      <th>1</th>\n",
       "    </tr>\n",
       "  </thead>\n",
       "  <tbody>\n",
       "    <tr>\n",
       "      <th>0</th>\n",
       "      <td>6.1101</td>\n",
       "      <td>17.59200</td>\n",
       "    </tr>\n",
       "    <tr>\n",
       "      <th>1</th>\n",
       "      <td>5.5277</td>\n",
       "      <td>9.13020</td>\n",
       "    </tr>\n",
       "    <tr>\n",
       "      <th>2</th>\n",
       "      <td>8.5186</td>\n",
       "      <td>13.66200</td>\n",
       "    </tr>\n",
       "    <tr>\n",
       "      <th>3</th>\n",
       "      <td>7.0032</td>\n",
       "      <td>11.85400</td>\n",
       "    </tr>\n",
       "    <tr>\n",
       "      <th>4</th>\n",
       "      <td>5.8598</td>\n",
       "      <td>6.82330</td>\n",
       "    </tr>\n",
       "    <tr>\n",
       "      <th>...</th>\n",
       "      <td>...</td>\n",
       "      <td>...</td>\n",
       "    </tr>\n",
       "    <tr>\n",
       "      <th>92</th>\n",
       "      <td>5.8707</td>\n",
       "      <td>7.20290</td>\n",
       "    </tr>\n",
       "    <tr>\n",
       "      <th>93</th>\n",
       "      <td>5.3054</td>\n",
       "      <td>1.98690</td>\n",
       "    </tr>\n",
       "    <tr>\n",
       "      <th>94</th>\n",
       "      <td>8.2934</td>\n",
       "      <td>0.14454</td>\n",
       "    </tr>\n",
       "    <tr>\n",
       "      <th>95</th>\n",
       "      <td>13.3940</td>\n",
       "      <td>9.05510</td>\n",
       "    </tr>\n",
       "    <tr>\n",
       "      <th>96</th>\n",
       "      <td>5.4369</td>\n",
       "      <td>0.61705</td>\n",
       "    </tr>\n",
       "  </tbody>\n",
       "</table>\n",
       "<p>97 rows × 2 columns</p>\n",
       "</div>"
      ],
      "text/plain": [
       "          0         1\n",
       "0    6.1101  17.59200\n",
       "1    5.5277   9.13020\n",
       "2    8.5186  13.66200\n",
       "3    7.0032  11.85400\n",
       "4    5.8598   6.82330\n",
       "..      ...       ...\n",
       "92   5.8707   7.20290\n",
       "93   5.3054   1.98690\n",
       "94   8.2934   0.14454\n",
       "95  13.3940   9.05510\n",
       "96   5.4369   0.61705\n",
       "\n",
       "[97 rows x 2 columns]"
      ]
     },
     "execution_count": 39,
     "metadata": {},
     "output_type": "execute_result"
    }
   ],
   "source": [
    "df"
   ]
  },
  {
   "cell_type": "code",
   "execution_count": 40,
   "id": "c06858a3",
   "metadata": {},
   "outputs": [],
   "source": [
    "# Enregistrement des données dans au format NumPy dans les variables X et Y \n",
    "# X : Taille de la population\n",
    "# Y : Profit effectué\n",
    "X = np.array(df.iloc[0:len(df),0])\n",
    "Y = np.array(df.iloc[0:len(df),1])"
   ]
  },
  {
   "cell_type": "code",
   "execution_count": 42,
   "id": "4150bd32",
   "metadata": {},
   "outputs": [
    {
     "data": {
      "image/png": "[encoded data removed]",
      "text/plain": [
       "<Figure size 432x288 with 1 Axes>"
      ]
     },
     "metadata": {
      "needs_background": "light"
     },
     "output_type": "display_data"
    }
   ],
   "source": [
    "plt.plot(X,Y, 'ro')\n",
    "plt.xlabel('Taille de la population')\n",
    "plt.ylabel('Profit effectué')\n",
    "plt.show()"
   ]
  },
  {
   "cell_type": "code",
   "execution_count": 45,
   "id": "34c8e2a9",
   "metadata": {
    "scrolled": true
   },
   "outputs": [
    {
     "data": {
      "text/plain": [
       "array([[ 6.1101,  1.    ],\n",
       "       [ 5.5277,  1.    ],\n",
       "       [ 8.5186,  1.    ],\n",
       "       [ 7.0032,  1.    ],\n",
       "       [ 5.8598,  1.    ],\n",
       "       [ 8.3829,  1.    ],\n",
       "       [ 7.4764,  1.    ],\n",
       "       [ 8.5781,  1.    ],\n",
       "       [ 6.4862,  1.    ],\n",
       "       [ 5.0546,  1.    ],\n",
       "       [ 5.7107,  1.    ],\n",
       "       [14.164 ,  1.    ],\n",
       "       [ 5.734 ,  1.    ],\n",
       "       [ 8.4084,  1.    ],\n",
       "       [ 5.6407,  1.    ],\n",
       "       [ 5.3794,  1.    ],\n",
       "       [ 6.3654,  1.    ],\n",
       "       [ 5.1301,  1.    ],\n",
       "       [ 6.4296,  1.    ],\n",
       "       [ 7.0708,  1.    ],\n",
       "       [ 6.1891,  1.    ],\n",
       "       [20.27  ,  1.    ],\n",
       "       [ 5.4901,  1.    ],\n",
       "       [ 6.3261,  1.    ],\n",
       "       [ 5.5649,  1.    ],\n",
       "       [18.945 ,  1.    ],\n",
       "       [12.828 ,  1.    ],\n",
       "       [10.957 ,  1.    ],\n",
       "       [13.176 ,  1.    ],\n",
       "       [22.203 ,  1.    ],\n",
       "       [ 5.2524,  1.    ],\n",
       "       [ 6.5894,  1.    ],\n",
       "       [ 9.2482,  1.    ],\n",
       "       [ 5.8918,  1.    ],\n",
       "       [ 8.2111,  1.    ],\n",
       "       [ 7.9334,  1.    ],\n",
       "       [ 8.0959,  1.    ],\n",
       "       [ 5.6063,  1.    ],\n",
       "       [12.836 ,  1.    ],\n",
       "       [ 6.3534,  1.    ],\n",
       "       [ 5.4069,  1.    ],\n",
       "       [ 6.8825,  1.    ],\n",
       "       [11.708 ,  1.    ],\n",
       "       [ 5.7737,  1.    ],\n",
       "       [ 7.8247,  1.    ],\n",
       "       [ 7.0931,  1.    ],\n",
       "       [ 5.0702,  1.    ],\n",
       "       [ 5.8014,  1.    ],\n",
       "       [11.7   ,  1.    ],\n",
       "       [ 5.5416,  1.    ],\n",
       "       [ 7.5402,  1.    ],\n",
       "       [ 5.3077,  1.    ],\n",
       "       [ 7.4239,  1.    ],\n",
       "       [ 7.6031,  1.    ],\n",
       "       [ 6.3328,  1.    ],\n",
       "       [ 6.3589,  1.    ],\n",
       "       [ 6.2742,  1.    ],\n",
       "       [ 5.6397,  1.    ],\n",
       "       [ 9.3102,  1.    ],\n",
       "       [ 9.4536,  1.    ],\n",
       "       [ 8.8254,  1.    ],\n",
       "       [ 5.1793,  1.    ],\n",
       "       [21.279 ,  1.    ],\n",
       "       [14.908 ,  1.    ],\n",
       "       [18.959 ,  1.    ],\n",
       "       [ 7.2182,  1.    ],\n",
       "       [ 8.2951,  1.    ],\n",
       "       [10.236 ,  1.    ],\n",
       "       [ 5.4994,  1.    ],\n",
       "       [20.341 ,  1.    ],\n",
       "       [10.136 ,  1.    ],\n",
       "       [ 7.3345,  1.    ],\n",
       "       [ 6.0062,  1.    ],\n",
       "       [ 7.2259,  1.    ],\n",
       "       [ 5.0269,  1.    ],\n",
       "       [ 6.5479,  1.    ],\n",
       "       [ 7.5386,  1.    ],\n",
       "       [ 5.0365,  1.    ],\n",
       "       [10.274 ,  1.    ],\n",
       "       [ 5.1077,  1.    ],\n",
       "       [ 5.7292,  1.    ],\n",
       "       [ 5.1884,  1.    ],\n",
       "       [ 6.3557,  1.    ],\n",
       "       [ 9.7687,  1.    ],\n",
       "       [ 6.5159,  1.    ],\n",
       "       [ 8.5172,  1.    ],\n",
       "       [ 9.1802,  1.    ],\n",
       "       [ 6.002 ,  1.    ],\n",
       "       [ 5.5204,  1.    ],\n",
       "       [ 5.0594,  1.    ],\n",
       "       [ 5.7077,  1.    ],\n",
       "       [ 7.6366,  1.    ],\n",
       "       [ 5.8707,  1.    ],\n",
       "       [ 5.3054,  1.    ],\n",
       "       [ 8.2934,  1.    ],\n",
       "       [13.394 ,  1.    ],\n",
       "       [ 5.4369,  1.    ]])"
      ]
     },
     "execution_count": 45,
     "metadata": {},
     "output_type": "execute_result"
    }
   ],
   "source": [
    "x_colonnes = X.reshape((-1, 1))\n",
    "ones = np.ones((len(X), 1))\n",
    "A = np.append(x_colonnes, ones, axis=1)\n",
    "A"
   ]
  },
  {
   "cell_type": "code",
   "execution_count": 48,
   "id": "3251a8b1",
   "metadata": {},
   "outputs": [],
   "source": [
    "At = A.T\n",
    "pseudo_inv = np.linalg.inv(At.dot(A)).dot(At)"
   ]
  },
  {
   "cell_type": "code",
   "execution_count": 53,
   "id": "03e250d5",
   "metadata": {},
   "outputs": [
    {
     "data": {
      "image/png": "[encoded data removed]",
      "text/plain": [
       "<Figure size 432x288 with 1 Axes>"
      ]
     },
     "metadata": {
      "needs_background": "light"
     },
     "output_type": "display_data"
    }
   ],
   "source": [
    "(a, b) = pseudo_inv.dot(Y)\n",
    "X_points = [0, 25]\n",
    "Y_points = [a*X+b for X in X_points]\n",
    "plt.scatter(X, Y, color='red')\n",
    "plt.plot(X_points, Y_points)\n",
    "plt.xlabel(\"Taille de la population\")\n",
    "plt.ylabel(\"Profit effectué\")\n",
    "plt.show()"
   ]
  },
  {
   "cell_type": "code",
   "execution_count": 55,
   "id": "7e78e9bc",
   "metadata": {},
   "outputs": [
    {
     "data": {
      "text/plain": [
       "2.9923139460876023"
      ]
     },
     "execution_count": 55,
     "metadata": {},
     "output_type": "execute_result"
    }
   ],
   "source": [
    "epsilon = ((a*X + b - Y)**2).mean()\n",
    "math.sqrt(epsilon)"
   ]
  },
  {
   "cell_type": "code",
   "execution_count": 56,
   "id": "3ca318d3",
   "metadata": {},
   "outputs": [
    {
     "data": {
      "image/png": "[encoded data removed]",
      "text/plain": [
       "<Figure size 432x288 with 1 Axes>"
      ]
     },
     "metadata": {
      "needs_background": "light"
     },
     "output_type": "display_data"
    }
   ],
   "source": [
    "(a, b) = pseudo_inv.dot(Y)\n",
    "\n",
    "X_points = [0, 25]\n",
    "Y_points = [a*X + b for X in X_points]\n",
    "\n",
    "intervalle_haut = [a*X + b+epsilon for X in X_points]\n",
    "intervalle_bas = [a*X + b-epsilon for X in X_points]\n",
    "\n",
    "plt.scatter(X, Y, color='red')\n",
    "plt.plot(X_points, Y_points)\n",
    "plt.plot(X_points, intervalle_haut,color='green')\n",
    "plt.plot(X_points, intervalle_bas,color='green')\n",
    "plt.show()"
   ]
  },
  {
   "cell_type": "markdown",
   "id": "78181c41",
   "metadata": {},
   "source": [
    "## Extension du modèle\n",
    "\n",
    "Dans le cas où une droite n'approxime pas correctement les données, un modèle plus complexe peut être utlisé. Par exemple, un modèle quadratique utilise une parabole :\n",
    "\n",
    "$$ y_i = a {x_i}^2 + b x_i + c$$"
   ]
  },
  {
   "cell_type": "markdown",
   "id": "540eca38",
   "metadata": {},
   "source": [
    "Sous forme matricielle :\n",
    "\n",
    "$$ \\begin{bmatrix}\n",
    "y_1 \\\\\n",
    "y_2 \\\\\n",
    "... \\\\\n",
    "y_n\n",
    "\\end{bmatrix} = \\begin{bmatrix}\n",
    "{x_1}^2 & x_1 & 1 \\\\\n",
    "{x_2}^2 & x_2 & 1 \\\\\n",
    "... \\\\\n",
    "{x_n}^2 & x_n & 1\n",
    "\\end{bmatrix} \\begin{bmatrix}\n",
    "a \\\\\n",
    "b \\\\\n",
    "c\n",
    "\\end{bmatrix}$$"
   ]
  },
  {
   "cell_type": "markdown",
   "id": "7033ea13",
   "metadata": {},
   "source": [
    "Dans ce cas, la matrice $A$ est :\n",
    "\n",
    "$$ A = \\begin{bmatrix}\n",
    "{x_1}^2 & x_1 & 1 \\\\\n",
    "{x_2}^2 & x_2 & 1 \\\\\n",
    "... \\\\\n",
    "{x_n}^2 & x_n & 1\n",
    "\\end{bmatrix}$$"
   ]
  },
  {
   "cell_type": "markdown",
   "id": "a56940a3",
   "metadata": {},
   "source": [
    "Et on peut calculer les coefficients $a$, $b$, et $c$ en utlisant la matrice pseudo-inverse de $A$ :\n",
    "\n",
    "$$ \\begin{bmatrix}\n",
    "a \\\\\n",
    "b \\\\\n",
    "c\n",
    "\\end{bmatrix} = (A^T A)^{-1} A^T y$$"
   ]
  },
  {
   "cell_type": "markdown",
   "id": "81ba2216",
   "metadata": {},
   "source": [
    "## Exemple numérique"
   ]
  },
  {
   "cell_type": "markdown",
   "id": "a19cbec3",
   "metadata": {},
   "source": [
    "Considérons l'exemple suivant. Nous avons 7 points avec les coordonnées suivantes : "
   ]
  },
  {
   "cell_type": "code",
   "execution_count": 57,
   "id": "cf946cae",
   "metadata": {},
   "outputs": [
    {
     "data": {
      "image/png": "[encoded data removed]",
      "text/plain": [
       "<Figure size 432x288 with 1 Axes>"
      ]
     },
     "metadata": {
      "needs_background": "light"
     },
     "output_type": "display_data"
    }
   ],
   "source": [
    "x = np.array([-3.0,-2.0,-1.0,0.0,1.0,2.0,3.0])\n",
    "y = np.array([7.5,3.0,0.5,1.0,3.0,6.0,14.0])\n",
    "\n",
    "plt.scatter(x, y, color='red')\n",
    "plt.show()"
   ]
  },
  {
   "cell_type": "markdown",
   "id": "c3d13d37",
   "metadata": {},
   "source": [
    "On créé la matrice $A$ qui a la forme suivante :\n",
    "$$ A = \\begin{bmatrix}\n",
    "{x_1}^2 & x_1 & 1 \\\\\n",
    "{x_2}^2 & x_2 & 1 \\\\\n",
    "... \\\\\n",
    "{x_n}^2 & x_n & 1\n",
    "\\end{bmatrix}$$"
   ]
  },
  {
   "cell_type": "code",
   "execution_count": 58,
   "id": "de321e6f",
   "metadata": {},
   "outputs": [
    {
     "data": {
      "text/plain": [
       "array([[ 9., -3.,  1.],\n",
       "       [ 4., -2.,  1.],\n",
       "       [ 1., -1.,  1.],\n",
       "       [ 0.,  0.,  1.],\n",
       "       [ 1.,  1.,  1.],\n",
       "       [ 4.,  2.,  1.],\n",
       "       [ 9.,  3.,  1.]])"
      ]
     },
     "execution_count": 58,
     "metadata": {},
     "output_type": "execute_result"
    }
   ],
   "source": [
    "x_colonnes = x.reshape((-1, 1))\n",
    "\n",
    "A = np.append(x_colonnes, x_colonnes**2, axis=1)\n",
    "A = A[:,[1,0]]\n",
    "ones = np.ones((len(x), 1))\n",
    "A = np.append(A, ones, axis=1)\n",
    "A"
   ]
  },
  {
   "cell_type": "markdown",
   "id": "9d7cf4c8",
   "metadata": {},
   "source": [
    "On calcule ensuite $a$ et $b$ en utilisant la formule :\n",
    "\n",
    "$$\\begin{bmatrix}\n",
    "a \\\\\n",
    "b \\\\\n",
    "c\n",
    "\\end{bmatrix} = (A^T A)^{-1} A^T y$$"
   ]
  },
  {
   "cell_type": "code",
   "execution_count": 59,
   "id": "721023ab",
   "metadata": {},
   "outputs": [],
   "source": [
    "At = A.T\n",
    "pseudo_inv = np.linalg.inv(At.dot(A)).dot(At)\n",
    "(a, b, c) = pseudo_inv.dot(y)"
   ]
  },
  {
   "cell_type": "code",
   "execution_count": 60,
   "id": "c3f9aa61",
   "metadata": {},
   "outputs": [
    {
     "data": {
      "image/png": "[encoded data removed]",
      "text/plain": [
       "<Figure size 432x288 with 1 Axes>"
      ]
     },
     "metadata": {
      "needs_background": "light"
     },
     "output_type": "display_data"
    }
   ],
   "source": [
    "x_ = np.linspace(-3.0,3.0,num=100)\n",
    "parabole = a*x_**2 + b*x_ + c\n",
    "plt.scatter(x, y, color='red')\n",
    "plt.plot(x_, parabole,color='blue',linewidth=0.5)\n",
    "plt.show()"
   ]
  },
  {
   "cell_type": "markdown",
   "id": "0b3ebf48",
   "metadata": {},
   "source": [
    "Pour calculer l'erreur quadratique moyenne, on utlise la formule :\n",
    "$$ \\epsilon = \\frac{1}{n} \\sum_{i=1}^{n} (a x^2_i + bx_i + c - y_i)^2 $$"
   ]
  },
  {
   "cell_type": "code",
   "execution_count": 61,
   "id": "64e6a94f",
   "metadata": {},
   "outputs": [
    {
     "data": {
      "text/plain": [
       "0.46838846602157136"
      ]
     },
     "execution_count": 61,
     "metadata": {},
     "output_type": "execute_result"
    }
   ],
   "source": [
    "epsilon = ((a*x**2 + b*x + c - y)**2).mean()    # Calcule la variance (erreur quadratique moyenne)\n",
    "math.sqrt(epsilon)                              # Calcule l'écart type"
   ]
  },
  {
   "cell_type": "code",
   "execution_count": 64,
   "id": "baae0419",
   "metadata": {},
   "outputs": [
    {
     "data": {
      "image/png": "[encoded data removed]",
      "text/plain": [
       "<Figure size 432x288 with 1 Axes>"
      ]
     },
     "metadata": {
      "needs_background": "light"
     },
     "output_type": "display_data"
    }
   ],
   "source": [
    "(a, b, c) = pseudo_inv.dot(y)\n",
    "\n",
    "intervalle_haut = [a*X**2 + b*X + c+epsilon for X in x_]\n",
    "intervalle_bas = [a*X**2 + b*X + c-epsilon for X in x_]\n",
    "\n",
    "plt.scatter(x, y, color='red')\n",
    "plt.plot(x_, parabole, color='blue', linewidth=0.5)\n",
    "plt.plot(x_, intervalle_haut,color='green')\n",
    "plt.plot(x_, intervalle_bas,color='green')\n",
    "plt.show()"
   ]
  },
  {
   "cell_type": "code",
   "execution_count": null,
   "id": "e0383d79",
   "metadata": {},
   "outputs": [],
   "source": []
  }
 ],
 "metadata": {
  "kernelspec": {
   "display_name": "Python 3 (ipykernel)",
   "language": "python",
   "name": "python3"
  },
  "language_info": {
   "codemirror_mode": {
    "name": "ipython",
    "version": 3
   },
   "file_extension": ".py",
   "mimetype": "text/x-python",
   "name": "python",
   "nbconvert_exporter": "python",
   "pygments_lexer": "ipython3",
   "version": "3.9.7"
  }
 },
 "nbformat": 4,
 "nbformat_minor": 5
}
