{
 "cells": [
  {
   "cell_type": "markdown",
   "id": "309abf73",
   "metadata": {},
   "source": [
    "# Overfitting"
   ]
  },
  {
   "cell_type": "code",
   "execution_count": 1,
   "id": "f375792a",
   "metadata": {},
   "outputs": [],
   "source": [
    "import pandas as pd\n",
    "pd.options.mode.chained_assignment = None "
   ]
  },
  {
   "cell_type": "code",
   "execution_count": 2,
   "id": "ee81e487",
   "metadata": {},
   "outputs": [],
   "source": [
    "columns = ['mpg', 'cylinders', 'displacement', 'horsepower', 'weight', 'acceleration', 'model year', 'origin', 'car name']"
   ]
  },
  {
   "cell_type": "code",
   "execution_count": 4,
   "id": "8c0dcb4a",
   "metadata": {},
   "outputs": [],
   "source": [
    "cars = pd.read_csv('auto-mpg.data', delim_whitespace=True, names=columns)"
   ]
  },
  {
   "cell_type": "code",
   "execution_count": 5,
   "id": "00e83b01",
   "metadata": {},
   "outputs": [],
   "source": [
    "filtered_cars = cars[cars['horsepower']!= '?']\n",
    "filtered_cars['horsepower'] = filtered_cars['horsepower'].astype(float)"
   ]
  },
  {
   "cell_type": "code",
   "execution_count": 6,
   "id": "295b175b",
   "metadata": {},
   "outputs": [
    {
     "data": {
      "text/html": [
       "<div>\n",
       "<style scoped>\n",
       "    .dataframe tbody tr th:only-of-type {\n",
       "        vertical-align: middle;\n",
       "    }\n",
       "\n",
       "    .dataframe tbody tr th {\n",
       "        vertical-align: top;\n",
       "    }\n",
       "\n",
       "    .dataframe thead th {\n",
       "        text-align: right;\n",
       "    }\n",
       "</style>\n",
       "<table border=\"1\" class=\"dataframe\">\n",
       "  <thead>\n",
       "    <tr style=\"text-align: right;\">\n",
       "      <th></th>\n",
       "      <th>mpg</th>\n",
       "      <th>cylinders</th>\n",
       "      <th>displacement</th>\n",
       "      <th>horsepower</th>\n",
       "      <th>weight</th>\n",
       "      <th>acceleration</th>\n",
       "      <th>model year</th>\n",
       "      <th>origin</th>\n",
       "      <th>car name</th>\n",
       "    </tr>\n",
       "  </thead>\n",
       "  <tbody>\n",
       "    <tr>\n",
       "      <th>0</th>\n",
       "      <td>18.0</td>\n",
       "      <td>8</td>\n",
       "      <td>307.0</td>\n",
       "      <td>130.0</td>\n",
       "      <td>3504.0</td>\n",
       "      <td>12.0</td>\n",
       "      <td>70</td>\n",
       "      <td>1</td>\n",
       "      <td>chevrolet chevelle malibu</td>\n",
       "    </tr>\n",
       "    <tr>\n",
       "      <th>1</th>\n",
       "      <td>15.0</td>\n",
       "      <td>8</td>\n",
       "      <td>350.0</td>\n",
       "      <td>165.0</td>\n",
       "      <td>3693.0</td>\n",
       "      <td>11.5</td>\n",
       "      <td>70</td>\n",
       "      <td>1</td>\n",
       "      <td>buick skylark 320</td>\n",
       "    </tr>\n",
       "    <tr>\n",
       "      <th>2</th>\n",
       "      <td>18.0</td>\n",
       "      <td>8</td>\n",
       "      <td>318.0</td>\n",
       "      <td>150.0</td>\n",
       "      <td>3436.0</td>\n",
       "      <td>11.0</td>\n",
       "      <td>70</td>\n",
       "      <td>1</td>\n",
       "      <td>plymouth satellite</td>\n",
       "    </tr>\n",
       "    <tr>\n",
       "      <th>3</th>\n",
       "      <td>16.0</td>\n",
       "      <td>8</td>\n",
       "      <td>304.0</td>\n",
       "      <td>150.0</td>\n",
       "      <td>3433.0</td>\n",
       "      <td>12.0</td>\n",
       "      <td>70</td>\n",
       "      <td>1</td>\n",
       "      <td>amc rebel sst</td>\n",
       "    </tr>\n",
       "    <tr>\n",
       "      <th>4</th>\n",
       "      <td>17.0</td>\n",
       "      <td>8</td>\n",
       "      <td>302.0</td>\n",
       "      <td>140.0</td>\n",
       "      <td>3449.0</td>\n",
       "      <td>10.5</td>\n",
       "      <td>70</td>\n",
       "      <td>1</td>\n",
       "      <td>ford torino</td>\n",
       "    </tr>\n",
       "  </tbody>\n",
       "</table>\n",
       "</div>"
      ],
      "text/plain": [
       "    mpg  cylinders  displacement  horsepower  weight  acceleration  \\\n",
       "0  18.0          8         307.0       130.0  3504.0          12.0   \n",
       "1  15.0          8         350.0       165.0  3693.0          11.5   \n",
       "2  18.0          8         318.0       150.0  3436.0          11.0   \n",
       "3  16.0          8         304.0       150.0  3433.0          12.0   \n",
       "4  17.0          8         302.0       140.0  3449.0          10.5   \n",
       "\n",
       "   model year  origin                   car name  \n",
       "0          70       1  chevrolet chevelle malibu  \n",
       "1          70       1          buick skylark 320  \n",
       "2          70       1         plymouth satellite  \n",
       "3          70       1              amc rebel sst  \n",
       "4          70       1                ford torino  "
      ]
     },
     "execution_count": 6,
     "metadata": {},
     "output_type": "execute_result"
    }
   ],
   "source": [
    "filtered_cars.head()"
   ]
  },
  {
   "cell_type": "markdown",
   "id": "390a435f",
   "metadata": {},
   "source": [
    "# Biais and variance"
   ]
  },
  {
   "cell_type": "markdown",
   "id": "5d5940de",
   "metadata": {},
   "source": [
    "_biais describes error which leads to false hypotesis on learning algroithm_ \n",
    "\n",
    "_variance describes error due to varaiability of predicted values by a model_"
   ]
  },
  {
   "cell_type": "markdown",
   "id": "7c8a14e8",
   "metadata": {},
   "source": [
    "# Function to train a model and calculate biais and variance"
   ]
  },
  {
   "cell_type": "code",
   "execution_count": 7,
   "id": "149f0416",
   "metadata": {},
   "outputs": [],
   "source": [
    "from sklearn.linear_model import LinearRegression\n",
    "from sklearn.metrics import mean_squared_error\n",
    "import numpy as np\n",
    "\n",
    "def train_and_test(cols):\n",
    "    features = filtered_cars[cols]\n",
    "    target = filtered_cars['mpg']\n",
    "    \n",
    "    model = LinearRegression()\n",
    "    model.fit(features, target)\n",
    "    \n",
    "    predictions = model.predict(features)\n",
    "    \n",
    "    mse = mean_squared_error(target, predictions)\n",
    "    variance = np.var(predictions)\n",
    "    return mse, variance"
   ]
  },
  {
   "cell_type": "code",
   "execution_count": 8,
   "id": "2c8ceeae",
   "metadata": {},
   "outputs": [],
   "source": [
    "cyl_mse, cyl_var = train_and_test(['cylinders'])"
   ]
  },
  {
   "cell_type": "code",
   "execution_count": 9,
   "id": "dc7decc0",
   "metadata": {},
   "outputs": [],
   "source": [
    "weight_mse, weight_var = train_and_test(['weight'])"
   ]
  },
  {
   "cell_type": "code",
   "execution_count": 10,
   "id": "849285f1",
   "metadata": {},
   "outputs": [
    {
     "name": "stdout",
     "output_type": "stream",
     "text": [
      "24.020179568155537 36.74255887416014\n"
     ]
    }
   ],
   "source": [
    "print(cyl_mse, cyl_var)"
   ]
  },
  {
   "cell_type": "code",
   "execution_count": 11,
   "id": "f82869ce",
   "metadata": {},
   "outputs": [
    {
     "name": "stdout",
     "output_type": "stream",
     "text": [
      "18.6766165974193 42.08612184489639\n"
     ]
    }
   ],
   "source": [
    "print(weight_mse, weight_var)"
   ]
  },
  {
   "cell_type": "markdown",
   "id": "20d97844",
   "metadata": {},
   "source": [
    "# Multi variate model"
   ]
  },
  {
   "cell_type": "code",
   "execution_count": 13,
   "id": "75c83eee",
   "metadata": {},
   "outputs": [],
   "source": [
    "two_mse, two_var = train_and_test(['cylinders', 'displacement'])\n",
    "three_mse, three_var = train_and_test(['cylinders', 'displacement', 'horsepower'])\n",
    "four_mse, four_var = train_and_test(['cylinders', 'displacement', 'horsepower', 'weight'])\n",
    "five_mse, five_var = train_and_test(['cylinders', 'displacement', 'horsepower', 'weight', 'acceleration'])\n",
    "six_mse, six_var = train_and_test(['cylinders', 'displacement', 'horsepower', 'weight', 'acceleration', 'model year'])\n",
    "seven_mse, seven_var = train_and_test(['cylinders', 'displacement', 'horsepower', 'weight', 'acceleration', 'model year', 'origin'])"
   ]
  },
  {
   "cell_type": "code",
   "execution_count": 14,
   "id": "3f867d1d",
   "metadata": {},
   "outputs": [
    {
     "name": "stdout",
     "output_type": "stream",
     "text": [
      "21.282057055586364 39.48068138672938\n",
      "20.25295483971423 40.509783602601395\n",
      "17.763860571843846 42.998877870471794\n",
      "17.761396105406217 43.00134233690936\n",
      "11.590170981415227 49.172567460900346\n",
      "10.847480945000449 49.91525749731511\n"
     ]
    }
   ],
   "source": [
    "print(two_mse, two_var)\n",
    "print(three_mse, three_var)\n",
    "print(four_mse, four_var)\n",
    "print(five_mse, five_var)\n",
    "print(six_mse, six_var)\n",
    "print(seven_mse, seven_var)"
   ]
  },
  {
   "cell_type": "markdown",
   "id": "c7b2c37c",
   "metadata": {},
   "source": [
    "# Multi variate model with cross validation"
   ]
  },
  {
   "cell_type": "code",
   "execution_count": 15,
   "id": "558b9bf0",
   "metadata": {},
   "outputs": [],
   "source": [
    "from sklearn.model_selection import KFold\n",
    "\n",
    "def train_and_cross_val(cols):\n",
    "    features = filtered_cars[cols]\n",
    "    target = filtered_cars['mpg']\n",
    "    \n",
    "    variance_values = []\n",
    "    mse_values = []\n",
    "    \n",
    "    kf = KFold(n_splits=10, shuffle=True, random_state=3)\n",
    "    \n",
    "    for train_index, test_index in kf.split(filtered_cars):\n",
    "        X_train, X_test = features.iloc[train_index], features.iloc[test_index]\n",
    "        Y_train, Y_test = target.iloc[train_index], target.iloc[test_index]\n",
    "        \n",
    "        model = LinearRegression()\n",
    "        model.fit(X_train, Y_train)\n",
    "        predictions = model.predict(X_test)\n",
    "        \n",
    "        mse = mean_squared_error(Y_test, predictions)\n",
    "        var = np.var(predictions)\n",
    "        \n",
    "        mse_values.append(mse)\n",
    "        variance_values.append(var)\n",
    "    \n",
    "    avg_mse = np.mean(mse_values)\n",
    "    avg_var = np.mean(variance_values)\n",
    "    return avg_mse, avg_var"
   ]
  },
  {
   "cell_type": "code",
   "execution_count": 16,
   "id": "43cb9535",
   "metadata": {},
   "outputs": [
    {
     "name": "stdout",
     "output_type": "stream",
     "text": [
      "21.584370274954374 38.90252531375602\n",
      "20.655622193882955 40.091287956606955\n",
      "18.169683239081888 42.507643643644386\n",
      "18.283038517172056 42.5987363001468\n",
      "12.099685425467118 48.92824696771799\n",
      "11.41813197181206 49.90431373098732\n"
     ]
    }
   ],
   "source": [
    "two_mse, two_var = train_and_cross_val(['cylinders', 'displacement'])\n",
    "three_mse, three_var = train_and_cross_val(['cylinders', 'displacement', 'horsepower'])\n",
    "four_mse, four_var = train_and_cross_val(['cylinders', 'displacement', 'horsepower', 'weight'])\n",
    "five_mse, five_var = train_and_cross_val(['cylinders', 'displacement', 'horsepower', 'weight', 'acceleration'])\n",
    "six_mse, six_var = train_and_cross_val(['cylinders', 'displacement', 'horsepower', 'weight', 'acceleration', 'model year'])\n",
    "seven_mse, seven_var = train_and_cross_val(['cylinders', 'displacement', 'horsepower', 'weight', 'acceleration', 'model year', 'origin'])\n",
    "\n",
    "print(two_mse, two_var)\n",
    "print(three_mse, three_var)\n",
    "print(four_mse, four_var)\n",
    "print(five_mse, five_var)\n",
    "print(six_mse, six_var)\n",
    "print(seven_mse, seven_var)"
   ]
  },
  {
   "cell_type": "markdown",
   "id": "dea32b11",
   "metadata": {},
   "source": [
    "# Graph compromise mse / variance"
   ]
  },
  {
   "cell_type": "code",
   "execution_count": 17,
   "id": "dfbe6efa",
   "metadata": {},
   "outputs": [],
   "source": [
    "import matplotlib.pyplot as plt"
   ]
  },
  {
   "cell_type": "code",
   "execution_count": 18,
   "id": "ae0da4ce",
   "metadata": {},
   "outputs": [
    {
     "data": {
      "image/png": "[encoded data removed]",
      "text/plain": [
       "<Figure size 432x288 with 1 Axes>"
      ]
     },
     "metadata": {
      "needs_background": "light"
     },
     "output_type": "display_data"
    }
   ],
   "source": [
    "plt.scatter([2, 3, 4, 5, 6, 7], [two_mse, three_mse, four_mse, five_mse, six_mse, seven_mse], c='red')\n",
    "plt.scatter([2, 3, 4, 5, 6, 7], [two_var, three_var, four_var, five_var, six_var, seven_var], c='blue')\n",
    "plt.show()"
   ]
  },
  {
   "cell_type": "code",
   "execution_count": null,
   "id": "628370b9",
   "metadata": {},
   "outputs": [],
   "source": []
  }
 ],
 "metadata": {
  "kernelspec": {
   "display_name": "Python 3 (ipykernel)",
   "language": "python",
   "name": "python3"
  },
  "language_info": {
   "codemirror_mode": {
    "name": "ipython",
    "version": 3
   },
   "file_extension": ".py",
   "mimetype": "text/x-python",
   "name": "python",
   "nbconvert_exporter": "python",
   "pygments_lexer": "ipython3",
   "version": "3.9.8"
  }
 },
 "nbformat": 4,
 "nbformat_minor": 5
}
