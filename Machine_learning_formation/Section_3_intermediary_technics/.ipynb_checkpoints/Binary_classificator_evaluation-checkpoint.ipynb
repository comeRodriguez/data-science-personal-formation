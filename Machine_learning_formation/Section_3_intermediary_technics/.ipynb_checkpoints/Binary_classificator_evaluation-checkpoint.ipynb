{
 "cells": [
  {
   "cell_type": "code",
   "execution_count": 2,
   "id": "84ae2c99",
   "metadata": {},
   "outputs": [],
   "source": [
    "import pandas as pd\n",
    "import numpy as np\n",
    "\n",
    "from sklearn.linear_model import LogisticRegression\n",
    "from sklearn.metrics import accuracy_score"
   ]
  },
  {
   "cell_type": "code",
   "execution_count": 3,
   "id": "9e2c64fd",
   "metadata": {},
   "outputs": [],
   "source": [
    "admissions = pd.read_csv(\"admissions.csv\")"
   ]
  },
  {
   "cell_type": "code",
   "execution_count": 4,
   "id": "e3051fa6",
   "metadata": {},
   "outputs": [
    {
     "name": "stdout",
     "output_type": "stream",
     "text": [
      "0    598\n",
      "1     46\n",
      "Name: predicted_label, dtype: int64\n",
      "   admit       gpa         gre  predicted_label\n",
      "0      0  3.177277  594.102992                0\n",
      "1      0  3.412655  631.528607                0\n",
      "2      0  2.728097  553.714399                0\n",
      "3      0  3.093559  551.089985                0\n",
      "4      0  3.141923  537.184894                0\n"
     ]
    }
   ],
   "source": [
    "logistic_regression = LogisticRegression(solver='liblinear')\n",
    "logistic_regression.fit(admissions[['gpa']], admissions['admit'])\n",
    "labels = logistic_regression.predict(admissions[['gpa']])\n",
    "\n",
    "admissions['predicted_label'] = labels\n",
    "\n",
    "print(admissions['predicted_label'].value_counts())\n",
    "print(admissions.headd())"
   ]
  },
  {
   "cell_type": "markdown",
   "id": "60ee7f89",
   "metadata": {},
   "source": [
    "# Accuracy"
   ]
  },
  {
   "cell_type": "code",
   "execution_count": 5,
   "id": "7a881506",
   "metadata": {},
   "outputs": [],
   "source": [
    "admissions.rename(columns={'admit':'actual_label'}, inplace=True)"
   ]
  },
  {
   "cell_type": "code",
   "execution_count": 6,
   "id": "f9b49483",
   "metadata": {},
   "outputs": [
    {
     "data": {
      "text/html": [
       "<div>\n",
       "<style scoped>\n",
       "    .dataframe tbody tr th:only-of-type {\n",
       "        vertical-align: middle;\n",
       "    }\n",
       "\n",
       "    .dataframe tbody tr th {\n",
       "        vertical-align: top;\n",
       "    }\n",
       "\n",
       "    .dataframe thead th {\n",
       "        text-align: right;\n",
       "    }\n",
       "</style>\n",
       "<table border=\"1\" class=\"dataframe\">\n",
       "  <thead>\n",
       "    <tr style=\"text-align: right;\">\n",
       "      <th></th>\n",
       "      <th>actual_label</th>\n",
       "      <th>gpa</th>\n",
       "      <th>gre</th>\n",
       "      <th>predicted_label</th>\n",
       "    </tr>\n",
       "  </thead>\n",
       "  <tbody>\n",
       "    <tr>\n",
       "      <th>0</th>\n",
       "      <td>0</td>\n",
       "      <td>3.177277</td>\n",
       "      <td>594.102992</td>\n",
       "      <td>0</td>\n",
       "    </tr>\n",
       "    <tr>\n",
       "      <th>1</th>\n",
       "      <td>0</td>\n",
       "      <td>3.412655</td>\n",
       "      <td>631.528607</td>\n",
       "      <td>0</td>\n",
       "    </tr>\n",
       "    <tr>\n",
       "      <th>2</th>\n",
       "      <td>0</td>\n",
       "      <td>2.728097</td>\n",
       "      <td>553.714399</td>\n",
       "      <td>0</td>\n",
       "    </tr>\n",
       "    <tr>\n",
       "      <th>3</th>\n",
       "      <td>0</td>\n",
       "      <td>3.093559</td>\n",
       "      <td>551.089985</td>\n",
       "      <td>0</td>\n",
       "    </tr>\n",
       "    <tr>\n",
       "      <th>4</th>\n",
       "      <td>0</td>\n",
       "      <td>3.141923</td>\n",
       "      <td>537.184894</td>\n",
       "      <td>0</td>\n",
       "    </tr>\n",
       "  </tbody>\n",
       "</table>\n",
       "</div>"
      ],
      "text/plain": [
       "   actual_label       gpa         gre  predicted_label\n",
       "0             0  3.177277  594.102992                0\n",
       "1             0  3.412655  631.528607                0\n",
       "2             0  2.728097  553.714399                0\n",
       "3             0  3.093559  551.089985                0\n",
       "4             0  3.141923  537.184894                0"
      ]
     },
     "execution_count": 6,
     "metadata": {},
     "output_type": "execute_result"
    }
   ],
   "source": [
    "admissions.head()"
   ]
  },
  {
   "cell_type": "code",
   "execution_count": 7,
   "id": "ee27d9b6",
   "metadata": {},
   "outputs": [],
   "source": [
    "matches = (admissions['actual_label'] == admissions['predicted_label'])"
   ]
  },
  {
   "cell_type": "code",
   "execution_count": 8,
   "id": "05b71b04",
   "metadata": {},
   "outputs": [
    {
     "data": {
      "text/plain": [
       "0       True\n",
       "1       True\n",
       "2       True\n",
       "3       True\n",
       "4       True\n",
       "       ...  \n",
       "639    False\n",
       "640    False\n",
       "641    False\n",
       "642    False\n",
       "643    False\n",
       "Length: 644, dtype: bool"
      ]
     },
     "execution_count": 8,
     "metadata": {},
     "output_type": "execute_result"
    }
   ],
   "source": [
    "matches"
   ]
  },
  {
   "cell_type": "code",
   "execution_count": 9,
   "id": "8040c056",
   "metadata": {},
   "outputs": [],
   "source": [
    "admissions['matches'] = matches"
   ]
  },
  {
   "cell_type": "code",
   "execution_count": 10,
   "id": "13fe6084",
   "metadata": {},
   "outputs": [
    {
     "data": {
      "text/html": [
       "<div>\n",
       "<style scoped>\n",
       "    .dataframe tbody tr th:only-of-type {\n",
       "        vertical-align: middle;\n",
       "    }\n",
       "\n",
       "    .dataframe tbody tr th {\n",
       "        vertical-align: top;\n",
       "    }\n",
       "\n",
       "    .dataframe thead th {\n",
       "        text-align: right;\n",
       "    }\n",
       "</style>\n",
       "<table border=\"1\" class=\"dataframe\">\n",
       "  <thead>\n",
       "    <tr style=\"text-align: right;\">\n",
       "      <th></th>\n",
       "      <th>actual_label</th>\n",
       "      <th>gpa</th>\n",
       "      <th>gre</th>\n",
       "      <th>predicted_label</th>\n",
       "      <th>matches</th>\n",
       "    </tr>\n",
       "  </thead>\n",
       "  <tbody>\n",
       "    <tr>\n",
       "      <th>0</th>\n",
       "      <td>0</td>\n",
       "      <td>3.177277</td>\n",
       "      <td>594.102992</td>\n",
       "      <td>0</td>\n",
       "      <td>True</td>\n",
       "    </tr>\n",
       "    <tr>\n",
       "      <th>1</th>\n",
       "      <td>0</td>\n",
       "      <td>3.412655</td>\n",
       "      <td>631.528607</td>\n",
       "      <td>0</td>\n",
       "      <td>True</td>\n",
       "    </tr>\n",
       "    <tr>\n",
       "      <th>2</th>\n",
       "      <td>0</td>\n",
       "      <td>2.728097</td>\n",
       "      <td>553.714399</td>\n",
       "      <td>0</td>\n",
       "      <td>True</td>\n",
       "    </tr>\n",
       "    <tr>\n",
       "      <th>3</th>\n",
       "      <td>0</td>\n",
       "      <td>3.093559</td>\n",
       "      <td>551.089985</td>\n",
       "      <td>0</td>\n",
       "      <td>True</td>\n",
       "    </tr>\n",
       "    <tr>\n",
       "      <th>4</th>\n",
       "      <td>0</td>\n",
       "      <td>3.141923</td>\n",
       "      <td>537.184894</td>\n",
       "      <td>0</td>\n",
       "      <td>True</td>\n",
       "    </tr>\n",
       "  </tbody>\n",
       "</table>\n",
       "</div>"
      ],
      "text/plain": [
       "   actual_label       gpa         gre  predicted_label  matches\n",
       "0             0  3.177277  594.102992                0     True\n",
       "1             0  3.412655  631.528607                0     True\n",
       "2             0  2.728097  553.714399                0     True\n",
       "3             0  3.093559  551.089985                0     True\n",
       "4             0  3.141923  537.184894                0     True"
      ]
     },
     "execution_count": 10,
     "metadata": {},
     "output_type": "execute_result"
    }
   ],
   "source": [
    "admissions.head()"
   ]
  },
  {
   "cell_type": "code",
   "execution_count": 11,
   "id": "a6ae1947",
   "metadata": {},
   "outputs": [],
   "source": [
    "correct_predictions = admissions[admissions['matches'] == True]"
   ]
  },
  {
   "cell_type": "code",
   "execution_count": 12,
   "id": "e9575a67",
   "metadata": {},
   "outputs": [
    {
     "data": {
      "text/html": [
       "<div>\n",
       "<style scoped>\n",
       "    .dataframe tbody tr th:only-of-type {\n",
       "        vertical-align: middle;\n",
       "    }\n",
       "\n",
       "    .dataframe tbody tr th {\n",
       "        vertical-align: top;\n",
       "    }\n",
       "\n",
       "    .dataframe thead th {\n",
       "        text-align: right;\n",
       "    }\n",
       "</style>\n",
       "<table border=\"1\" class=\"dataframe\">\n",
       "  <thead>\n",
       "    <tr style=\"text-align: right;\">\n",
       "      <th></th>\n",
       "      <th>actual_label</th>\n",
       "      <th>gpa</th>\n",
       "      <th>gre</th>\n",
       "      <th>predicted_label</th>\n",
       "      <th>matches</th>\n",
       "    </tr>\n",
       "  </thead>\n",
       "  <tbody>\n",
       "    <tr>\n",
       "      <th>0</th>\n",
       "      <td>0</td>\n",
       "      <td>3.177277</td>\n",
       "      <td>594.102992</td>\n",
       "      <td>0</td>\n",
       "      <td>True</td>\n",
       "    </tr>\n",
       "    <tr>\n",
       "      <th>1</th>\n",
       "      <td>0</td>\n",
       "      <td>3.412655</td>\n",
       "      <td>631.528607</td>\n",
       "      <td>0</td>\n",
       "      <td>True</td>\n",
       "    </tr>\n",
       "    <tr>\n",
       "      <th>2</th>\n",
       "      <td>0</td>\n",
       "      <td>2.728097</td>\n",
       "      <td>553.714399</td>\n",
       "      <td>0</td>\n",
       "      <td>True</td>\n",
       "    </tr>\n",
       "    <tr>\n",
       "      <th>3</th>\n",
       "      <td>0</td>\n",
       "      <td>3.093559</td>\n",
       "      <td>551.089985</td>\n",
       "      <td>0</td>\n",
       "      <td>True</td>\n",
       "    </tr>\n",
       "    <tr>\n",
       "      <th>4</th>\n",
       "      <td>0</td>\n",
       "      <td>3.141923</td>\n",
       "      <td>537.184894</td>\n",
       "      <td>0</td>\n",
       "      <td>True</td>\n",
       "    </tr>\n",
       "  </tbody>\n",
       "</table>\n",
       "</div>"
      ],
      "text/plain": [
       "   actual_label       gpa         gre  predicted_label  matches\n",
       "0             0  3.177277  594.102992                0     True\n",
       "1             0  3.412655  631.528607                0     True\n",
       "2             0  2.728097  553.714399                0     True\n",
       "3             0  3.093559  551.089985                0     True\n",
       "4             0  3.141923  537.184894                0     True"
      ]
     },
     "execution_count": 12,
     "metadata": {},
     "output_type": "execute_result"
    }
   ],
   "source": [
    "correct_predictions.head()"
   ]
  },
  {
   "cell_type": "code",
   "execution_count": 13,
   "id": "08164207",
   "metadata": {},
   "outputs": [
    {
     "name": "stdout",
     "output_type": "stream",
     "text": [
      "<class 'pandas.core.frame.DataFrame'>\n",
      "Int64Index: 416 entries, 0 to 636\n",
      "Data columns (total 5 columns):\n",
      " #   Column           Non-Null Count  Dtype  \n",
      "---  ------           --------------  -----  \n",
      " 0   actual_label     416 non-null    int64  \n",
      " 1   gpa              416 non-null    float64\n",
      " 2   gre              416 non-null    float64\n",
      " 3   predicted_label  416 non-null    int64  \n",
      " 4   matches          416 non-null    bool   \n",
      "dtypes: bool(1), float64(2), int64(2)\n",
      "memory usage: 16.7 KB\n"
     ]
    }
   ],
   "source": [
    "correct_predictions.info()"
   ]
  },
  {
   "cell_type": "code",
   "execution_count": 14,
   "id": "b25f96cd",
   "metadata": {},
   "outputs": [
    {
     "name": "stdout",
     "output_type": "stream",
     "text": [
      "<class 'pandas.core.frame.DataFrame'>\n",
      "RangeIndex: 644 entries, 0 to 643\n",
      "Data columns (total 5 columns):\n",
      " #   Column           Non-Null Count  Dtype  \n",
      "---  ------           --------------  -----  \n",
      " 0   actual_label     644 non-null    int64  \n",
      " 1   gpa              644 non-null    float64\n",
      " 2   gre              644 non-null    float64\n",
      " 3   predicted_label  644 non-null    int64  \n",
      " 4   matches          644 non-null    bool   \n",
      "dtypes: bool(1), float64(2), int64(2)\n",
      "memory usage: 20.9 KB\n"
     ]
    }
   ],
   "source": [
    "admissions.info()"
   ]
  },
  {
   "cell_type": "code",
   "execution_count": 15,
   "id": "496f0b24",
   "metadata": {},
   "outputs": [
    {
     "data": {
      "text/plain": [
       "True    416\n",
       "Name: matches, dtype: int64"
      ]
     },
     "execution_count": 15,
     "metadata": {},
     "output_type": "execute_result"
    }
   ],
   "source": [
    "correct_predictions['matches'].value_counts()"
   ]
  },
  {
   "cell_type": "code",
   "execution_count": 16,
   "id": "84ce66ef",
   "metadata": {},
   "outputs": [
    {
     "data": {
      "text/plain": [
       "True     416\n",
       "False    228\n",
       "Name: matches, dtype: int64"
      ]
     },
     "execution_count": 16,
     "metadata": {},
     "output_type": "execute_result"
    }
   ],
   "source": [
    "admissions['matches'].value_counts()"
   ]
  },
  {
   "cell_type": "code",
   "execution_count": 38,
   "id": "c1e3e6a6",
   "metadata": {},
   "outputs": [],
   "source": [
    "accuracy = len(correct_predictions)/len(admissions)"
   ]
  },
  {
   "cell_type": "code",
   "execution_count": 39,
   "id": "828e11a0",
   "metadata": {},
   "outputs": [
    {
     "data": {
      "text/plain": [
       "0.6459627329192547"
      ]
     },
     "execution_count": 39,
     "metadata": {},
     "output_type": "execute_result"
    }
   ],
   "source": [
    "accuracy"
   ]
  },
  {
   "cell_type": "markdown",
   "id": "89b99421",
   "metadata": {},
   "source": [
    "# More precision "
   ]
  },
  {
   "cell_type": "markdown",
   "id": "eed8091b",
   "metadata": {},
   "source": [
    "Just number of correct_predicted/total_observations not enough to know if the model is good or not"
   ]
  },
  {
   "cell_type": "markdown",
   "id": "7ea97c8b",
   "metadata": {},
   "source": [
    "Differenciation between \n",
    "- True positive : prediction 1, label 1\n",
    "- False positive : prediction 1, label 0\n",
    "- True negative : prediction 0, label 0\n",
    "- False negative : prediction 0, label 1"
   ]
  },
  {
   "cell_type": "code",
   "execution_count": 21,
   "id": "cc810c6c",
   "metadata": {},
   "outputs": [],
   "source": [
    "true_positives = len(admissions[(admissions['predicted_label'] == 1) & (admissions['actual_label'] == 1)])"
   ]
  },
  {
   "cell_type": "code",
   "execution_count": 22,
   "id": "d64e47c6",
   "metadata": {},
   "outputs": [
    {
     "data": {
      "text/plain": [
       "31"
      ]
     },
     "execution_count": 22,
     "metadata": {},
     "output_type": "execute_result"
    }
   ],
   "source": [
    "true_positives"
   ]
  },
  {
   "cell_type": "code",
   "execution_count": 23,
   "id": "d9e20dd7",
   "metadata": {},
   "outputs": [],
   "source": [
    "true_negatives = len(admissions[(admissions['predicted_label'] == 0) & (admissions['actual_label'] == 0)])"
   ]
  },
  {
   "cell_type": "code",
   "execution_count": 24,
   "id": "3c432b8f",
   "metadata": {},
   "outputs": [
    {
     "data": {
      "text/plain": [
       "385"
      ]
     },
     "execution_count": 24,
     "metadata": {},
     "output_type": "execute_result"
    }
   ],
   "source": [
    "true_negatives"
   ]
  },
  {
   "cell_type": "markdown",
   "id": "17884124",
   "metadata": {},
   "source": [
    "# Sensitivity"
   ]
  },
  {
   "cell_type": "markdown",
   "id": "96c8f0b1",
   "metadata": {},
   "source": [
    "$ TPR = \\frac{True\\ positive}{True\\ positive\\ +\\ False\\ negative} $"
   ]
  },
  {
   "cell_type": "code",
   "execution_count": 25,
   "id": "650dccfc",
   "metadata": {},
   "outputs": [],
   "source": [
    "false_negative = len(admissions[(admissions['predicted_label'] == 0) & (admissions['actual_label'] == 1)])"
   ]
  },
  {
   "cell_type": "code",
   "execution_count": 26,
   "id": "21f10a27",
   "metadata": {},
   "outputs": [
    {
     "data": {
      "text/plain": [
       "213"
      ]
     },
     "execution_count": 26,
     "metadata": {},
     "output_type": "execute_result"
    }
   ],
   "source": [
    "false_negative"
   ]
  },
  {
   "cell_type": "code",
   "execution_count": 34,
   "id": "c33424eb",
   "metadata": {},
   "outputs": [],
   "source": [
    "sensitivity = (true_positives)/(true_positives + false_negative)"
   ]
  },
  {
   "cell_type": "code",
   "execution_count": 35,
   "id": "53e5bbdb",
   "metadata": {},
   "outputs": [
    {
     "data": {
      "text/plain": [
       "0.12704918032786885"
      ]
     },
     "execution_count": 35,
     "metadata": {},
     "output_type": "execute_result"
    }
   ],
   "source": [
    "sensitivity"
   ]
  },
  {
   "cell_type": "markdown",
   "id": "52cfc82b",
   "metadata": {},
   "source": [
    "# Specificity"
   ]
  },
  {
   "cell_type": "markdown",
   "id": "a707ed69",
   "metadata": {},
   "source": [
    "$ TPR = \\frac{True\\ negative}{True\\ negative\\ +\\ False\\ positive} $"
   ]
  },
  {
   "cell_type": "code",
   "execution_count": 31,
   "id": "8aae7f4f",
   "metadata": {},
   "outputs": [],
   "source": [
    "false_positive = len(admissions[(admissions['predicted_label'] == 1) & (admissions['actual_label'] == 0)])"
   ]
  },
  {
   "cell_type": "code",
   "execution_count": 32,
   "id": "51d2db26",
   "metadata": {},
   "outputs": [
    {
     "data": {
      "text/plain": [
       "15"
      ]
     },
     "execution_count": 32,
     "metadata": {},
     "output_type": "execute_result"
    }
   ],
   "source": [
    "false_positive"
   ]
  },
  {
   "cell_type": "code",
   "execution_count": 36,
   "id": "1168ea39",
   "metadata": {},
   "outputs": [],
   "source": [
    "specificity = (true_negatives)/(true_negatives + false_positive)"
   ]
  },
  {
   "cell_type": "code",
   "execution_count": 37,
   "id": "e978f3cf",
   "metadata": {},
   "outputs": [
    {
     "data": {
      "text/plain": [
       "0.9625"
      ]
     },
     "execution_count": 37,
     "metadata": {},
     "output_type": "execute_result"
    }
   ],
   "source": [
    "specificity"
   ]
  },
  {
   "cell_type": "code",
   "execution_count": null,
   "id": "bcf4f4bc",
   "metadata": {},
   "outputs": [],
   "source": []
  }
 ],
 "metadata": {
  "kernelspec": {
   "display_name": "Python 3 (ipykernel)",
   "language": "python",
   "name": "python3"
  },
  "language_info": {
   "codemirror_mode": {
    "name": "ipython",
    "version": 3
   },
   "file_extension": ".py",
   "mimetype": "text/x-python",
   "name": "python",
   "nbconvert_exporter": "python",
   "pygments_lexer": "ipython3",
   "version": "3.9.8"
  }
 },
 "nbformat": 4,
 "nbformat_minor": 5
}
