{
 "cells": [
  {
   "cell_type": "markdown",
   "metadata": {},
   "source": [
    "# Clustering"
   ]
  },
  {
   "cell_type": "code",
   "execution_count": 4,
   "metadata": {},
   "outputs": [],
   "source": [
    "import pandas as pd\n",
    "import numpy as np\n",
    "pd.options.mode.chained_assignment = None"
   ]
  },
  {
   "cell_type": "code",
   "execution_count": 5,
   "metadata": {},
   "outputs": [],
   "source": [
    "votes = pd.read_csv('114_congress.csv')"
   ]
  },
  {
   "cell_type": "code",
   "execution_count": 6,
   "metadata": {},
   "outputs": [
    {
     "data": {
      "text/html": [
       "<div>\n",
       "<style scoped>\n",
       "    .dataframe tbody tr th:only-of-type {\n",
       "        vertical-align: middle;\n",
       "    }\n",
       "\n",
       "    .dataframe tbody tr th {\n",
       "        vertical-align: top;\n",
       "    }\n",
       "\n",
       "    .dataframe thead th {\n",
       "        text-align: right;\n",
       "    }\n",
       "</style>\n",
       "<table border=\"1\" class=\"dataframe\">\n",
       "  <thead>\n",
       "    <tr style=\"text-align: right;\">\n",
       "      <th></th>\n",
       "      <th>name</th>\n",
       "      <th>party</th>\n",
       "      <th>state</th>\n",
       "      <th>00001</th>\n",
       "      <th>00004</th>\n",
       "      <th>00005</th>\n",
       "      <th>00006</th>\n",
       "      <th>00007</th>\n",
       "      <th>00008</th>\n",
       "      <th>00009</th>\n",
       "      <th>00010</th>\n",
       "      <th>00020</th>\n",
       "      <th>00026</th>\n",
       "      <th>00032</th>\n",
       "      <th>00038</th>\n",
       "      <th>00039</th>\n",
       "      <th>00044</th>\n",
       "      <th>00047</th>\n",
       "    </tr>\n",
       "  </thead>\n",
       "  <tbody>\n",
       "    <tr>\n",
       "      <th>0</th>\n",
       "      <td>Alexander</td>\n",
       "      <td>R</td>\n",
       "      <td>TN</td>\n",
       "      <td>0.0</td>\n",
       "      <td>1.0</td>\n",
       "      <td>1.0</td>\n",
       "      <td>1.0</td>\n",
       "      <td>1.0</td>\n",
       "      <td>0.0</td>\n",
       "      <td>0.0</td>\n",
       "      <td>1.0</td>\n",
       "      <td>1.0</td>\n",
       "      <td>1.0</td>\n",
       "      <td>0.0</td>\n",
       "      <td>0.0</td>\n",
       "      <td>0.0</td>\n",
       "      <td>0.0</td>\n",
       "      <td>0.0</td>\n",
       "    </tr>\n",
       "    <tr>\n",
       "      <th>1</th>\n",
       "      <td>Ayotte</td>\n",
       "      <td>R</td>\n",
       "      <td>NH</td>\n",
       "      <td>0.0</td>\n",
       "      <td>1.0</td>\n",
       "      <td>1.0</td>\n",
       "      <td>1.0</td>\n",
       "      <td>1.0</td>\n",
       "      <td>0.0</td>\n",
       "      <td>0.0</td>\n",
       "      <td>1.0</td>\n",
       "      <td>0.0</td>\n",
       "      <td>1.0</td>\n",
       "      <td>0.0</td>\n",
       "      <td>1.0</td>\n",
       "      <td>0.0</td>\n",
       "      <td>1.0</td>\n",
       "      <td>0.0</td>\n",
       "    </tr>\n",
       "    <tr>\n",
       "      <th>2</th>\n",
       "      <td>Baldwin</td>\n",
       "      <td>D</td>\n",
       "      <td>WI</td>\n",
       "      <td>1.0</td>\n",
       "      <td>0.0</td>\n",
       "      <td>0.0</td>\n",
       "      <td>1.0</td>\n",
       "      <td>0.0</td>\n",
       "      <td>1.0</td>\n",
       "      <td>0.0</td>\n",
       "      <td>1.0</td>\n",
       "      <td>0.0</td>\n",
       "      <td>0.0</td>\n",
       "      <td>1.0</td>\n",
       "      <td>1.0</td>\n",
       "      <td>0.0</td>\n",
       "      <td>1.0</td>\n",
       "      <td>1.0</td>\n",
       "    </tr>\n",
       "  </tbody>\n",
       "</table>\n",
       "</div>"
      ],
      "text/plain": [
       "        name party state  00001  00004  00005  00006  00007  00008  00009  \\\n",
       "0  Alexander     R    TN    0.0    1.0    1.0    1.0    1.0    0.0    0.0   \n",
       "1     Ayotte     R    NH    0.0    1.0    1.0    1.0    1.0    0.0    0.0   \n",
       "2    Baldwin     D    WI    1.0    0.0    0.0    1.0    0.0    1.0    0.0   \n",
       "\n",
       "   00010  00020  00026  00032  00038  00039  00044  00047  \n",
       "0    1.0    1.0    1.0    0.0    0.0    0.0    0.0    0.0  \n",
       "1    1.0    0.0    1.0    0.0    1.0    0.0    1.0    0.0  \n",
       "2    1.0    0.0    0.0    1.0    1.0    0.0    1.0    1.0  "
      ]
     },
     "execution_count": 6,
     "metadata": {},
     "output_type": "execute_result"
    }
   ],
   "source": [
    "votes.head(3)"
   ]
  },
  {
   "cell_type": "code",
   "execution_count": 7,
   "metadata": {},
   "outputs": [
    {
     "data": {
      "text/plain": [
       "R    54\n",
       "D    44\n",
       "I     2\n",
       "Name: party, dtype: int64"
      ]
     },
     "execution_count": 7,
     "metadata": {},
     "output_type": "execute_result"
    }
   ],
   "source": [
    "votes['party'].value_counts()"
   ]
  },
  {
   "cell_type": "code",
   "execution_count": 8,
   "metadata": {},
   "outputs": [
    {
     "name": "stderr",
     "output_type": "stream",
     "text": [
      "/var/folders/13/2bs52tzx5vb8jg2f094msm5h0000gn/T/ipykernel_1386/3004162518.py:1: FutureWarning: Dropping of nuisance columns in DataFrame reductions (with 'numeric_only=None') is deprecated; in a future version this will raise TypeError.  Select only valid columns before calling the reduction.\n",
      "  votes.mean()\n"
     ]
    },
    {
     "data": {
      "text/plain": [
       "00001    0.325\n",
       "00004    0.575\n",
       "00005    0.535\n",
       "00006    0.945\n",
       "00007    0.545\n",
       "00008    0.415\n",
       "00009    0.545\n",
       "00010    0.985\n",
       "00020    0.525\n",
       "00026    0.545\n",
       "00032    0.410\n",
       "00038    0.480\n",
       "00039    0.510\n",
       "00044    0.460\n",
       "00047    0.370\n",
       "dtype: float64"
      ]
     },
     "execution_count": 8,
     "metadata": {},
     "output_type": "execute_result"
    }
   ],
   "source": [
    "votes.mean()"
   ]
  },
  {
   "cell_type": "code",
   "execution_count": 9,
   "metadata": {},
   "outputs": [
    {
     "name": "stdout",
     "output_type": "stream",
     "text": [
      "<class 'pandas.core.frame.DataFrame'>\n",
      "RangeIndex: 100 entries, 0 to 99\n",
      "Data columns (total 18 columns):\n",
      " #   Column  Non-Null Count  Dtype  \n",
      "---  ------  --------------  -----  \n",
      " 0   name    100 non-null    object \n",
      " 1   party   100 non-null    object \n",
      " 2   state   100 non-null    object \n",
      " 3   00001   100 non-null    float64\n",
      " 4   00004   100 non-null    float64\n",
      " 5   00005   100 non-null    float64\n",
      " 6   00006   100 non-null    float64\n",
      " 7   00007   100 non-null    float64\n",
      " 8   00008   100 non-null    float64\n",
      " 9   00009   100 non-null    float64\n",
      " 10  00010   100 non-null    float64\n",
      " 11  00020   100 non-null    float64\n",
      " 12  00026   100 non-null    float64\n",
      " 13  00032   100 non-null    float64\n",
      " 14  00038   100 non-null    float64\n",
      " 15  00039   100 non-null    float64\n",
      " 16  00044   100 non-null    float64\n",
      " 17  00047   100 non-null    float64\n",
      "dtypes: float64(15), object(3)\n",
      "memory usage: 14.2+ KB\n"
     ]
    }
   ],
   "source": [
    "votes.info()"
   ]
  },
  {
   "cell_type": "markdown",
   "metadata": {},
   "source": [
    "# Distance between senators"
   ]
  },
  {
   "cell_type": "code",
   "execution_count": 10,
   "metadata": {},
   "outputs": [
    {
     "data": {
      "text/html": [
       "<div>\n",
       "<style scoped>\n",
       "    .dataframe tbody tr th:only-of-type {\n",
       "        vertical-align: middle;\n",
       "    }\n",
       "\n",
       "    .dataframe tbody tr th {\n",
       "        vertical-align: top;\n",
       "    }\n",
       "\n",
       "    .dataframe thead th {\n",
       "        text-align: right;\n",
       "    }\n",
       "</style>\n",
       "<table border=\"1\" class=\"dataframe\">\n",
       "  <thead>\n",
       "    <tr style=\"text-align: right;\">\n",
       "      <th></th>\n",
       "      <th>name</th>\n",
       "      <th>party</th>\n",
       "      <th>state</th>\n",
       "      <th>00001</th>\n",
       "      <th>00004</th>\n",
       "      <th>00005</th>\n",
       "      <th>00006</th>\n",
       "      <th>00007</th>\n",
       "      <th>00008</th>\n",
       "      <th>00009</th>\n",
       "      <th>00010</th>\n",
       "      <th>00020</th>\n",
       "      <th>00026</th>\n",
       "      <th>00032</th>\n",
       "      <th>00038</th>\n",
       "      <th>00039</th>\n",
       "      <th>00044</th>\n",
       "      <th>00047</th>\n",
       "    </tr>\n",
       "  </thead>\n",
       "  <tbody>\n",
       "    <tr>\n",
       "      <th>0</th>\n",
       "      <td>Alexander</td>\n",
       "      <td>R</td>\n",
       "      <td>TN</td>\n",
       "      <td>0.0</td>\n",
       "      <td>1.0</td>\n",
       "      <td>1.0</td>\n",
       "      <td>1.0</td>\n",
       "      <td>1.0</td>\n",
       "      <td>0.0</td>\n",
       "      <td>0.0</td>\n",
       "      <td>1.0</td>\n",
       "      <td>1.0</td>\n",
       "      <td>1.0</td>\n",
       "      <td>0.0</td>\n",
       "      <td>0.0</td>\n",
       "      <td>0.0</td>\n",
       "      <td>0.0</td>\n",
       "      <td>0.0</td>\n",
       "    </tr>\n",
       "    <tr>\n",
       "      <th>1</th>\n",
       "      <td>Ayotte</td>\n",
       "      <td>R</td>\n",
       "      <td>NH</td>\n",
       "      <td>0.0</td>\n",
       "      <td>1.0</td>\n",
       "      <td>1.0</td>\n",
       "      <td>1.0</td>\n",
       "      <td>1.0</td>\n",
       "      <td>0.0</td>\n",
       "      <td>0.0</td>\n",
       "      <td>1.0</td>\n",
       "      <td>0.0</td>\n",
       "      <td>1.0</td>\n",
       "      <td>0.0</td>\n",
       "      <td>1.0</td>\n",
       "      <td>0.0</td>\n",
       "      <td>1.0</td>\n",
       "      <td>0.0</td>\n",
       "    </tr>\n",
       "  </tbody>\n",
       "</table>\n",
       "</div>"
      ],
      "text/plain": [
       "        name party state  00001  00004  00005  00006  00007  00008  00009  \\\n",
       "0  Alexander     R    TN    0.0    1.0    1.0    1.0    1.0    0.0    0.0   \n",
       "1     Ayotte     R    NH    0.0    1.0    1.0    1.0    1.0    0.0    0.0   \n",
       "\n",
       "   00010  00020  00026  00032  00038  00039  00044  00047  \n",
       "0    1.0    1.0    1.0    0.0    0.0    0.0    0.0    0.0  \n",
       "1    1.0    0.0    1.0    0.0    1.0    0.0    1.0    0.0  "
      ]
     },
     "execution_count": 10,
     "metadata": {},
     "output_type": "execute_result"
    }
   ],
   "source": [
    "votes.head(2)"
   ]
  },
  {
   "cell_type": "code",
   "execution_count": 11,
   "metadata": {},
   "outputs": [
    {
     "data": {
      "text/html": [
       "<div>\n",
       "<style scoped>\n",
       "    .dataframe tbody tr th:only-of-type {\n",
       "        vertical-align: middle;\n",
       "    }\n",
       "\n",
       "    .dataframe tbody tr th {\n",
       "        vertical-align: top;\n",
       "    }\n",
       "\n",
       "    .dataframe thead th {\n",
       "        text-align: right;\n",
       "    }\n",
       "</style>\n",
       "<table border=\"1\" class=\"dataframe\">\n",
       "  <thead>\n",
       "    <tr style=\"text-align: right;\">\n",
       "      <th></th>\n",
       "      <th>00001</th>\n",
       "      <th>00004</th>\n",
       "      <th>00005</th>\n",
       "      <th>00006</th>\n",
       "      <th>00007</th>\n",
       "      <th>00008</th>\n",
       "      <th>00009</th>\n",
       "      <th>00010</th>\n",
       "      <th>00020</th>\n",
       "      <th>00026</th>\n",
       "      <th>00032</th>\n",
       "      <th>00038</th>\n",
       "      <th>00039</th>\n",
       "      <th>00044</th>\n",
       "      <th>00047</th>\n",
       "    </tr>\n",
       "  </thead>\n",
       "  <tbody>\n",
       "    <tr>\n",
       "      <th>0</th>\n",
       "      <td>0.0</td>\n",
       "      <td>1.0</td>\n",
       "      <td>1.0</td>\n",
       "      <td>1.0</td>\n",
       "      <td>1.0</td>\n",
       "      <td>0.0</td>\n",
       "      <td>0.0</td>\n",
       "      <td>1.0</td>\n",
       "      <td>1.0</td>\n",
       "      <td>1.0</td>\n",
       "      <td>0.0</td>\n",
       "      <td>0.0</td>\n",
       "      <td>0.0</td>\n",
       "      <td>0.0</td>\n",
       "      <td>0.0</td>\n",
       "    </tr>\n",
       "    <tr>\n",
       "      <th>1</th>\n",
       "      <td>0.0</td>\n",
       "      <td>1.0</td>\n",
       "      <td>1.0</td>\n",
       "      <td>1.0</td>\n",
       "      <td>1.0</td>\n",
       "      <td>0.0</td>\n",
       "      <td>0.0</td>\n",
       "      <td>1.0</td>\n",
       "      <td>0.0</td>\n",
       "      <td>1.0</td>\n",
       "      <td>0.0</td>\n",
       "      <td>1.0</td>\n",
       "      <td>0.0</td>\n",
       "      <td>1.0</td>\n",
       "      <td>0.0</td>\n",
       "    </tr>\n",
       "  </tbody>\n",
       "</table>\n",
       "</div>"
      ],
      "text/plain": [
       "   00001  00004  00005  00006  00007  00008  00009  00010  00020  00026  \\\n",
       "0    0.0    1.0    1.0    1.0    1.0    0.0    0.0    1.0    1.0    1.0   \n",
       "1    0.0    1.0    1.0    1.0    1.0    0.0    0.0    1.0    0.0    1.0   \n",
       "\n",
       "   00032  00038  00039  00044  00047  \n",
       "0    0.0    0.0    0.0    0.0    0.0  \n",
       "1    0.0    1.0    0.0    1.0    0.0  "
      ]
     },
     "execution_count": 11,
     "metadata": {},
     "output_type": "execute_result"
    }
   ],
   "source": [
    "votes.iloc[0:2, 3:]"
   ]
  },
  {
   "cell_type": "code",
   "execution_count": 12,
   "metadata": {},
   "outputs": [],
   "source": [
    "from sklearn.metrics.pairwise import euclidean_distances"
   ]
  },
  {
   "cell_type": "code",
   "execution_count": 13,
   "metadata": {},
   "outputs": [
    {
     "data": {
      "text/plain": [
       "array([[1.73205081]])"
      ]
     },
     "execution_count": 13,
     "metadata": {},
     "output_type": "execute_result"
    }
   ],
   "source": [
    "euclidean_distances(votes.iloc[0, 3:].values.reshape(1, -1), votes.iloc[1, 3:].values.reshape(1, -1))"
   ]
  },
  {
   "cell_type": "code",
   "execution_count": 14,
   "metadata": {},
   "outputs": [],
   "source": [
    "distance = euclidean_distances(votes.iloc[0, 3:].values.reshape(1, -1), votes.iloc[2, 3:].values.reshape(1, -1))"
   ]
  },
  {
   "cell_type": "code",
   "execution_count": 15,
   "metadata": {},
   "outputs": [
    {
     "data": {
      "text/plain": [
       "array([[3.31662479]])"
      ]
     },
     "execution_count": 15,
     "metadata": {},
     "output_type": "execute_result"
    }
   ],
   "source": [
    "distance"
   ]
  },
  {
   "cell_type": "markdown",
   "metadata": {},
   "source": [
    "# Clustering"
   ]
  },
  {
   "cell_type": "code",
   "execution_count": 16,
   "metadata": {},
   "outputs": [],
   "source": [
    "from sklearn.cluster import KMeans"
   ]
  },
  {
   "cell_type": "code",
   "execution_count": 17,
   "metadata": {},
   "outputs": [],
   "source": [
    "kmeans_model = KMeans(n_clusters=2, random_state=1)"
   ]
  },
  {
   "cell_type": "code",
   "execution_count": 18,
   "metadata": {},
   "outputs": [],
   "source": [
    "senator_distances = kmeans_model.fit_transform(votes.iloc[0:,3:])"
   ]
  },
  {
   "cell_type": "code",
   "execution_count": 19,
   "metadata": {
    "scrolled": true
   },
   "outputs": [
    {
     "data": {
      "text/plain": [
       "array([[3.12141628, 1.3134775 ],\n",
       "       [2.6146248 , 2.05339992],\n",
       "       [0.33960656, 3.41651746],\n",
       "       [3.42004795, 0.24198446],\n",
       "       [1.43833966, 2.96866004],\n",
       "       [0.33960656, 3.41651746],\n",
       "       [3.42004795, 0.24198446],\n",
       "       [0.33960656, 3.41651746],\n",
       "       [3.42004795, 0.24198446],\n",
       "       [0.31287498, 3.30758755],\n",
       "       [0.33960656, 3.41651746],\n",
       "       [3.27058526, 0.96734144],\n",
       "       [0.33960656, 3.41651746],\n",
       "       [3.34875646, 0.53945585],\n",
       "       [0.33960656, 3.41651746],\n",
       "       [1.18084816, 3.12695614],\n",
       "       [1.23852221, 3.13536063],\n",
       "       [3.42004795, 0.24198446],\n",
       "       [3.42004795, 0.24198446],\n",
       "       [3.42004795, 0.24198446],\n",
       "       [2.6146248 , 2.05339992],\n",
       "       [0.58487332, 3.31421108],\n",
       "       [3.42004795, 0.24198446],\n",
       "       [3.42004795, 0.24198446],\n",
       "       [3.42004795, 0.24198446],\n",
       "       [3.42004795, 0.24198446],\n",
       "       [3.56324683, 0.93036231],\n",
       "       [3.42004795, 0.24198446],\n",
       "       [1.73847904, 2.82326711],\n",
       "       [0.33960656, 3.41651746],\n",
       "       [3.42004795, 0.24198446],\n",
       "       [3.42004795, 0.24198446],\n",
       "       [0.33960656, 3.41651746],\n",
       "       [3.42004795, 0.24198446],\n",
       "       [3.42004795, 0.24198446],\n",
       "       [0.58487332, 3.31421108],\n",
       "       [3.27058526, 0.92088553],\n",
       "       [0.33960656, 3.41651746],\n",
       "       [3.19687093, 0.64668818],\n",
       "       [3.42004795, 0.24198446],\n",
       "       [3.42004795, 0.24198446],\n",
       "       [0.76187197, 3.27225905],\n",
       "       [2.3965057 , 2.27626086],\n",
       "       [3.28477567, 0.93974352],\n",
       "       [0.33960656, 3.41651746],\n",
       "       [3.42004795, 0.24198446],\n",
       "       [3.42004795, 0.24198446],\n",
       "       [3.42004795, 0.24198446],\n",
       "       [3.42004795, 0.24198446],\n",
       "       [0.88867948, 3.27225905],\n",
       "       [0.76187197, 3.27225905],\n",
       "       [3.01916091, 1.66141833],\n",
       "       [1.12020868, 3.12134058],\n",
       "       [3.56324683, 0.93036231],\n",
       "       [0.33960656, 3.41651746],\n",
       "       [3.34962442, 1.10689798],\n",
       "       [2.78266771, 1.88408719],\n",
       "       [0.33960656, 3.41651746],\n",
       "       [3.42004795, 0.24198446],\n",
       "       [1.71151573, 2.80456307],\n",
       "       [3.42004795, 0.24198446],\n",
       "       [0.33960656, 3.41651746],\n",
       "       [0.33960656, 3.41651746],\n",
       "       [0.33960656, 3.41651746],\n",
       "       [3.42004795, 0.24198446],\n",
       "       [3.42004795, 0.24198446],\n",
       "       [0.33960656, 3.41651746],\n",
       "       [0.33960656, 3.41651746],\n",
       "       [1.01109315, 3.2936348 ],\n",
       "       [3.56324683, 0.93036231],\n",
       "       [3.42004795, 0.24198446],\n",
       "       [0.76187197, 3.27225905],\n",
       "       [3.42004795, 0.24198446],\n",
       "       [0.33960656, 3.41651746],\n",
       "       [1.77652196, 1.72996156],\n",
       "       [3.42004795, 0.24198446],\n",
       "       [3.42004795, 0.24198446],\n",
       "       [3.42004795, 0.24198446],\n",
       "       [2.87211656, 0.98753387],\n",
       "       [0.33960656, 3.41651746],\n",
       "       [3.56324683, 0.93036231],\n",
       "       [0.33960656, 3.41651746],\n",
       "       [0.33960656, 3.41651746],\n",
       "       [3.42004795, 0.24198446],\n",
       "       [3.42004795, 0.24198446],\n",
       "       [0.33960656, 3.41651746],\n",
       "       [3.42004795, 0.24198446],\n",
       "       [0.76187197, 3.27225905],\n",
       "       [3.42004795, 0.24198446],\n",
       "       [1.71151573, 2.80456307],\n",
       "       [3.42004795, 0.24198446],\n",
       "       [3.42004795, 0.24198446],\n",
       "       [3.42004795, 0.24198446],\n",
       "       [0.33960656, 3.41651746],\n",
       "       [3.42004795, 0.24198446],\n",
       "       [1.32031799, 3.118529  ],\n",
       "       [0.33960656, 3.41651746],\n",
       "       [0.33960656, 3.41651746],\n",
       "       [3.56324683, 1.00295807],\n",
       "       [0.33960656, 3.41651746]])"
      ]
     },
     "execution_count": 19,
     "metadata": {},
     "output_type": "execute_result"
    }
   ],
   "source": [
    "senator_distances"
   ]
  },
  {
   "cell_type": "code",
   "execution_count": 20,
   "metadata": {},
   "outputs": [],
   "source": [
    "labels = kmeans_model.labels_"
   ]
  },
  {
   "cell_type": "code",
   "execution_count": 21,
   "metadata": {},
   "outputs": [
    {
     "data": {
      "text/plain": [
       "array([1, 1, 0, 1, 0, 0, 1, 0, 1, 0, 0, 1, 0, 1, 0, 0, 0, 1, 1, 1, 1, 0,\n",
       "       1, 1, 1, 1, 1, 1, 0, 0, 1, 1, 0, 1, 1, 0, 1, 0, 1, 1, 1, 0, 1, 1,\n",
       "       0, 1, 1, 1, 1, 0, 0, 1, 0, 1, 0, 1, 1, 0, 1, 0, 1, 0, 0, 0, 1, 1,\n",
       "       0, 0, 0, 1, 1, 0, 1, 0, 1, 1, 1, 1, 1, 0, 1, 0, 0, 1, 1, 0, 1, 0,\n",
       "       1, 0, 1, 1, 1, 0, 1, 0, 0, 0, 1, 0], dtype=int32)"
      ]
     },
     "execution_count": 21,
     "metadata": {},
     "output_type": "execute_result"
    }
   ],
   "source": [
    "labels"
   ]
  },
  {
   "cell_type": "code",
   "execution_count": 23,
   "metadata": {},
   "outputs": [
    {
     "data": {
      "text/html": [
       "<div>\n",
       "<style scoped>\n",
       "    .dataframe tbody tr th:only-of-type {\n",
       "        vertical-align: middle;\n",
       "    }\n",
       "\n",
       "    .dataframe tbody tr th {\n",
       "        vertical-align: top;\n",
       "    }\n",
       "\n",
       "    .dataframe thead th {\n",
       "        text-align: right;\n",
       "    }\n",
       "</style>\n",
       "<table border=\"1\" class=\"dataframe\">\n",
       "  <thead>\n",
       "    <tr style=\"text-align: right;\">\n",
       "      <th>party</th>\n",
       "      <th>D</th>\n",
       "      <th>I</th>\n",
       "      <th>R</th>\n",
       "    </tr>\n",
       "    <tr>\n",
       "      <th>row_0</th>\n",
       "      <th></th>\n",
       "      <th></th>\n",
       "      <th></th>\n",
       "    </tr>\n",
       "  </thead>\n",
       "  <tbody>\n",
       "    <tr>\n",
       "      <th>0</th>\n",
       "      <td>41</td>\n",
       "      <td>2</td>\n",
       "      <td>0</td>\n",
       "    </tr>\n",
       "    <tr>\n",
       "      <th>1</th>\n",
       "      <td>3</td>\n",
       "      <td>0</td>\n",
       "      <td>54</td>\n",
       "    </tr>\n",
       "  </tbody>\n",
       "</table>\n",
       "</div>"
      ],
      "text/plain": [
       "party   D  I   R\n",
       "row_0           \n",
       "0      41  2   0\n",
       "1       3  0  54"
      ]
     },
     "execution_count": 23,
     "metadata": {},
     "output_type": "execute_result"
    }
   ],
   "source": [
    "pd.crosstab(labels, votes['party'])"
   ]
  },
  {
   "cell_type": "markdown",
   "metadata": {},
   "source": [
    "# Explore senators in the wrong cluster"
   ]
  },
  {
   "cell_type": "code",
   "execution_count": 26,
   "metadata": {},
   "outputs": [],
   "source": [
    "democratic_outliers = votes[(labels == 1) & (votes['party'] == 'D')]"
   ]
  },
  {
   "cell_type": "code",
   "execution_count": 27,
   "metadata": {},
   "outputs": [
    {
     "data": {
      "text/html": [
       "<div>\n",
       "<style scoped>\n",
       "    .dataframe tbody tr th:only-of-type {\n",
       "        vertical-align: middle;\n",
       "    }\n",
       "\n",
       "    .dataframe tbody tr th {\n",
       "        vertical-align: top;\n",
       "    }\n",
       "\n",
       "    .dataframe thead th {\n",
       "        text-align: right;\n",
       "    }\n",
       "</style>\n",
       "<table border=\"1\" class=\"dataframe\">\n",
       "  <thead>\n",
       "    <tr style=\"text-align: right;\">\n",
       "      <th></th>\n",
       "      <th>name</th>\n",
       "      <th>party</th>\n",
       "      <th>state</th>\n",
       "      <th>00001</th>\n",
       "      <th>00004</th>\n",
       "      <th>00005</th>\n",
       "      <th>00006</th>\n",
       "      <th>00007</th>\n",
       "      <th>00008</th>\n",
       "      <th>00009</th>\n",
       "      <th>00010</th>\n",
       "      <th>00020</th>\n",
       "      <th>00026</th>\n",
       "      <th>00032</th>\n",
       "      <th>00038</th>\n",
       "      <th>00039</th>\n",
       "      <th>00044</th>\n",
       "      <th>00047</th>\n",
       "    </tr>\n",
       "  </thead>\n",
       "  <tbody>\n",
       "    <tr>\n",
       "      <th>42</th>\n",
       "      <td>Heitkamp</td>\n",
       "      <td>D</td>\n",
       "      <td>ND</td>\n",
       "      <td>0.0</td>\n",
       "      <td>1.0</td>\n",
       "      <td>0.0</td>\n",
       "      <td>1.0</td>\n",
       "      <td>0.0</td>\n",
       "      <td>0.0</td>\n",
       "      <td>1.0</td>\n",
       "      <td>1.0</td>\n",
       "      <td>0.0</td>\n",
       "      <td>0.0</td>\n",
       "      <td>0.0</td>\n",
       "      <td>1.0</td>\n",
       "      <td>0.0</td>\n",
       "      <td>0.0</td>\n",
       "      <td>0.0</td>\n",
       "    </tr>\n",
       "    <tr>\n",
       "      <th>56</th>\n",
       "      <td>Manchin</td>\n",
       "      <td>D</td>\n",
       "      <td>WV</td>\n",
       "      <td>0.0</td>\n",
       "      <td>1.0</td>\n",
       "      <td>0.0</td>\n",
       "      <td>1.0</td>\n",
       "      <td>0.0</td>\n",
       "      <td>0.0</td>\n",
       "      <td>1.0</td>\n",
       "      <td>1.0</td>\n",
       "      <td>1.0</td>\n",
       "      <td>0.0</td>\n",
       "      <td>0.0</td>\n",
       "      <td>1.0</td>\n",
       "      <td>1.0</td>\n",
       "      <td>0.0</td>\n",
       "      <td>0.0</td>\n",
       "    </tr>\n",
       "    <tr>\n",
       "      <th>74</th>\n",
       "      <td>Reid</td>\n",
       "      <td>D</td>\n",
       "      <td>NV</td>\n",
       "      <td>0.5</td>\n",
       "      <td>0.5</td>\n",
       "      <td>0.5</td>\n",
       "      <td>0.5</td>\n",
       "      <td>0.5</td>\n",
       "      <td>0.5</td>\n",
       "      <td>0.5</td>\n",
       "      <td>0.5</td>\n",
       "      <td>0.5</td>\n",
       "      <td>0.5</td>\n",
       "      <td>0.5</td>\n",
       "      <td>0.5</td>\n",
       "      <td>0.5</td>\n",
       "      <td>0.5</td>\n",
       "      <td>0.5</td>\n",
       "    </tr>\n",
       "  </tbody>\n",
       "</table>\n",
       "</div>"
      ],
      "text/plain": [
       "        name party state  00001  00004  00005  00006  00007  00008  00009  \\\n",
       "42  Heitkamp     D    ND    0.0    1.0    0.0    1.0    0.0    0.0    1.0   \n",
       "56   Manchin     D    WV    0.0    1.0    0.0    1.0    0.0    0.0    1.0   \n",
       "74      Reid     D    NV    0.5    0.5    0.5    0.5    0.5    0.5    0.5   \n",
       "\n",
       "    00010  00020  00026  00032  00038  00039  00044  00047  \n",
       "42    1.0    0.0    0.0    0.0    1.0    0.0    0.0    0.0  \n",
       "56    1.0    1.0    0.0    0.0    1.0    1.0    0.0    0.0  \n",
       "74    0.5    0.5    0.5    0.5    0.5    0.5    0.5    0.5  "
      ]
     },
     "execution_count": 27,
     "metadata": {},
     "output_type": "execute_result"
    }
   ],
   "source": [
    "democratic_outliers"
   ]
  },
  {
   "cell_type": "code",
   "execution_count": null,
   "metadata": {},
   "outputs": [],
   "source": []
  }
 ],
 "metadata": {
  "kernelspec": {
   "display_name": "Python 3 (ipykernel)",
   "language": "python",
   "name": "python3"
  },
  "language_info": {
   "codemirror_mode": {
    "name": "ipython",
    "version": 3
   },
   "file_extension": ".py",
   "mimetype": "text/x-python",
   "name": "python",
   "nbconvert_exporter": "python",
   "pygments_lexer": "ipython3",
   "version": "3.9.8"
  }
 },
 "nbformat": 4,
 "nbformat_minor": 2
}
