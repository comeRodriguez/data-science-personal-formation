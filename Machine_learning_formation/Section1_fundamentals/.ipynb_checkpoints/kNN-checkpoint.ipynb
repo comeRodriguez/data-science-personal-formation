{
 "cells": [
  {
   "cell_type": "markdown",
   "id": "eab8036e",
   "metadata": {},
   "source": [
    "# k Nearest Neighbours kNN"
   ]
  },
  {
   "cell_type": "code",
   "execution_count": 1,
   "id": "bd7dfb44",
   "metadata": {},
   "outputs": [],
   "source": [
    "import pandas as pd"
   ]
  },
  {
   "cell_type": "code",
   "execution_count": 40,
   "id": "ad185f71",
   "metadata": {},
   "outputs": [],
   "source": [
    "paris_listings = pd.read_csv('paris_airbnb.csv')"
   ]
  },
  {
   "cell_type": "code",
   "execution_count": 3,
   "id": "dd8239ac",
   "metadata": {},
   "outputs": [
    {
     "data": {
      "text/plain": [
       "host_response_rate                 100%\n",
       "host_acceptance_rate                NaN\n",
       "host_listings_count                 1.0\n",
       "latitude                         48.851\n",
       "longitude                       2.35869\n",
       "city                              Paris\n",
       "zipcode                           75004\n",
       "state                     Ile-de-France\n",
       "accommodates                          2\n",
       "room_type               Entire home/apt\n",
       "bedrooms                            0.0\n",
       "bathrooms                           1.0\n",
       "beds                                1.0\n",
       "price                           $115.00\n",
       "cleaning_fee                     $36.00\n",
       "security_deposit                  $0.00\n",
       "minimum_nights                        1\n",
       "maximum_nights                       90\n",
       "number_of_reviews                   173\n",
       "Name: 1, dtype: object"
      ]
     },
     "execution_count": 3,
     "metadata": {},
     "output_type": "execute_result"
    }
   ],
   "source": [
    "paris_listings.loc[1]"
   ]
  },
  {
   "cell_type": "code",
   "execution_count": 4,
   "id": "77d4062c",
   "metadata": {},
   "outputs": [
    {
     "data": {
      "text/html": [
       "<div>\n",
       "<style scoped>\n",
       "    .dataframe tbody tr th:only-of-type {\n",
       "        vertical-align: middle;\n",
       "    }\n",
       "\n",
       "    .dataframe tbody tr th {\n",
       "        vertical-align: top;\n",
       "    }\n",
       "\n",
       "    .dataframe thead th {\n",
       "        text-align: right;\n",
       "    }\n",
       "</style>\n",
       "<table border=\"1\" class=\"dataframe\">\n",
       "  <thead>\n",
       "    <tr style=\"text-align: right;\">\n",
       "      <th></th>\n",
       "      <th>host_response_rate</th>\n",
       "      <th>host_acceptance_rate</th>\n",
       "      <th>host_listings_count</th>\n",
       "      <th>latitude</th>\n",
       "      <th>longitude</th>\n",
       "      <th>city</th>\n",
       "      <th>zipcode</th>\n",
       "      <th>state</th>\n",
       "      <th>accommodates</th>\n",
       "      <th>room_type</th>\n",
       "      <th>bedrooms</th>\n",
       "      <th>bathrooms</th>\n",
       "      <th>beds</th>\n",
       "      <th>price</th>\n",
       "      <th>cleaning_fee</th>\n",
       "      <th>security_deposit</th>\n",
       "      <th>minimum_nights</th>\n",
       "      <th>maximum_nights</th>\n",
       "      <th>number_of_reviews</th>\n",
       "    </tr>\n",
       "  </thead>\n",
       "  <tbody>\n",
       "    <tr>\n",
       "      <th>0</th>\n",
       "      <td>100%</td>\n",
       "      <td>NaN</td>\n",
       "      <td>1.0</td>\n",
       "      <td>48.83349</td>\n",
       "      <td>2.31852</td>\n",
       "      <td>Paris</td>\n",
       "      <td>75014</td>\n",
       "      <td>Île-de-France</td>\n",
       "      <td>2</td>\n",
       "      <td>Entire home/apt</td>\n",
       "      <td>0.0</td>\n",
       "      <td>1.0</td>\n",
       "      <td>0.0</td>\n",
       "      <td>$75.00</td>\n",
       "      <td>$50.00</td>\n",
       "      <td>$0.00</td>\n",
       "      <td>3</td>\n",
       "      <td>15</td>\n",
       "      <td>8</td>\n",
       "    </tr>\n",
       "  </tbody>\n",
       "</table>\n",
       "</div>"
      ],
      "text/plain": [
       "  host_response_rate  host_acceptance_rate  host_listings_count  latitude  \\\n",
       "0               100%                   NaN                  1.0  48.83349   \n",
       "\n",
       "   longitude   city zipcode          state  accommodates        room_type  \\\n",
       "0    2.31852  Paris   75014  Île-de-France             2  Entire home/apt   \n",
       "\n",
       "   bedrooms  bathrooms  beds   price cleaning_fee security_deposit  \\\n",
       "0       0.0        1.0   0.0  $75.00       $50.00            $0.00   \n",
       "\n",
       "   minimum_nights  maximum_nights  number_of_reviews  \n",
       "0               3              15                  8  "
      ]
     },
     "execution_count": 4,
     "metadata": {},
     "output_type": "execute_result"
    }
   ],
   "source": [
    "paris_listings.head(1)"
   ]
  },
  {
   "cell_type": "code",
   "execution_count": 5,
   "id": "1fe51010",
   "metadata": {},
   "outputs": [],
   "source": [
    "import numpy as np"
   ]
  },
  {
   "cell_type": "code",
   "execution_count": 6,
   "id": "99b7e872",
   "metadata": {},
   "outputs": [],
   "source": [
    " our_accomadates_value = 3"
   ]
  },
  {
   "cell_type": "code",
   "execution_count": 11,
   "id": "d2f26a8b",
   "metadata": {},
   "outputs": [],
   "source": [
    "first_living_space_value = paris_listings.iloc[0]['accommodates']"
   ]
  },
  {
   "cell_type": "code",
   "execution_count": 14,
   "id": "6106ee50",
   "metadata": {},
   "outputs": [],
   "source": [
    "first_distance = np.abs(first_living_space_value - our_accomadates_value)"
   ]
  },
  {
   "cell_type": "code",
   "execution_count": 15,
   "id": "4da78f1e",
   "metadata": {},
   "outputs": [
    {
     "data": {
      "text/plain": [
       "1"
      ]
     },
     "execution_count": 15,
     "metadata": {},
     "output_type": "execute_result"
    }
   ],
   "source": [
    "first_distance"
   ]
  },
  {
   "cell_type": "code",
   "execution_count": 19,
   "id": "b003d65b",
   "metadata": {},
   "outputs": [],
   "source": [
    "paris_listings['distance'] = paris_listings['accommodates'].apply(lambda x: np.abs(x - our_accomadates_value))"
   ]
  },
  {
   "cell_type": "code",
   "execution_count": 20,
   "id": "6fed4bdd",
   "metadata": {},
   "outputs": [
    {
     "data": {
      "text/plain": [
       "1     5665\n",
       "0      878\n",
       "2      726\n",
       "3      508\n",
       "4       88\n",
       "5       82\n",
       "6       18\n",
       "7       14\n",
       "9        8\n",
       "11       4\n",
       "8        4\n",
       "13       3\n",
       "10       2\n",
       "Name: distance, dtype: int64"
      ]
     },
     "execution_count": 20,
     "metadata": {},
     "output_type": "execute_result"
    }
   ],
   "source": [
    "paris_listings['distance'].value_counts()"
   ]
  },
  {
   "cell_type": "code",
   "execution_count": 21,
   "id": "e994b43a",
   "metadata": {},
   "outputs": [],
   "source": [
    "np.random.seed(1)"
   ]
  },
  {
   "cell_type": "code",
   "execution_count": 23,
   "id": "9e0b366f",
   "metadata": {},
   "outputs": [],
   "source": [
    "order = np.random.permutation(len(paris_listings))"
   ]
  },
  {
   "cell_type": "code",
   "execution_count": 24,
   "id": "b744660f",
   "metadata": {},
   "outputs": [],
   "source": [
    "paris_listings = paris_listings.loc[order]"
   ]
  },
  {
   "cell_type": "code",
   "execution_count": 26,
   "id": "ef63946c",
   "metadata": {},
   "outputs": [],
   "source": [
    "paris_listings = paris_listings.sort_values('distance')"
   ]
  },
  {
   "cell_type": "code",
   "execution_count": 27,
   "id": "5cf39721",
   "metadata": {},
   "outputs": [
    {
     "data": {
      "text/plain": [
       "1956     $80.00\n",
       "3735     $67.00\n",
       "6944     $36.00\n",
       "2094    $120.00\n",
       "2968     $60.00\n",
       "845     $200.00\n",
       "6083     $95.00\n",
       "5970     $95.00\n",
       "2992     $76.00\n",
       "3179    $100.00\n",
       "Name: price, dtype: object"
      ]
     },
     "execution_count": 27,
     "metadata": {},
     "output_type": "execute_result"
    }
   ],
   "source": [
    "paris_listings.iloc[0:10].price"
   ]
  },
  {
   "cell_type": "code",
   "execution_count": 30,
   "id": "61489919",
   "metadata": {},
   "outputs": [],
   "source": [
    "paris_listings['price'] = paris_listings['price'].str.replace(',', '', regex=False)\n",
    "paris_listings['price'] = paris_listings['price'].str.replace('$', '', regex=False)"
   ]
  },
  {
   "cell_type": "code",
   "execution_count": 31,
   "id": "cd14089b",
   "metadata": {},
   "outputs": [
    {
     "data": {
      "text/plain": [
       "1956     80.00\n",
       "3735     67.00\n",
       "6944     36.00\n",
       "2094    120.00\n",
       "2968     60.00\n",
       "845     200.00\n",
       "6083     95.00\n",
       "5970     95.00\n",
       "2992     76.00\n",
       "3179    100.00\n",
       "Name: price, dtype: object"
      ]
     },
     "execution_count": 31,
     "metadata": {},
     "output_type": "execute_result"
    }
   ],
   "source": [
    "paris_listings.iloc[0:10].price"
   ]
  },
  {
   "cell_type": "code",
   "execution_count": 34,
   "id": "d755e939",
   "metadata": {},
   "outputs": [],
   "source": [
    "paris_listings['price'] = paris_listings['price'].astype('float')"
   ]
  },
  {
   "cell_type": "code",
   "execution_count": 35,
   "id": "6500fea0",
   "metadata": {},
   "outputs": [
    {
     "data": {
      "text/plain": [
       "dtype('float64')"
      ]
     },
     "execution_count": 35,
     "metadata": {},
     "output_type": "execute_result"
    }
   ],
   "source": [
    "paris_listings['price'].dtype"
   ]
  },
  {
   "cell_type": "code",
   "execution_count": 38,
   "id": "628c580b",
   "metadata": {},
   "outputs": [],
   "source": [
    "mean_price = paris_listings.iloc[0:5]['price'].mean()"
   ]
  },
  {
   "cell_type": "code",
   "execution_count": 39,
   "id": "c7e2c5df",
   "metadata": {},
   "outputs": [
    {
     "data": {
      "text/plain": [
       "72.6"
      ]
     },
     "execution_count": 39,
     "metadata": {},
     "output_type": "execute_result"
    }
   ],
   "source": [
    "mean_price"
   ]
  },
  {
   "cell_type": "markdown",
   "id": "52c82f1e",
   "metadata": {},
   "source": [
    "# Entrainement d'un modèle"
   ]
  },
  {
   "cell_type": "code",
   "execution_count": 68,
   "id": "1d78bace",
   "metadata": {},
   "outputs": [],
   "source": [
    "import pandas as pd\n",
    "import numpy as np\n",
    "np.random.seed(1)\n",
    "\n",
    "paris_listings = pd.read_csv('paris_airbnb.csv')\n",
    "stripped_comas = paris_listings['price'].str.replace(',', '', regex=False)\n",
    "stripped_dollars = stripped_comas.str.replace('$', '', regex=False)\n",
    "paris_listings['price'] = stripped_dollars.astype('float')\n",
    "paris_listings = paris_listings.loc[np.random.permutation(len(paris_listings))]\n",
    "\n",
    "train_df = paris_listings.iloc[0:6000].copy()\n",
    "test_df = paris_listings.iloc[6000:].copy()\n",
    "\n",
    "def predict_price(new_listing):\n",
    "    temp_df = train_df.copy()\n",
    "    temp_df['distance'] = temp_df['accommodates'].apply(lambda x: np.abs(x - new_listing))\n",
    "    temp_df = temp_df.sort_values('distance')\n",
    "    predicted_price = temp_df.iloc[0:5]['price'].mean()\n",
    "    return predicted_price\n",
    "\n",
    "test_df['predicted_price'] = test_df['accommodates'].apply(lambda x: predict_price(x))"
   ]
  },
  {
   "cell_type": "code",
   "execution_count": 69,
   "id": "152ee4ac",
   "metadata": {},
   "outputs": [
    {
     "data": {
      "text/html": [
       "<div>\n",
       "<style scoped>\n",
       "    .dataframe tbody tr th:only-of-type {\n",
       "        vertical-align: middle;\n",
       "    }\n",
       "\n",
       "    .dataframe tbody tr th {\n",
       "        vertical-align: top;\n",
       "    }\n",
       "\n",
       "    .dataframe thead th {\n",
       "        text-align: right;\n",
       "    }\n",
       "</style>\n",
       "<table border=\"1\" class=\"dataframe\">\n",
       "  <thead>\n",
       "    <tr style=\"text-align: right;\">\n",
       "      <th></th>\n",
       "      <th>host_response_rate</th>\n",
       "      <th>host_acceptance_rate</th>\n",
       "      <th>host_listings_count</th>\n",
       "      <th>latitude</th>\n",
       "      <th>longitude</th>\n",
       "      <th>city</th>\n",
       "      <th>zipcode</th>\n",
       "      <th>state</th>\n",
       "      <th>accommodates</th>\n",
       "      <th>room_type</th>\n",
       "      <th>bedrooms</th>\n",
       "      <th>bathrooms</th>\n",
       "      <th>beds</th>\n",
       "      <th>price</th>\n",
       "      <th>cleaning_fee</th>\n",
       "      <th>security_deposit</th>\n",
       "      <th>minimum_nights</th>\n",
       "      <th>maximum_nights</th>\n",
       "      <th>number_of_reviews</th>\n",
       "      <th>predicted_price</th>\n",
       "    </tr>\n",
       "  </thead>\n",
       "  <tbody>\n",
       "    <tr>\n",
       "      <th>4465</th>\n",
       "      <td>96%</td>\n",
       "      <td>NaN</td>\n",
       "      <td>28.0</td>\n",
       "      <td>48.89318</td>\n",
       "      <td>2.31884</td>\n",
       "      <td>Paris</td>\n",
       "      <td>75017</td>\n",
       "      <td>Paris province</td>\n",
       "      <td>2</td>\n",
       "      <td>Entire home/apt</td>\n",
       "      <td>0.0</td>\n",
       "      <td>1.0</td>\n",
       "      <td>1.0</td>\n",
       "      <td>63.0</td>\n",
       "      <td>$100.00</td>\n",
       "      <td>$400.00</td>\n",
       "      <td>14</td>\n",
       "      <td>180</td>\n",
       "      <td>61</td>\n",
       "      <td>90.4</td>\n",
       "    </tr>\n",
       "    <tr>\n",
       "      <th>3154</th>\n",
       "      <td>100%</td>\n",
       "      <td>NaN</td>\n",
       "      <td>2.0</td>\n",
       "      <td>48.85114</td>\n",
       "      <td>2.29728</td>\n",
       "      <td>Paris</td>\n",
       "      <td>75015</td>\n",
       "      <td>Île-de-France</td>\n",
       "      <td>5</td>\n",
       "      <td>Entire home/apt</td>\n",
       "      <td>1.0</td>\n",
       "      <td>1.0</td>\n",
       "      <td>4.0</td>\n",
       "      <td>120.0</td>\n",
       "      <td>$50.00</td>\n",
       "      <td>$200.00</td>\n",
       "      <td>1</td>\n",
       "      <td>120</td>\n",
       "      <td>102</td>\n",
       "      <td>176.8</td>\n",
       "    </tr>\n",
       "    <tr>\n",
       "      <th>1969</th>\n",
       "      <td>65%</td>\n",
       "      <td>NaN</td>\n",
       "      <td>93.0</td>\n",
       "      <td>48.85134</td>\n",
       "      <td>2.33359</td>\n",
       "      <td>Paris</td>\n",
       "      <td>75006</td>\n",
       "      <td>Île-de-France</td>\n",
       "      <td>3</td>\n",
       "      <td>Entire home/apt</td>\n",
       "      <td>1.0</td>\n",
       "      <td>1.0</td>\n",
       "      <td>2.0</td>\n",
       "      <td>149.0</td>\n",
       "      <td>$60.00</td>\n",
       "      <td>$600.00</td>\n",
       "      <td>30</td>\n",
       "      <td>1125</td>\n",
       "      <td>5</td>\n",
       "      <td>96.2</td>\n",
       "    </tr>\n",
       "    <tr>\n",
       "      <th>2713</th>\n",
       "      <td>NaN</td>\n",
       "      <td>NaN</td>\n",
       "      <td>1.0</td>\n",
       "      <td>48.87320</td>\n",
       "      <td>2.38649</td>\n",
       "      <td>Paris</td>\n",
       "      <td>75020</td>\n",
       "      <td>Île-de-France</td>\n",
       "      <td>4</td>\n",
       "      <td>Entire home/apt</td>\n",
       "      <td>2.0</td>\n",
       "      <td>1.0</td>\n",
       "      <td>1.0</td>\n",
       "      <td>79.0</td>\n",
       "      <td>$65.00</td>\n",
       "      <td>$299.00</td>\n",
       "      <td>2</td>\n",
       "      <td>1125</td>\n",
       "      <td>5</td>\n",
       "      <td>173.0</td>\n",
       "    </tr>\n",
       "    <tr>\n",
       "      <th>5578</th>\n",
       "      <td>100%</td>\n",
       "      <td>NaN</td>\n",
       "      <td>1.0</td>\n",
       "      <td>48.85691</td>\n",
       "      <td>2.36013</td>\n",
       "      <td>Paris</td>\n",
       "      <td>75004</td>\n",
       "      <td>Île-de-France</td>\n",
       "      <td>2</td>\n",
       "      <td>Entire home/apt</td>\n",
       "      <td>1.0</td>\n",
       "      <td>1.0</td>\n",
       "      <td>1.0</td>\n",
       "      <td>51.0</td>\n",
       "      <td>$25.00</td>\n",
       "      <td>$150.00</td>\n",
       "      <td>4</td>\n",
       "      <td>15</td>\n",
       "      <td>17</td>\n",
       "      <td>90.4</td>\n",
       "    </tr>\n",
       "  </tbody>\n",
       "</table>\n",
       "</div>"
      ],
      "text/plain": [
       "     host_response_rate  host_acceptance_rate  host_listings_count  latitude  \\\n",
       "4465                96%                   NaN                 28.0  48.89318   \n",
       "3154               100%                   NaN                  2.0  48.85114   \n",
       "1969                65%                   NaN                 93.0  48.85134   \n",
       "2713                NaN                   NaN                  1.0  48.87320   \n",
       "5578               100%                   NaN                  1.0  48.85691   \n",
       "\n",
       "      longitude   city zipcode           state  accommodates        room_type  \\\n",
       "4465    2.31884  Paris   75017  Paris province             2  Entire home/apt   \n",
       "3154    2.29728  Paris   75015   Île-de-France             5  Entire home/apt   \n",
       "1969    2.33359  Paris   75006   Île-de-France             3  Entire home/apt   \n",
       "2713    2.38649  Paris   75020   Île-de-France             4  Entire home/apt   \n",
       "5578    2.36013  Paris   75004   Île-de-France             2  Entire home/apt   \n",
       "\n",
       "      bedrooms  bathrooms  beds  price cleaning_fee security_deposit  \\\n",
       "4465       0.0        1.0   1.0   63.0      $100.00          $400.00   \n",
       "3154       1.0        1.0   4.0  120.0       $50.00          $200.00   \n",
       "1969       1.0        1.0   2.0  149.0       $60.00          $600.00   \n",
       "2713       2.0        1.0   1.0   79.0       $65.00          $299.00   \n",
       "5578       1.0        1.0   1.0   51.0       $25.00          $150.00   \n",
       "\n",
       "      minimum_nights  maximum_nights  number_of_reviews  predicted_price  \n",
       "4465              14             180                 61             90.4  \n",
       "3154               1             120                102            176.8  \n",
       "1969              30            1125                  5             96.2  \n",
       "2713               2            1125                  5            173.0  \n",
       "5578               4              15                 17             90.4  "
      ]
     },
     "execution_count": 69,
     "metadata": {},
     "output_type": "execute_result"
    }
   ],
   "source": [
    "test_df.head()"
   ]
  },
  {
   "cell_type": "code",
   "execution_count": 70,
   "id": "525fa79d",
   "metadata": {},
   "outputs": [
    {
     "data": {
      "text/plain": [
       "52.562200000000004"
      ]
     },
     "execution_count": 70,
     "metadata": {},
     "output_type": "execute_result"
    }
   ],
   "source": [
    "test_df['error'] = np.absolute(test_df['predicted_price'] - test_df['price'])\n",
    "mae = test_df['error'].mean()\n",
    "mae"
   ]
  },
  {
   "cell_type": "code",
   "execution_count": 71,
   "id": "16d6068d",
   "metadata": {},
   "outputs": [
    {
     "data": {
      "text/plain": [
       "6724.726040000001"
      ]
     },
     "execution_count": 71,
     "metadata": {},
     "output_type": "execute_result"
    }
   ],
   "source": [
    "test_df['squared_error'] = (test_df['predicted_price'] - test_df['price'])**2\n",
    "mse =  test_df['squared_error'].mean()\n",
    "mse"
   ]
  },
  {
   "cell_type": "code",
   "execution_count": 73,
   "id": "1d9e84f7",
   "metadata": {},
   "outputs": [
    {
     "data": {
      "text/plain": [
       "82.00442695367124"
      ]
     },
     "execution_count": 73,
     "metadata": {},
     "output_type": "execute_result"
    }
   ],
   "source": [
    "rmse = np.sqrt(mse)\n",
    "rmse"
   ]
  },
  {
   "cell_type": "markdown",
   "id": "f98b0169",
   "metadata": {},
   "source": [
    "# Entrainement d'un autre modèle"
   ]
  },
  {
   "cell_type": "code",
   "execution_count": 74,
   "id": "b0caf06a",
   "metadata": {},
   "outputs": [],
   "source": [
    "def predict_price_2(new_listing):\n",
    "    temp_df = train_df.copy()\n",
    "    temp_df['distance'] = temp_df['bedrooms'].apply(lambda x: np.abs(x - new_listing))\n",
    "    temp_df = temp_df.sort_values('distance')\n",
    "    predicted_price = temp_df.iloc[0:5]['price'].mean()\n",
    "    return predicted_price"
   ]
  },
  {
   "cell_type": "code",
   "execution_count": 75,
   "id": "fb6964d2",
   "metadata": {},
   "outputs": [],
   "source": [
    "test_df['predicted_price'] = test_df['bedrooms'].apply(lambda x: predict_price_2(x))"
   ]
  },
  {
   "cell_type": "code",
   "execution_count": 76,
   "id": "3e6cdb56",
   "metadata": {},
   "outputs": [
    {
     "data": {
      "text/plain": [
       "6281.181979999999"
      ]
     },
     "execution_count": 76,
     "metadata": {},
     "output_type": "execute_result"
    }
   ],
   "source": [
    "test_df['squared_error'] = (test_df['predicted_price'] - test_df['price'])**2\n",
    "mse =  test_df['squared_error'].mean()\n",
    "mse"
   ]
  },
  {
   "cell_type": "code",
   "execution_count": 79,
   "id": "debeaeef",
   "metadata": {},
   "outputs": [],
   "source": [
    "rmse = np.sqrt(mse)"
   ]
  },
  {
   "cell_type": "code",
   "execution_count": 80,
   "id": "5b75d7b8",
   "metadata": {},
   "outputs": [
    {
     "data": {
      "text/plain": [
       "79.25390829479642"
      ]
     },
     "execution_count": 80,
     "metadata": {},
     "output_type": "execute_result"
    }
   ],
   "source": [
    "rmse"
   ]
  },
  {
   "cell_type": "markdown",
   "id": "8eded874",
   "metadata": {},
   "source": [
    "# Modèle multivarié"
   ]
  },
  {
   "cell_type": "code",
   "execution_count": 147,
   "id": "5427a1a3",
   "metadata": {},
   "outputs": [],
   "source": [
    "import pandas as pd\n",
    "import numpy as np\n",
    "np.random.seed(1)\n",
    "paris_listings = pd.read_csv('paris_airbnb.csv')\n",
    "stripped_comas = paris_listings['price'].str.replace(',', '', regex=False)\n",
    "stripped_dollars = stripped_comas.str.replace('$', '', regex=False)\n",
    "paris_listings['price'] = stripped_dollars.astype('float')\n",
    "paris_listings = paris_listings.loc[np.random.permutation(len(paris_listings))]"
   ]
  },
  {
   "cell_type": "code",
   "execution_count": 148,
   "id": "7e7b9dd1",
   "metadata": {},
   "outputs": [
    {
     "name": "stdout",
     "output_type": "stream",
     "text": [
      "<class 'pandas.core.frame.DataFrame'>\n",
      "Int64Index: 8000 entries, 4740 to 5157\n",
      "Data columns (total 19 columns):\n",
      " #   Column                Non-Null Count  Dtype  \n",
      "---  ------                --------------  -----  \n",
      " 0   host_response_rate    5000 non-null   object \n",
      " 1   host_acceptance_rate  0 non-null      float64\n",
      " 2   host_listings_count   7999 non-null   float64\n",
      " 3   latitude              8000 non-null   float64\n",
      " 4   longitude             8000 non-null   float64\n",
      " 5   city                  7997 non-null   object \n",
      " 6   zipcode               7930 non-null   object \n",
      " 7   state                 7977 non-null   object \n",
      " 8   accommodates          8000 non-null   int64  \n",
      " 9   room_type             8000 non-null   object \n",
      " 10  bedrooms              7976 non-null   float64\n",
      " 11  bathrooms             7942 non-null   float64\n",
      " 12  beds                  7986 non-null   float64\n",
      " 13  price                 8000 non-null   float64\n",
      " 14  cleaning_fee          6250 non-null   object \n",
      " 15  security_deposit      6320 non-null   object \n",
      " 16  minimum_nights        8000 non-null   int64  \n",
      " 17  maximum_nights        8000 non-null   int64  \n",
      " 18  number_of_reviews     8000 non-null   int64  \n",
      "dtypes: float64(8), int64(4), object(7)\n",
      "memory usage: 1.2+ MB\n"
     ]
    }
   ],
   "source": [
    "paris_listings.info()"
   ]
  },
  {
   "cell_type": "markdown",
   "id": "6b1c6a10",
   "metadata": {},
   "source": [
    "### Suppression des colonnes qui ne seront pas utiles\n",
    "\n",
    "-> Colonnes ne contenant pas de données numériques  \n",
    "-> Colonnes ne contenant pas de données ordinales  \n",
    "-> Colonnes n'ayant pas de lien avec l'appartement en lui même  "
   ]
  },
  {
   "cell_type": "code",
   "execution_count": 149,
   "id": "825fcb43",
   "metadata": {},
   "outputs": [],
   "source": [
    "paris_listings=paris_listings.drop(columns=[\n",
    "    'room_type',\n",
    "    'city',\n",
    "    'state',\n",
    "    'latitude',\n",
    "    'longitude',\n",
    "    'zipcode',\n",
    "    'host_response_rate',\n",
    "    'host_acceptance_rate',\n",
    "    'host_listings_count'\n",
    "])"
   ]
  },
  {
   "cell_type": "code",
   "execution_count": 150,
   "id": "3039dbb8",
   "metadata": {},
   "outputs": [
    {
     "name": "stdout",
     "output_type": "stream",
     "text": [
      "<class 'pandas.core.frame.DataFrame'>\n",
      "Int64Index: 8000 entries, 4740 to 5157\n",
      "Data columns (total 10 columns):\n",
      " #   Column             Non-Null Count  Dtype  \n",
      "---  ------             --------------  -----  \n",
      " 0   accommodates       8000 non-null   int64  \n",
      " 1   bedrooms           7976 non-null   float64\n",
      " 2   bathrooms          7942 non-null   float64\n",
      " 3   beds               7986 non-null   float64\n",
      " 4   price              8000 non-null   float64\n",
      " 5   cleaning_fee       6250 non-null   object \n",
      " 6   security_deposit   6320 non-null   object \n",
      " 7   minimum_nights     8000 non-null   int64  \n",
      " 8   maximum_nights     8000 non-null   int64  \n",
      " 9   number_of_reviews  8000 non-null   int64  \n",
      "dtypes: float64(4), int64(4), object(2)\n",
      "memory usage: 687.5+ KB\n"
     ]
    }
   ],
   "source": [
    "paris_listings.info()"
   ]
  },
  {
   "cell_type": "markdown",
   "id": "706783f0",
   "metadata": {},
   "source": [
    "### Suppression des valeurs manquantes"
   ]
  },
  {
   "cell_type": "code",
   "execution_count": 151,
   "id": "652ccf5a",
   "metadata": {},
   "outputs": [
    {
     "data": {
      "text/plain": [
       "accommodates            0\n",
       "bedrooms               24\n",
       "bathrooms              58\n",
       "beds                   14\n",
       "price                   0\n",
       "cleaning_fee         1750\n",
       "security_deposit     1680\n",
       "minimum_nights          0\n",
       "maximum_nights          0\n",
       "number_of_reviews       0\n",
       "dtype: int64"
      ]
     },
     "execution_count": 151,
     "metadata": {},
     "output_type": "execute_result"
    }
   ],
   "source": [
    "paris_listings.isnull().sum()"
   ]
  },
  {
   "cell_type": "code",
   "execution_count": 152,
   "id": "1d722881",
   "metadata": {},
   "outputs": [],
   "source": [
    "paris_listings=paris_listings.drop(['cleaning_fee', 'security_deposit'], axis=1)"
   ]
  },
  {
   "cell_type": "code",
   "execution_count": 153,
   "id": "d16e82f0",
   "metadata": {},
   "outputs": [
    {
     "data": {
      "text/html": [
       "<div>\n",
       "<style scoped>\n",
       "    .dataframe tbody tr th:only-of-type {\n",
       "        vertical-align: middle;\n",
       "    }\n",
       "\n",
       "    .dataframe tbody tr th {\n",
       "        vertical-align: top;\n",
       "    }\n",
       "\n",
       "    .dataframe thead th {\n",
       "        text-align: right;\n",
       "    }\n",
       "</style>\n",
       "<table border=\"1\" class=\"dataframe\">\n",
       "  <thead>\n",
       "    <tr style=\"text-align: right;\">\n",
       "      <th></th>\n",
       "      <th>accommodates</th>\n",
       "      <th>bedrooms</th>\n",
       "      <th>bathrooms</th>\n",
       "      <th>beds</th>\n",
       "      <th>price</th>\n",
       "      <th>minimum_nights</th>\n",
       "      <th>maximum_nights</th>\n",
       "      <th>number_of_reviews</th>\n",
       "    </tr>\n",
       "  </thead>\n",
       "  <tbody>\n",
       "    <tr>\n",
       "      <th>4740</th>\n",
       "      <td>4</td>\n",
       "      <td>1.0</td>\n",
       "      <td>1.0</td>\n",
       "      <td>2.0</td>\n",
       "      <td>65.0</td>\n",
       "      <td>2</td>\n",
       "      <td>1125</td>\n",
       "      <td>6</td>\n",
       "    </tr>\n",
       "    <tr>\n",
       "      <th>5606</th>\n",
       "      <td>3</td>\n",
       "      <td>2.0</td>\n",
       "      <td>1.5</td>\n",
       "      <td>2.0</td>\n",
       "      <td>98.0</td>\n",
       "      <td>5</td>\n",
       "      <td>1124</td>\n",
       "      <td>1</td>\n",
       "    </tr>\n",
       "    <tr>\n",
       "      <th>4824</th>\n",
       "      <td>2</td>\n",
       "      <td>0.0</td>\n",
       "      <td>1.0</td>\n",
       "      <td>1.0</td>\n",
       "      <td>65.0</td>\n",
       "      <td>10</td>\n",
       "      <td>1125</td>\n",
       "      <td>0</td>\n",
       "    </tr>\n",
       "    <tr>\n",
       "      <th>4205</th>\n",
       "      <td>2</td>\n",
       "      <td>1.0</td>\n",
       "      <td>1.0</td>\n",
       "      <td>1.0</td>\n",
       "      <td>45.0</td>\n",
       "      <td>5</td>\n",
       "      <td>1125</td>\n",
       "      <td>83</td>\n",
       "    </tr>\n",
       "    <tr>\n",
       "      <th>3228</th>\n",
       "      <td>3</td>\n",
       "      <td>1.0</td>\n",
       "      <td>1.0</td>\n",
       "      <td>2.0</td>\n",
       "      <td>65.0</td>\n",
       "      <td>5</td>\n",
       "      <td>365</td>\n",
       "      <td>5</td>\n",
       "    </tr>\n",
       "    <tr>\n",
       "      <th>...</th>\n",
       "      <td>...</td>\n",
       "      <td>...</td>\n",
       "      <td>...</td>\n",
       "      <td>...</td>\n",
       "      <td>...</td>\n",
       "      <td>...</td>\n",
       "      <td>...</td>\n",
       "      <td>...</td>\n",
       "    </tr>\n",
       "    <tr>\n",
       "      <th>7935</th>\n",
       "      <td>4</td>\n",
       "      <td>1.0</td>\n",
       "      <td>1.0</td>\n",
       "      <td>2.0</td>\n",
       "      <td>72.0</td>\n",
       "      <td>7</td>\n",
       "      <td>7</td>\n",
       "      <td>0</td>\n",
       "    </tr>\n",
       "    <tr>\n",
       "      <th>5192</th>\n",
       "      <td>2</td>\n",
       "      <td>0.0</td>\n",
       "      <td>1.0</td>\n",
       "      <td>1.0</td>\n",
       "      <td>49.0</td>\n",
       "      <td>30</td>\n",
       "      <td>1125</td>\n",
       "      <td>2</td>\n",
       "    </tr>\n",
       "    <tr>\n",
       "      <th>3980</th>\n",
       "      <td>2</td>\n",
       "      <td>0.0</td>\n",
       "      <td>1.0</td>\n",
       "      <td>1.0</td>\n",
       "      <td>99.0</td>\n",
       "      <td>2</td>\n",
       "      <td>1125</td>\n",
       "      <td>2</td>\n",
       "    </tr>\n",
       "    <tr>\n",
       "      <th>235</th>\n",
       "      <td>6</td>\n",
       "      <td>2.0</td>\n",
       "      <td>1.0</td>\n",
       "      <td>4.0</td>\n",
       "      <td>230.0</td>\n",
       "      <td>2</td>\n",
       "      <td>25</td>\n",
       "      <td>98</td>\n",
       "    </tr>\n",
       "    <tr>\n",
       "      <th>5157</th>\n",
       "      <td>2</td>\n",
       "      <td>1.0</td>\n",
       "      <td>1.0</td>\n",
       "      <td>1.0</td>\n",
       "      <td>100.0</td>\n",
       "      <td>3</td>\n",
       "      <td>20</td>\n",
       "      <td>0</td>\n",
       "    </tr>\n",
       "  </tbody>\n",
       "</table>\n",
       "<p>8000 rows × 8 columns</p>\n",
       "</div>"
      ],
      "text/plain": [
       "      accommodates  bedrooms  bathrooms  beds  price  minimum_nights  \\\n",
       "4740             4       1.0        1.0   2.0   65.0               2   \n",
       "5606             3       2.0        1.5   2.0   98.0               5   \n",
       "4824             2       0.0        1.0   1.0   65.0              10   \n",
       "4205             2       1.0        1.0   1.0   45.0               5   \n",
       "3228             3       1.0        1.0   2.0   65.0               5   \n",
       "...            ...       ...        ...   ...    ...             ...   \n",
       "7935             4       1.0        1.0   2.0   72.0               7   \n",
       "5192             2       0.0        1.0   1.0   49.0              30   \n",
       "3980             2       0.0        1.0   1.0   99.0               2   \n",
       "235              6       2.0        1.0   4.0  230.0               2   \n",
       "5157             2       1.0        1.0   1.0  100.0               3   \n",
       "\n",
       "      maximum_nights  number_of_reviews  \n",
       "4740            1125                  6  \n",
       "5606            1124                  1  \n",
       "4824            1125                  0  \n",
       "4205            1125                 83  \n",
       "3228             365                  5  \n",
       "...              ...                ...  \n",
       "7935               7                  0  \n",
       "5192            1125                  2  \n",
       "3980            1125                  2  \n",
       "235               25                 98  \n",
       "5157              20                  0  \n",
       "\n",
       "[8000 rows x 8 columns]"
      ]
     },
     "execution_count": 153,
     "metadata": {},
     "output_type": "execute_result"
    }
   ],
   "source": [
    "paris_listings"
   ]
  },
  {
   "cell_type": "code",
   "execution_count": 154,
   "id": "99af4e6b",
   "metadata": {},
   "outputs": [],
   "source": [
    "paris_listings=paris_listings.dropna(axis=0)"
   ]
  },
  {
   "cell_type": "code",
   "execution_count": 155,
   "id": "74a8983f",
   "metadata": {},
   "outputs": [
    {
     "name": "stdout",
     "output_type": "stream",
     "text": [
      "<class 'pandas.core.frame.DataFrame'>\n",
      "Int64Index: 7917 entries, 4740 to 5157\n",
      "Data columns (total 8 columns):\n",
      " #   Column             Non-Null Count  Dtype  \n",
      "---  ------             --------------  -----  \n",
      " 0   accommodates       7917 non-null   int64  \n",
      " 1   bedrooms           7917 non-null   float64\n",
      " 2   bathrooms          7917 non-null   float64\n",
      " 3   beds               7917 non-null   float64\n",
      " 4   price              7917 non-null   float64\n",
      " 5   minimum_nights     7917 non-null   int64  \n",
      " 6   maximum_nights     7917 non-null   int64  \n",
      " 7   number_of_reviews  7917 non-null   int64  \n",
      "dtypes: float64(4), int64(4)\n",
      "memory usage: 556.7 KB\n"
     ]
    }
   ],
   "source": [
    "paris_listings.info()"
   ]
  },
  {
   "cell_type": "code",
   "execution_count": 156,
   "id": "0d2007fb",
   "metadata": {},
   "outputs": [
    {
     "data": {
      "text/plain": [
       "accommodates         0\n",
       "bedrooms             0\n",
       "bathrooms            0\n",
       "beds                 0\n",
       "price                0\n",
       "minimum_nights       0\n",
       "maximum_nights       0\n",
       "number_of_reviews    0\n",
       "dtype: int64"
      ]
     },
     "execution_count": 156,
     "metadata": {},
     "output_type": "execute_result"
    }
   ],
   "source": [
    "paris_listings.isnull().sum()"
   ]
  },
  {
   "cell_type": "markdown",
   "id": "adb452fb",
   "metadata": {},
   "source": [
    "### Normalisation des colonnes"
   ]
  },
  {
   "cell_type": "code",
   "execution_count": 157,
   "id": "d49c09bd",
   "metadata": {},
   "outputs": [
    {
     "data": {
      "text/html": [
       "<div>\n",
       "<style scoped>\n",
       "    .dataframe tbody tr th:only-of-type {\n",
       "        vertical-align: middle;\n",
       "    }\n",
       "\n",
       "    .dataframe tbody tr th {\n",
       "        vertical-align: top;\n",
       "    }\n",
       "\n",
       "    .dataframe thead th {\n",
       "        text-align: right;\n",
       "    }\n",
       "</style>\n",
       "<table border=\"1\" class=\"dataframe\">\n",
       "  <thead>\n",
       "    <tr style=\"text-align: right;\">\n",
       "      <th></th>\n",
       "      <th>accommodates</th>\n",
       "      <th>bedrooms</th>\n",
       "      <th>bathrooms</th>\n",
       "      <th>beds</th>\n",
       "      <th>price</th>\n",
       "      <th>minimum_nights</th>\n",
       "      <th>maximum_nights</th>\n",
       "      <th>number_of_reviews</th>\n",
       "    </tr>\n",
       "  </thead>\n",
       "  <tbody>\n",
       "    <tr>\n",
       "      <th>4740</th>\n",
       "      <td>4</td>\n",
       "      <td>1.0</td>\n",
       "      <td>1.0</td>\n",
       "      <td>2.0</td>\n",
       "      <td>65.0</td>\n",
       "      <td>2</td>\n",
       "      <td>1125</td>\n",
       "      <td>6</td>\n",
       "    </tr>\n",
       "    <tr>\n",
       "      <th>5606</th>\n",
       "      <td>3</td>\n",
       "      <td>2.0</td>\n",
       "      <td>1.5</td>\n",
       "      <td>2.0</td>\n",
       "      <td>98.0</td>\n",
       "      <td>5</td>\n",
       "      <td>1124</td>\n",
       "      <td>1</td>\n",
       "    </tr>\n",
       "    <tr>\n",
       "      <th>4824</th>\n",
       "      <td>2</td>\n",
       "      <td>0.0</td>\n",
       "      <td>1.0</td>\n",
       "      <td>1.0</td>\n",
       "      <td>65.0</td>\n",
       "      <td>10</td>\n",
       "      <td>1125</td>\n",
       "      <td>0</td>\n",
       "    </tr>\n",
       "    <tr>\n",
       "      <th>4205</th>\n",
       "      <td>2</td>\n",
       "      <td>1.0</td>\n",
       "      <td>1.0</td>\n",
       "      <td>1.0</td>\n",
       "      <td>45.0</td>\n",
       "      <td>5</td>\n",
       "      <td>1125</td>\n",
       "      <td>83</td>\n",
       "    </tr>\n",
       "    <tr>\n",
       "      <th>3228</th>\n",
       "      <td>3</td>\n",
       "      <td>1.0</td>\n",
       "      <td>1.0</td>\n",
       "      <td>2.0</td>\n",
       "      <td>65.0</td>\n",
       "      <td>5</td>\n",
       "      <td>365</td>\n",
       "      <td>5</td>\n",
       "    </tr>\n",
       "    <tr>\n",
       "      <th>2745</th>\n",
       "      <td>4</td>\n",
       "      <td>1.0</td>\n",
       "      <td>1.0</td>\n",
       "      <td>2.0</td>\n",
       "      <td>88.0</td>\n",
       "      <td>3</td>\n",
       "      <td>30</td>\n",
       "      <td>120</td>\n",
       "    </tr>\n",
       "  </tbody>\n",
       "</table>\n",
       "</div>"
      ],
      "text/plain": [
       "      accommodates  bedrooms  bathrooms  beds  price  minimum_nights  \\\n",
       "4740             4       1.0        1.0   2.0   65.0               2   \n",
       "5606             3       2.0        1.5   2.0   98.0               5   \n",
       "4824             2       0.0        1.0   1.0   65.0              10   \n",
       "4205             2       1.0        1.0   1.0   45.0               5   \n",
       "3228             3       1.0        1.0   2.0   65.0               5   \n",
       "2745             4       1.0        1.0   2.0   88.0               3   \n",
       "\n",
       "      maximum_nights  number_of_reviews  \n",
       "4740            1125                  6  \n",
       "5606            1124                  1  \n",
       "4824            1125                  0  \n",
       "4205            1125                 83  \n",
       "3228             365                  5  \n",
       "2745              30                120  "
      ]
     },
     "execution_count": 157,
     "metadata": {},
     "output_type": "execute_result"
    }
   ],
   "source": [
    "paris_listings.head(6)"
   ]
  },
  {
   "cell_type": "code",
   "execution_count": 158,
   "id": "a9d51082",
   "metadata": {},
   "outputs": [],
   "source": [
    "# Soustraire la moyenne à chaque valeur de la colonne\n",
    "first_transformation = paris_listings['maximum_nights'] - paris_listings['maximum_nights'].mean()\n",
    "\n",
    "#Diviser par l'écart type pour normaliser les valeurs de la colonne\n",
    "normalized_col = first_transformation/first_transformation.std()"
   ]
  },
  {
   "cell_type": "markdown",
   "id": "ce8ef507",
   "metadata": {},
   "source": [
    "###### Pour toutes les colonnes"
   ]
  },
  {
   "cell_type": "code",
   "execution_count": 159,
   "id": "0ee1e3a6",
   "metadata": {},
   "outputs": [],
   "source": [
    "normalized_listings = (paris_listings - paris_listings.mean())/paris_listings.std()"
   ]
  },
  {
   "cell_type": "code",
   "execution_count": 160,
   "id": "79d833ca",
   "metadata": {},
   "outputs": [
    {
     "data": {
      "text/html": [
       "<div>\n",
       "<style scoped>\n",
       "    .dataframe tbody tr th:only-of-type {\n",
       "        vertical-align: middle;\n",
       "    }\n",
       "\n",
       "    .dataframe tbody tr th {\n",
       "        vertical-align: top;\n",
       "    }\n",
       "\n",
       "    .dataframe thead th {\n",
       "        text-align: right;\n",
       "    }\n",
       "</style>\n",
       "<table border=\"1\" class=\"dataframe\">\n",
       "  <thead>\n",
       "    <tr style=\"text-align: right;\">\n",
       "      <th></th>\n",
       "      <th>accommodates</th>\n",
       "      <th>bedrooms</th>\n",
       "      <th>bathrooms</th>\n",
       "      <th>beds</th>\n",
       "      <th>price</th>\n",
       "      <th>minimum_nights</th>\n",
       "      <th>maximum_nights</th>\n",
       "      <th>number_of_reviews</th>\n",
       "    </tr>\n",
       "  </thead>\n",
       "  <tbody>\n",
       "    <tr>\n",
       "      <th>4740</th>\n",
       "      <td>0.503868</td>\n",
       "      <td>-0.296884</td>\n",
       "      <td>-0.293537</td>\n",
       "      <td>0.20531</td>\n",
       "      <td>-0.439998</td>\n",
       "      <td>-0.184601</td>\n",
       "      <td>1.062858</td>\n",
       "      <td>-0.564545</td>\n",
       "    </tr>\n",
       "    <tr>\n",
       "      <th>5606</th>\n",
       "      <td>-0.131849</td>\n",
       "      <td>0.892605</td>\n",
       "      <td>0.843973</td>\n",
       "      <td>0.20531</td>\n",
       "      <td>-0.145570</td>\n",
       "      <td>-0.101183</td>\n",
       "      <td>1.061018</td>\n",
       "      <td>-0.636924</td>\n",
       "    </tr>\n",
       "    <tr>\n",
       "      <th>4824</th>\n",
       "      <td>-0.767566</td>\n",
       "      <td>-1.486372</td>\n",
       "      <td>-0.293537</td>\n",
       "      <td>-0.64526</td>\n",
       "      <td>-0.439998</td>\n",
       "      <td>0.037847</td>\n",
       "      <td>1.062858</td>\n",
       "      <td>-0.651400</td>\n",
       "    </tr>\n",
       "    <tr>\n",
       "      <th>4205</th>\n",
       "      <td>-0.767566</td>\n",
       "      <td>-0.296884</td>\n",
       "      <td>-0.293537</td>\n",
       "      <td>-0.64526</td>\n",
       "      <td>-0.618440</td>\n",
       "      <td>-0.101183</td>\n",
       "      <td>1.062858</td>\n",
       "      <td>0.550105</td>\n",
       "    </tr>\n",
       "    <tr>\n",
       "      <th>3228</th>\n",
       "      <td>-0.131849</td>\n",
       "      <td>-0.296884</td>\n",
       "      <td>-0.293537</td>\n",
       "      <td>0.20531</td>\n",
       "      <td>-0.439998</td>\n",
       "      <td>-0.101183</td>\n",
       "      <td>-0.335685</td>\n",
       "      <td>-0.579021</td>\n",
       "    </tr>\n",
       "    <tr>\n",
       "      <th>...</th>\n",
       "      <td>...</td>\n",
       "      <td>...</td>\n",
       "      <td>...</td>\n",
       "      <td>...</td>\n",
       "      <td>...</td>\n",
       "      <td>...</td>\n",
       "      <td>...</td>\n",
       "      <td>...</td>\n",
       "    </tr>\n",
       "    <tr>\n",
       "      <th>7935</th>\n",
       "      <td>0.503868</td>\n",
       "      <td>-0.296884</td>\n",
       "      <td>-0.293537</td>\n",
       "      <td>0.20531</td>\n",
       "      <td>-0.377544</td>\n",
       "      <td>-0.045571</td>\n",
       "      <td>-0.994472</td>\n",
       "      <td>-0.651400</td>\n",
       "    </tr>\n",
       "    <tr>\n",
       "      <th>5192</th>\n",
       "      <td>-0.767566</td>\n",
       "      <td>-1.486372</td>\n",
       "      <td>-0.293537</td>\n",
       "      <td>-0.64526</td>\n",
       "      <td>-0.582752</td>\n",
       "      <td>0.593969</td>\n",
       "      <td>1.062858</td>\n",
       "      <td>-0.622448</td>\n",
       "    </tr>\n",
       "    <tr>\n",
       "      <th>3980</th>\n",
       "      <td>-0.767566</td>\n",
       "      <td>-1.486372</td>\n",
       "      <td>-0.293537</td>\n",
       "      <td>-0.64526</td>\n",
       "      <td>-0.136648</td>\n",
       "      <td>-0.184601</td>\n",
       "      <td>1.062858</td>\n",
       "      <td>-0.622448</td>\n",
       "    </tr>\n",
       "    <tr>\n",
       "      <th>235</th>\n",
       "      <td>1.775303</td>\n",
       "      <td>0.892605</td>\n",
       "      <td>-0.293537</td>\n",
       "      <td>1.90645</td>\n",
       "      <td>1.032146</td>\n",
       "      <td>-0.184601</td>\n",
       "      <td>-0.961349</td>\n",
       "      <td>0.767245</td>\n",
       "    </tr>\n",
       "    <tr>\n",
       "      <th>5157</th>\n",
       "      <td>-0.767566</td>\n",
       "      <td>-0.296884</td>\n",
       "      <td>-0.293537</td>\n",
       "      <td>-0.64526</td>\n",
       "      <td>-0.127725</td>\n",
       "      <td>-0.156795</td>\n",
       "      <td>-0.970550</td>\n",
       "      <td>-0.651400</td>\n",
       "    </tr>\n",
       "  </tbody>\n",
       "</table>\n",
       "<p>7917 rows × 8 columns</p>\n",
       "</div>"
      ],
      "text/plain": [
       "      accommodates  bedrooms  bathrooms     beds     price  minimum_nights  \\\n",
       "4740      0.503868 -0.296884  -0.293537  0.20531 -0.439998       -0.184601   \n",
       "5606     -0.131849  0.892605   0.843973  0.20531 -0.145570       -0.101183   \n",
       "4824     -0.767566 -1.486372  -0.293537 -0.64526 -0.439998        0.037847   \n",
       "4205     -0.767566 -0.296884  -0.293537 -0.64526 -0.618440       -0.101183   \n",
       "3228     -0.131849 -0.296884  -0.293537  0.20531 -0.439998       -0.101183   \n",
       "...            ...       ...        ...      ...       ...             ...   \n",
       "7935      0.503868 -0.296884  -0.293537  0.20531 -0.377544       -0.045571   \n",
       "5192     -0.767566 -1.486372  -0.293537 -0.64526 -0.582752        0.593969   \n",
       "3980     -0.767566 -1.486372  -0.293537 -0.64526 -0.136648       -0.184601   \n",
       "235       1.775303  0.892605  -0.293537  1.90645  1.032146       -0.184601   \n",
       "5157     -0.767566 -0.296884  -0.293537 -0.64526 -0.127725       -0.156795   \n",
       "\n",
       "      maximum_nights  number_of_reviews  \n",
       "4740        1.062858          -0.564545  \n",
       "5606        1.061018          -0.636924  \n",
       "4824        1.062858          -0.651400  \n",
       "4205        1.062858           0.550105  \n",
       "3228       -0.335685          -0.579021  \n",
       "...              ...                ...  \n",
       "7935       -0.994472          -0.651400  \n",
       "5192        1.062858          -0.622448  \n",
       "3980        1.062858          -0.622448  \n",
       "235        -0.961349           0.767245  \n",
       "5157       -0.970550          -0.651400  \n",
       "\n",
       "[7917 rows x 8 columns]"
      ]
     },
     "execution_count": 160,
     "metadata": {},
     "output_type": "execute_result"
    }
   ],
   "source": [
    "normalized_listings"
   ]
  },
  {
   "cell_type": "code",
   "execution_count": 161,
   "id": "ef93b2fe",
   "metadata": {},
   "outputs": [],
   "source": [
    "normalized_listings.price = paris_listings.price"
   ]
  },
  {
   "cell_type": "code",
   "execution_count": 162,
   "id": "c7000cde",
   "metadata": {},
   "outputs": [
    {
     "data": {
      "text/html": [
       "<div>\n",
       "<style scoped>\n",
       "    .dataframe tbody tr th:only-of-type {\n",
       "        vertical-align: middle;\n",
       "    }\n",
       "\n",
       "    .dataframe tbody tr th {\n",
       "        vertical-align: top;\n",
       "    }\n",
       "\n",
       "    .dataframe thead th {\n",
       "        text-align: right;\n",
       "    }\n",
       "</style>\n",
       "<table border=\"1\" class=\"dataframe\">\n",
       "  <thead>\n",
       "    <tr style=\"text-align: right;\">\n",
       "      <th></th>\n",
       "      <th>accommodates</th>\n",
       "      <th>bedrooms</th>\n",
       "      <th>bathrooms</th>\n",
       "      <th>beds</th>\n",
       "      <th>price</th>\n",
       "      <th>minimum_nights</th>\n",
       "      <th>maximum_nights</th>\n",
       "      <th>number_of_reviews</th>\n",
       "    </tr>\n",
       "  </thead>\n",
       "  <tbody>\n",
       "    <tr>\n",
       "      <th>4740</th>\n",
       "      <td>0.503868</td>\n",
       "      <td>-0.296884</td>\n",
       "      <td>-0.293537</td>\n",
       "      <td>0.20531</td>\n",
       "      <td>65.0</td>\n",
       "      <td>-0.184601</td>\n",
       "      <td>1.062858</td>\n",
       "      <td>-0.564545</td>\n",
       "    </tr>\n",
       "    <tr>\n",
       "      <th>5606</th>\n",
       "      <td>-0.131849</td>\n",
       "      <td>0.892605</td>\n",
       "      <td>0.843973</td>\n",
       "      <td>0.20531</td>\n",
       "      <td>98.0</td>\n",
       "      <td>-0.101183</td>\n",
       "      <td>1.061018</td>\n",
       "      <td>-0.636924</td>\n",
       "    </tr>\n",
       "    <tr>\n",
       "      <th>4824</th>\n",
       "      <td>-0.767566</td>\n",
       "      <td>-1.486372</td>\n",
       "      <td>-0.293537</td>\n",
       "      <td>-0.64526</td>\n",
       "      <td>65.0</td>\n",
       "      <td>0.037847</td>\n",
       "      <td>1.062858</td>\n",
       "      <td>-0.651400</td>\n",
       "    </tr>\n",
       "  </tbody>\n",
       "</table>\n",
       "</div>"
      ],
      "text/plain": [
       "      accommodates  bedrooms  bathrooms     beds  price  minimum_nights  \\\n",
       "4740      0.503868 -0.296884  -0.293537  0.20531   65.0       -0.184601   \n",
       "5606     -0.131849  0.892605   0.843973  0.20531   98.0       -0.101183   \n",
       "4824     -0.767566 -1.486372  -0.293537 -0.64526   65.0        0.037847   \n",
       "\n",
       "      maximum_nights  number_of_reviews  \n",
       "4740        1.062858          -0.564545  \n",
       "5606        1.061018          -0.636924  \n",
       "4824        1.062858          -0.651400  "
      ]
     },
     "execution_count": 162,
     "metadata": {},
     "output_type": "execute_result"
    }
   ],
   "source": [
    "normalized_listings.head(3)"
   ]
  },
  {
   "cell_type": "markdown",
   "id": "2f5da13e",
   "metadata": {},
   "source": [
    "# Distance euclidienne pour le cas multivarié"
   ]
  },
  {
   "cell_type": "code",
   "execution_count": 163,
   "id": "e1b17d11",
   "metadata": {},
   "outputs": [
    {
     "data": {
      "text/plain": [
       "1.3487105639128063"
      ]
     },
     "execution_count": 163,
     "metadata": {},
     "output_type": "execute_result"
    }
   ],
   "source": [
    "from scipy.spatial import distance\n",
    "first_listings = [0.503868, -0.296884]\n",
    "second_listing = [-0.131849, 0.892605]\n",
    "\n",
    "dist = distance.euclidean(first_listings, second_listing)\n",
    "dist"
   ]
  },
  {
   "cell_type": "code",
   "execution_count": 164,
   "id": "10dcc621",
   "metadata": {},
   "outputs": [
    {
     "data": {
      "text/plain": [
       "0.6357172321498354"
      ]
     },
     "execution_count": 164,
     "metadata": {},
     "output_type": "execute_result"
    }
   ],
   "source": [
    "first_fifth_distance = distance.euclidean(\n",
    "    normalized_listings.iloc[0][['accommodates', 'bedrooms']],\n",
    "    normalized_listings.iloc[4][['accommodates', 'bedrooms']]\n",
    ")\n",
    "first_fifth_distance"
   ]
  },
  {
   "cell_type": "markdown",
   "id": "5361a03b",
   "metadata": {},
   "source": [
    "# Scikit-learn \n",
    "\n",
    "- Instancier le modèle de Machine Learning qu'on souhaite utiliser \n",
    "- Adapter le modèle aux données d'entrainement\n",
    "- Utiliser le modèle pour faire des prédictions\n",
    "- Evaluer la précision du modèle"
   ]
  },
  {
   "cell_type": "markdown",
   "id": "26e7b455",
   "metadata": {},
   "source": [
    "### classe KNeighborsRegressor"
   ]
  },
  {
   "cell_type": "code",
   "execution_count": 165,
   "id": "86ae0b87",
   "metadata": {},
   "outputs": [],
   "source": [
    "from sklearn.neighbors import KNeighborsRegressor\n",
    "knn = KNeighborsRegressor(n_neighbors=5, algorithm='brute')"
   ]
  },
  {
   "cell_type": "markdown",
   "id": "ec8c0425",
   "metadata": {},
   "source": [
    "### Adapter le modèle\n",
    "\n",
    "Méthode fit() prend 2 paramètres obligatoires :\n",
    "\n",
    "- Un objet matrice contenant les caractéristiques du set de training\n",
    "- Un objet liste contenant la colonne cible"
   ]
  },
  {
   "cell_type": "code",
   "execution_count": 166,
   "id": "11970130",
   "metadata": {},
   "outputs": [
    {
     "data": {
      "text/plain": [
       "KNeighborsRegressor(algorithm='brute')"
      ]
     },
     "execution_count": 166,
     "metadata": {},
     "output_type": "execute_result"
    }
   ],
   "source": [
    "# Train-Test-Split\n",
    "train_df = normalized_listings.iloc[0:6000]\n",
    "test_df = normalized_listings.iloc[6000:]\n",
    "\n",
    "# Matrice contenant seulement les colonnes du training-set\n",
    "train_features = train_df[['accommodates', 'bedrooms']]\n",
    "\n",
    "# Liste contenant colonne cible\n",
    "train_target = train_df['price']\n",
    "\n",
    "# Fit the data\n",
    "knn.fit(train_features, train_target)"
   ]
  },
  {
   "cell_type": "markdown",
   "id": "b6da4e62",
   "metadata": {},
   "source": [
    "### Prédictions\n",
    "\n",
    "Méthode predict() prend un seul paramètre obligatoire : \n",
    "- Un objet matrice contenant les caractéritiques du set de test"
   ]
  },
  {
   "cell_type": "code",
   "execution_count": 167,
   "id": "14998a15",
   "metadata": {},
   "outputs": [],
   "source": [
    "test_features = test_df[['accommodates', 'bedrooms']]\n",
    "predictions = knn.predict(test_features)"
   ]
  },
  {
   "cell_type": "code",
   "execution_count": 168,
   "id": "ae968426",
   "metadata": {},
   "outputs": [
    {
     "data": {
      "text/plain": [
       "array([ 64.,  94.,  94., ...,  64., 141.,  94.])"
      ]
     },
     "execution_count": 168,
     "metadata": {},
     "output_type": "execute_result"
    }
   ],
   "source": [
    "predictions"
   ]
  },
  {
   "cell_type": "markdown",
   "id": "759c8681",
   "metadata": {},
   "source": [
    "### Calcul du RMSE"
   ]
  },
  {
   "cell_type": "code",
   "execution_count": 169,
   "id": "18f7d95d",
   "metadata": {},
   "outputs": [
    {
     "name": "stdout",
     "output_type": "stream",
     "text": [
      "7470.376838810641\n",
      "86.43134176217931\n"
     ]
    }
   ],
   "source": [
    "from sklearn.metrics import mean_squared_error\n",
    "\n",
    "two_features_mse = mean_squared_error(test_df['price'], predictions)\n",
    "two_features_rmse = np.sqrt(two_features_mse)\n",
    "\n",
    "print(two_features_mse)\n",
    "print(two_features_rmse)"
   ]
  },
  {
   "cell_type": "markdown",
   "id": "6f6f035b",
   "metadata": {},
   "source": [
    "### Utiliser plus de caractéristiques"
   ]
  },
  {
   "cell_type": "code",
   "execution_count": 172,
   "id": "3b31b1c2",
   "metadata": {},
   "outputs": [
    {
     "name": "stdout",
     "output_type": "stream",
     "text": [
      "5436.579071465832\n",
      "73.73316127405519\n"
     ]
    }
   ],
   "source": [
    "knn_4 = KNeighborsRegressor(n_neighbors=5, algorithm='brute')\n",
    "train_columns = ['accommodates', 'bedrooms', 'bathrooms', 'beds']\n",
    "knn_4.fit(train_df[train_columns], train_df['price'])\n",
    "predictions_4 = knn_4.predict(test_df[train_columns])\n",
    "four_features_mse = mean_squared_error(test_df['price'], predictions_4)\n",
    "four_features_rmse = np.sqrt(four_features_mse)\n",
    "\n",
    "print(four_features_mse)\n",
    "print(four_features_rmse)"
   ]
  },
  {
   "cell_type": "markdown",
   "id": "9bb154ce",
   "metadata": {},
   "source": [
    "# Optimisation des hyper paramètres"
   ]
  },
  {
   "cell_type": "code",
   "execution_count": 173,
   "id": "d9164e58",
   "metadata": {},
   "outputs": [],
   "source": [
    "train_df = pd.read_csv('paris_airbnb_train.csv')\n",
    "test_df = pd.read_csv('paris_airbnb_test.csv')"
   ]
  },
  {
   "cell_type": "markdown",
   "id": "b5a2c02d",
   "metadata": {},
   "source": [
    "#### Grid search"
   ]
  },
  {
   "cell_type": "code",
   "execution_count": 202,
   "id": "f57d91d9",
   "metadata": {},
   "outputs": [],
   "source": [
    "hyper_params = list()\n",
    "for i in range(10,200):\n",
    "    hyper_params.append(i)\n",
    "mse_values = []\n",
    "\n",
    "for param in hyper_params: \n",
    "    knn = KNeighborsRegressor(n_neighbors=param, algorithm='brute')\n",
    "    features = ['accommodates', 'bedrooms', 'bathrooms', 'beds', 'number_of_reviews']\n",
    "    knn.fit(train_df[features], train_df['price'])\n",
    "    predictions = knn.predict(test_df[features])\n",
    "    mse = mean_squared_error(test_df['price'], predictions)\n",
    "    mse_values.append(mse)"
   ]
  },
  {
   "cell_type": "code",
   "execution_count": 203,
   "id": "afc13db8",
   "metadata": {
    "scrolled": true
   },
   "outputs": [
    {
     "data": {
      "text/plain": [
       "4940.3070441944965"
      ]
     },
     "execution_count": 203,
     "metadata": {},
     "output_type": "execute_result"
    }
   ],
   "source": [
    "min(mse_values)"
   ]
  },
  {
   "cell_type": "code",
   "execution_count": 204,
   "id": "299f4170",
   "metadata": {},
   "outputs": [
    {
     "data": {
      "image/png": "[encoded data removed]",
      "text/plain": [
       "<Figure size 432x288 with 1 Axes>"
      ]
     },
     "metadata": {
      "needs_background": "light"
     },
     "output_type": "display_data"
    }
   ],
   "source": [
    "from matplotlib import pyplot as plt\n",
    "\n",
    "plt.plot(hyper_params, mse_values)\n",
    "plt.xlabel('Hyper parameters')\n",
    "plt.ylabel('Mse value')\n",
    "plt.show()"
   ]
  },
  {
   "cell_type": "markdown",
   "id": "b2b46674",
   "metadata": {},
   "source": [
    "# Validation croisée"
   ]
  },
  {
   "cell_type": "code",
   "execution_count": 1,
   "id": "247b3dcf",
   "metadata": {},
   "outputs": [],
   "source": [
    "import pandas as pd\n",
    "import numpy as np\n",
    "pd.options.mode.chained_assignment = None\n",
    "np.random.seed(1)\n",
    "\n",
    "paris_listings = pd.read_csv('paris_airbnb.csv')\n",
    "stripped_comas = paris_listings['price'].str.replace(',', '', regex=False)\n",
    "stripped_dollars = stripped_comas.str.replace('$', '', regex=False)\n",
    "paris_listings['price'] = stripped_dollars.astype('float')\n",
    "\n",
    "shuffled_index = np.random.permutation(paris_listings.index)\n",
    "paris_listings = paris_listings.reindex(shuffled_index)\n",
    "\n",
    "split_one = paris_listings.iloc[0:4000]\n",
    "split_two = paris_listings.iloc[4000:]"
   ]
  },
  {
   "cell_type": "code",
   "execution_count": 4,
   "id": "eb9f87fe",
   "metadata": {},
   "outputs": [
    {
     "name": "stdout",
     "output_type": "stream",
     "text": [
      "94.39434283896466\n",
      "121.86237516149109\n"
     ]
    }
   ],
   "source": [
    "from sklearn.neighbors import KNeighborsRegressor\n",
    "from sklearn.metrics import mean_squared_error\n",
    "\n",
    "knn1 = KNeighborsRegressor(n_neighbors=5, algorithm='auto')\n",
    "features = ['accommodates']\n",
    "knn1.fit(split_one[features], split_one['price'])\n",
    "predictions1 = knn.predict(split_two[features])\n",
    "mse1 = mean_squared_error(split_two['price'], predictions1)\n",
    "rmse1 = np.sqrt(mse1)\n",
    "print(rmse1)\n",
    "\n",
    "knn2 = KNeighborsRegressor(n_neighbors=5, algorithm='auto')\n",
    "features = ['accommodates']\n",
    "knn1.fit(split_two[features], split_two['price'])\n",
    "predictions2 = knn.predict(split_one[features])\n",
    "mse2 = mean_squared_error(split_one['price'], predictions2)\n",
    "rmse2 = np.sqrt(mse2)\n",
    "print(rmse2)"
   ]
  },
  {
   "cell_type": "code",
   "execution_count": 6,
   "id": "0e1e165f",
   "metadata": {},
   "outputs": [
    {
     "name": "stdout",
     "output_type": "stream",
     "text": [
      "108.12835900022787\n"
     ]
    }
   ],
   "source": [
    "average = np.mean([rmse1, rmse2])\n",
    "print(average)"
   ]
  },
  {
   "cell_type": "markdown",
   "id": "38015c5c",
   "metadata": {},
   "source": [
    "# K fold cross validation"
   ]
  },
  {
   "cell_type": "code",
   "execution_count": 7,
   "id": "eed04874",
   "metadata": {},
   "outputs": [],
   "source": [
    "paris_listings['fold'] = 0\n",
    "paris_listings['fold'].iloc[0:1600] = 1\n",
    "paris_listings['fold'].iloc[1600:3200] = 2\n",
    "paris_listings['fold'].iloc[3200:4800] = 3\n",
    "paris_listings['fold'].iloc[4800:6400] = 4\n",
    "paris_listings['fold'].iloc[6400:] = 5"
   ]
  },
  {
   "cell_type": "code",
   "execution_count": 8,
   "id": "e3979ec7",
   "metadata": {},
   "outputs": [
    {
     "name": "stdout",
     "output_type": "stream",
     "text": [
      "93.94697400661717\n"
     ]
    }
   ],
   "source": [
    "knn_fold_1 = KNeighborsRegressor(algorithm='auto')\n",
    "training_set = paris_listings.loc[paris_listings['fold'] != 1]\n",
    "test_set = paris_listings.loc[paris_listings['fold'] == 1]\n",
    "\n",
    "features = ['accommodates']\n",
    "knn_fold_1.fit(training_set[features], training_set['price'])\n",
    "labels = knn_fold_1.predict(test_set[features])\n",
    "mse_label_1 = mean_squared_error(test_set['price'], labels)\n",
    "iteration_one_rmse = np.sqrt(mse_label_1)\n",
    "print(iteration_one_rmse)"
   ]
  },
  {
   "cell_type": "code",
   "execution_count": 9,
   "id": "7ece4732",
   "metadata": {},
   "outputs": [
    {
     "name": "stdout",
     "output_type": "stream",
     "text": [
      "[93.94697400661717, 163.3439872630762, 83.02118133344045, 100.72756176935884, 77.80237319645205]\n",
      "103.76841551378894\n"
     ]
    }
   ],
   "source": [
    "fold_ids = [1, 2, 3, 4, 5]\n",
    "\n",
    "def train_and_validate(df, folds):\n",
    "    fold_rmses = []\n",
    "    for fold in folds:\n",
    "        #entrainement\n",
    "        model = KNeighborsRegressor()\n",
    "        train = df[df['fold'] != fold]\n",
    "        test = df[df['fold'] == fold]\n",
    "        model.fit(train[['accommodates']], train['price'])\n",
    "        \n",
    "        #prédiction\n",
    "        labels = model.predict(test[['accommodates']])\n",
    "        test['predicted_price'] = labels\n",
    "        mse = mean_squared_error(test['price'], test['predicted_price'])\n",
    "        rmse = mse**(1/2)\n",
    "        fold_rmses.append(rmse)\n",
    "    return(fold_rmses)\n",
    "\n",
    "rmses = train_and_validate(paris_listings, fold_ids)\n",
    "print(rmses)\n",
    "\n",
    "avg_rmse = np.mean(rmses)\n",
    "print(avg_rmse)"
   ]
  },
  {
   "cell_type": "markdown",
   "id": "52211123",
   "metadata": {},
   "source": [
    "# K fold cross validation with scikit learn"
   ]
  },
  {
   "cell_type": "code",
   "execution_count": 21,
   "id": "7961f98b",
   "metadata": {},
   "outputs": [],
   "source": [
    "from sklearn.model_selection import KFold\n",
    "\n",
    "kf = KFold(n_splits=30, shuffle=True, random_state=1)"
   ]
  },
  {
   "cell_type": "code",
   "execution_count": 22,
   "id": "526b75ce",
   "metadata": {},
   "outputs": [
    {
     "name": "stdout",
     "output_type": "stream",
     "text": [
      "[ 78.42913737  92.75762868  70.48543505  88.58582499  75.38608839\n",
      "  63.88609128 114.81356717  68.62849344  84.17091405  61.39915455\n",
      "  67.72724544  96.39514184  67.31598582 113.26051174 101.4647807\n",
      "  79.68983037  94.10582536 100.48341134  57.98558519  86.736162\n",
      " 137.76367364  70.4865998   92.01880243  84.62474087  61.20808586\n",
      " 113.54789854 126.1441126   96.04454167  80.34972243 317.65388669]\n",
      "94.78496264346678\n"
     ]
    }
   ],
   "source": [
    "from sklearn.model_selection import cross_val_score\n",
    "\n",
    "knn = KNeighborsRegressor()\n",
    "mses = cross_val_score(knn, paris_listings[['accommodates']], paris_listings['price'], scoring='neg_mean_squared_error', cv=kf)\n",
    "rmses = np.sqrt(np.abs(mses))\n",
    "avg_rmse = np.mean(rmses)\n",
    "print(rmses)\n",
    "print(avg_rmse)"
   ]
  },
  {
   "cell_type": "code",
   "execution_count": null,
   "id": "969e2358",
   "metadata": {},
   "outputs": [],
   "source": []
  }
 ],
 "metadata": {
  "kernelspec": {
   "display_name": "Python 3 (ipykernel)",
   "language": "python",
   "name": "python3"
  },
  "language_info": {
   "codemirror_mode": {
    "name": "ipython",
    "version": 3
   },
   "file_extension": ".py",
   "mimetype": "text/x-python",
   "name": "python",
   "nbconvert_exporter": "python",
   "pygments_lexer": "ipython3",
   "version": "3.9.8"
  }
 },
 "nbformat": 4,
 "nbformat_minor": 5
}
