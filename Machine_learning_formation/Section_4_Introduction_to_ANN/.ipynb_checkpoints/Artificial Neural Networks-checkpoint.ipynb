{
 "cells": [
  {
   "cell_type": "markdown",
   "id": "a3f8d579",
   "metadata": {},
   "source": [
    "# Data visualization"
   ]
  },
  {
   "cell_type": "code",
   "execution_count": 8,
   "id": "8fa5c22d",
   "metadata": {},
   "outputs": [],
   "source": [
    "import pandas as pd\n",
    "import numpy as np\n",
    "import matplotlib.pyplot as plt\n",
    "pd.options.mode.chained_assignment = None\n",
    "np.random.seed(1)"
   ]
  },
  {
   "cell_type": "code",
   "execution_count": 9,
   "id": "38124aa7",
   "metadata": {},
   "outputs": [],
   "source": [
    "iris = pd.read_csv('iris.csv')"
   ]
  },
  {
   "cell_type": "code",
   "execution_count": 10,
   "id": "15d23b5f",
   "metadata": {},
   "outputs": [
    {
     "data": {
      "text/plain": [
       "array([[<AxesSubplot:title={'center':'sepal_length'}>,\n",
       "        <AxesSubplot:title={'center':'sepal_width'}>],\n",
       "       [<AxesSubplot:title={'center':'petal_length'}>,\n",
       "        <AxesSubplot:title={'center':'petal_width'}>]], dtype=object)"
      ]
     },
     "execution_count": 10,
     "metadata": {},
     "output_type": "execute_result"
    },
    {
     "data": {
      "image/png": "[encoded data removed]",
      "text/plain": [
       "<Figure size 432x288 with 4 Axes>"
      ]
     },
     "metadata": {
      "needs_background": "light"
     },
     "output_type": "display_data"
    }
   ],
   "source": [
    "iris.hist()"
   ]
  },
  {
   "cell_type": "code",
   "execution_count": 11,
   "id": "b8255ab9",
   "metadata": {},
   "outputs": [],
   "source": [
    "shuffled_rows = np.random.permutation(iris.index)\n",
    "iris = iris.loc[shuffled_rows,:]"
   ]
  },
  {
   "cell_type": "code",
   "execution_count": 12,
   "id": "eb0fbe53",
   "metadata": {},
   "outputs": [
    {
     "data": {
      "text/html": [
       "<div>\n",
       "<style scoped>\n",
       "    .dataframe tbody tr th:only-of-type {\n",
       "        vertical-align: middle;\n",
       "    }\n",
       "\n",
       "    .dataframe tbody tr th {\n",
       "        vertical-align: top;\n",
       "    }\n",
       "\n",
       "    .dataframe thead th {\n",
       "        text-align: right;\n",
       "    }\n",
       "</style>\n",
       "<table border=\"1\" class=\"dataframe\">\n",
       "  <thead>\n",
       "    <tr style=\"text-align: right;\">\n",
       "      <th></th>\n",
       "      <th>sepal_length</th>\n",
       "      <th>sepal_width</th>\n",
       "      <th>petal_length</th>\n",
       "      <th>petal_width</th>\n",
       "      <th>species</th>\n",
       "    </tr>\n",
       "  </thead>\n",
       "  <tbody>\n",
       "    <tr>\n",
       "      <th>14</th>\n",
       "      <td>5.8</td>\n",
       "      <td>4.0</td>\n",
       "      <td>1.2</td>\n",
       "      <td>0.2</td>\n",
       "      <td>setosa</td>\n",
       "    </tr>\n",
       "    <tr>\n",
       "      <th>98</th>\n",
       "      <td>5.1</td>\n",
       "      <td>2.5</td>\n",
       "      <td>3.0</td>\n",
       "      <td>1.1</td>\n",
       "      <td>versicolor</td>\n",
       "    </tr>\n",
       "    <tr>\n",
       "      <th>75</th>\n",
       "      <td>6.6</td>\n",
       "      <td>3.0</td>\n",
       "      <td>4.4</td>\n",
       "      <td>1.4</td>\n",
       "      <td>versicolor</td>\n",
       "    </tr>\n",
       "    <tr>\n",
       "      <th>16</th>\n",
       "      <td>5.4</td>\n",
       "      <td>3.9</td>\n",
       "      <td>1.3</td>\n",
       "      <td>0.4</td>\n",
       "      <td>setosa</td>\n",
       "    </tr>\n",
       "    <tr>\n",
       "      <th>131</th>\n",
       "      <td>7.9</td>\n",
       "      <td>3.8</td>\n",
       "      <td>6.4</td>\n",
       "      <td>2.0</td>\n",
       "      <td>virginica</td>\n",
       "    </tr>\n",
       "  </tbody>\n",
       "</table>\n",
       "</div>"
      ],
      "text/plain": [
       "     sepal_length  sepal_width  petal_length  petal_width     species\n",
       "14            5.8          4.0           1.2          0.2      setosa\n",
       "98            5.1          2.5           3.0          1.1  versicolor\n",
       "75            6.6          3.0           4.4          1.4  versicolor\n",
       "16            5.4          3.9           1.3          0.4      setosa\n",
       "131           7.9          3.8           6.4          2.0   virginica"
      ]
     },
     "execution_count": 12,
     "metadata": {},
     "output_type": "execute_result"
    }
   ],
   "source": [
    "iris.head()"
   ]
  },
  {
   "cell_type": "code",
   "execution_count": 14,
   "id": "f98cec68",
   "metadata": {},
   "outputs": [
    {
     "data": {
      "text/plain": [
       "array(['setosa', 'versicolor', 'virginica'], dtype=object)"
      ]
     },
     "execution_count": 14,
     "metadata": {},
     "output_type": "execute_result"
    }
   ],
   "source": [
    "iris.species.unique()"
   ]
  },
  {
   "cell_type": "markdown",
   "id": "02734f03",
   "metadata": {},
   "source": [
    "# Matrice"
   ]
  },
  {
   "cell_type": "code",
   "execution_count": 15,
   "id": "5224336e",
   "metadata": {},
   "outputs": [],
   "source": [
    "z = np.asarray([[9,5,4]])\n",
    "y = np.asarray([[-1,2,4]])"
   ]
  },
  {
   "cell_type": "code",
   "execution_count": 17,
   "id": "3ba429b3",
   "metadata": {},
   "outputs": [
    {
     "data": {
      "text/plain": [
       "array([[17]])"
      ]
     },
     "execution_count": 17,
     "metadata": {},
     "output_type": "execute_result"
    }
   ],
   "source": [
    "z.dot(y.T)"
   ]
  },
  {
   "cell_type": "markdown",
   "id": "94f62f73",
   "metadata": {},
   "source": [
    "# Sigmoid function"
   ]
  },
  {
   "cell_type": "code",
   "execution_count": 18,
   "id": "7e9f2d27",
   "metadata": {},
   "outputs": [],
   "source": [
    "iris['ones'] = np.ones(iris.shape[0])"
   ]
  },
  {
   "cell_type": "code",
   "execution_count": 19,
   "id": "6a539e0f",
   "metadata": {},
   "outputs": [
    {
     "data": {
      "text/plain": [
       "14     1.0\n",
       "98     1.0\n",
       "75     1.0\n",
       "16     1.0\n",
       "131    1.0\n",
       "      ... \n",
       "133    1.0\n",
       "137    1.0\n",
       "72     1.0\n",
       "140    1.0\n",
       "37     1.0\n",
       "Name: ones, Length: 150, dtype: float64"
      ]
     },
     "execution_count": 19,
     "metadata": {},
     "output_type": "execute_result"
    }
   ],
   "source": [
    "iris.ones"
   ]
  },
  {
   "cell_type": "code",
   "execution_count": 28,
   "id": "84b87d5f",
   "metadata": {},
   "outputs": [],
   "source": [
    "X = iris[['ones', 'sepal_length', 'sepal_width', 'petal_length', 'petal_width']].values\n",
    "y = (iris.species == 'versicolor').values.astype(int)"
   ]
  },
  {
   "cell_type": "code",
   "execution_count": 29,
   "id": "922d93e7",
   "metadata": {},
   "outputs": [
    {
     "data": {
      "text/plain": [
       "array([[1. , 5.8, 4. , 1.2, 0.2],\n",
       "       [1. , 5.1, 2.5, 3. , 1.1],\n",
       "       [1. , 6.6, 3. , 4.4, 1.4],\n",
       "       [1. , 5.4, 3.9, 1.3, 0.4],\n",
       "       [1. , 7.9, 3.8, 6.4, 2. ],\n",
       "       [1. , 6.3, 3.3, 4.7, 1.6],\n",
       "       [1. , 6.9, 3.1, 5.1, 2.3],\n",
       "       [1. , 5.1, 3.8, 1.9, 0.4],\n",
       "       [1. , 4.7, 3.2, 1.6, 0.2],\n",
       "       [1. , 6.9, 3.2, 5.7, 2.3],\n",
       "       [1. , 5.6, 2.7, 4.2, 1.3],\n",
       "       [1. , 5.4, 3.9, 1.7, 0.4],\n",
       "       [1. , 7.1, 3. , 5.9, 2.1],\n",
       "       [1. , 6.4, 3.2, 4.5, 1.5],\n",
       "       [1. , 6. , 2.9, 4.5, 1.5],\n",
       "       [1. , 4.4, 3.2, 1.3, 0.2],\n",
       "       [1. , 5.8, 2.6, 4. , 1.2],\n",
       "       [1. , 5.6, 3. , 4.5, 1.5],\n",
       "       [1. , 5.4, 3.4, 1.5, 0.4],\n",
       "       [1. , 5. , 3.2, 1.2, 0.2],\n",
       "       [1. , 5.5, 2.6, 4.4, 1.2],\n",
       "       [1. , 5.4, 3. , 4.5, 1.5],\n",
       "       [1. , 6.7, 3. , 5. , 1.7],\n",
       "       [1. , 5. , 3.5, 1.3, 0.3],\n",
       "       [1. , 7.2, 3.2, 6. , 1.8],\n",
       "       [1. , 5.7, 2.8, 4.1, 1.3],\n",
       "       [1. , 5.5, 4.2, 1.4, 0.2],\n",
       "       [1. , 5.1, 3.8, 1.5, 0.3],\n",
       "       [1. , 6.1, 2.8, 4.7, 1.2],\n",
       "       [1. , 6.3, 2.5, 5. , 1.9],\n",
       "       [1. , 6.1, 3. , 4.6, 1.4],\n",
       "       [1. , 7.7, 3. , 6.1, 2.3],\n",
       "       [1. , 5.6, 2.5, 3.9, 1.1],\n",
       "       [1. , 6.4, 2.8, 5.6, 2.1],\n",
       "       [1. , 5.8, 2.8, 5.1, 2.4],\n",
       "       [1. , 5.3, 3.7, 1.5, 0.2],\n",
       "       [1. , 5.5, 2.3, 4. , 1.3],\n",
       "       [1. , 5.2, 3.4, 1.4, 0.2],\n",
       "       [1. , 6.5, 2.8, 4.6, 1.5],\n",
       "       [1. , 6.7, 2.5, 5.8, 1.8],\n",
       "       [1. , 6.8, 3. , 5.5, 2.1],\n",
       "       [1. , 5.1, 3.5, 1.4, 0.3],\n",
       "       [1. , 6. , 2.2, 5. , 1.5],\n",
       "       [1. , 6.3, 2.9, 5.6, 1.8],\n",
       "       [1. , 6.6, 2.9, 4.6, 1.3],\n",
       "       [1. , 7.7, 2.6, 6.9, 2.3],\n",
       "       [1. , 5.7, 3.8, 1.7, 0.3],\n",
       "       [1. , 5. , 3.6, 1.4, 0.2],\n",
       "       [1. , 4.8, 3. , 1.4, 0.3],\n",
       "       [1. , 5.2, 2.7, 3.9, 1.4],\n",
       "       [1. , 5.1, 3.4, 1.5, 0.2],\n",
       "       [1. , 5.5, 3.5, 1.3, 0.2],\n",
       "       [1. , 7.7, 3.8, 6.7, 2.2],\n",
       "       [1. , 6.9, 3.1, 5.4, 2.1],\n",
       "       [1. , 7.3, 2.9, 6.3, 1.8],\n",
       "       [1. , 6.4, 2.8, 5.6, 2.2],\n",
       "       [1. , 6.2, 2.8, 4.8, 1.8],\n",
       "       [1. , 6. , 3.4, 4.5, 1.6],\n",
       "       [1. , 7.7, 2.8, 6.7, 2. ],\n",
       "       [1. , 5.7, 3. , 4.2, 1.2],\n",
       "       [1. , 4.8, 3.4, 1.6, 0.2],\n",
       "       [1. , 5.7, 2.5, 5. , 2. ],\n",
       "       [1. , 6.3, 2.7, 4.9, 1.8],\n",
       "       [1. , 4.8, 3. , 1.4, 0.1],\n",
       "       [1. , 4.7, 3.2, 1.3, 0.2],\n",
       "       [1. , 6.5, 3. , 5.8, 2.2],\n",
       "       [1. , 4.6, 3.4, 1.4, 0.3],\n",
       "       [1. , 6.1, 3. , 4.9, 1.8],\n",
       "       [1. , 6.5, 3.2, 5.1, 2. ],\n",
       "       [1. , 6.7, 3.1, 4.4, 1.4],\n",
       "       [1. , 5.7, 2.8, 4.5, 1.3],\n",
       "       [1. , 6.7, 3.3, 5.7, 2.5],\n",
       "       [1. , 6. , 3. , 4.8, 1.8],\n",
       "       [1. , 5.1, 3.8, 1.6, 0.2],\n",
       "       [1. , 6. , 2.2, 4. , 1. ],\n",
       "       [1. , 6.4, 2.9, 4.3, 1.3],\n",
       "       [1. , 6.5, 3. , 5.5, 1.8],\n",
       "       [1. , 5. , 2.3, 3.3, 1. ],\n",
       "       [1. , 6.3, 3.3, 6. , 2.5],\n",
       "       [1. , 5.5, 2.5, 4. , 1.3],\n",
       "       [1. , 5.4, 3.7, 1.5, 0.2],\n",
       "       [1. , 4.9, 3.1, 1.5, 0.2],\n",
       "       [1. , 5.2, 4.1, 1.5, 0.1],\n",
       "       [1. , 6.7, 3.3, 5.7, 2.1],\n",
       "       [1. , 4.4, 3. , 1.3, 0.2],\n",
       "       [1. , 6. , 2.7, 5.1, 1.6],\n",
       "       [1. , 6.4, 2.7, 5.3, 1.9],\n",
       "       [1. , 5.9, 3. , 5.1, 1.8],\n",
       "       [1. , 5.2, 3.5, 1.5, 0.2],\n",
       "       [1. , 5.1, 3.3, 1.7, 0.5],\n",
       "       [1. , 5.8, 2.7, 4.1, 1. ],\n",
       "       [1. , 4.9, 3.1, 1.5, 0.1],\n",
       "       [1. , 7.4, 2.8, 6.1, 1.9],\n",
       "       [1. , 6.2, 2.9, 4.3, 1.3],\n",
       "       [1. , 7.6, 3. , 6.6, 2.1],\n",
       "       [1. , 6.7, 3. , 5.2, 2.3],\n",
       "       [1. , 6.3, 2.3, 4.4, 1.3],\n",
       "       [1. , 6.2, 3.4, 5.4, 2.3],\n",
       "       [1. , 7.2, 3.6, 6.1, 2.5],\n",
       "       [1. , 5.6, 2.9, 3.6, 1.3],\n",
       "       [1. , 5.7, 4.4, 1.5, 0.4],\n",
       "       [1. , 5.8, 2.7, 3.9, 1.2],\n",
       "       [1. , 4.5, 2.3, 1.3, 0.3],\n",
       "       [1. , 5.5, 2.4, 3.8, 1.1],\n",
       "       [1. , 6.9, 3.1, 4.9, 1.5],\n",
       "       [1. , 5. , 3.4, 1.6, 0.4],\n",
       "       [1. , 6.8, 2.8, 4.8, 1.4],\n",
       "       [1. , 5. , 3.5, 1.6, 0.6],\n",
       "       [1. , 4.8, 3.4, 1.9, 0.2],\n",
       "       [1. , 6.3, 3.4, 5.6, 2.4],\n",
       "       [1. , 5.6, 2.8, 4.9, 2. ],\n",
       "       [1. , 6.8, 3.2, 5.9, 2.3],\n",
       "       [1. , 5. , 3.3, 1.4, 0.2],\n",
       "       [1. , 5.1, 3.7, 1.5, 0.4],\n",
       "       [1. , 5.9, 3.2, 4.8, 1.8],\n",
       "       [1. , 4.6, 3.1, 1.5, 0.2],\n",
       "       [1. , 5.8, 2.7, 5.1, 1.9],\n",
       "       [1. , 4.8, 3.1, 1.6, 0.2],\n",
       "       [1. , 6.5, 3. , 5.2, 2. ],\n",
       "       [1. , 4.9, 2.5, 4.5, 1.7],\n",
       "       [1. , 4.6, 3.2, 1.4, 0.2],\n",
       "       [1. , 6.4, 3.2, 5.3, 2.3],\n",
       "       [1. , 4.3, 3. , 1.1, 0.1],\n",
       "       [1. , 5.6, 3. , 4.1, 1.3],\n",
       "       [1. , 4.4, 2.9, 1.4, 0.2],\n",
       "       [1. , 5.5, 2.4, 3.7, 1. ],\n",
       "       [1. , 5. , 2. , 3.5, 1. ],\n",
       "       [1. , 5.1, 3.5, 1.4, 0.2],\n",
       "       [1. , 4.9, 3. , 1.4, 0.2],\n",
       "       [1. , 4.9, 2.4, 3.3, 1. ],\n",
       "       [1. , 4.6, 3.6, 1. , 0.2],\n",
       "       [1. , 5.9, 3. , 4.2, 1.5],\n",
       "       [1. , 6.1, 2.9, 4.7, 1.4],\n",
       "       [1. , 5. , 3.4, 1.5, 0.2],\n",
       "       [1. , 6.7, 3.1, 4.7, 1.5],\n",
       "       [1. , 5.7, 2.9, 4.2, 1.3],\n",
       "       [1. , 6.2, 2.2, 4.5, 1.5],\n",
       "       [1. , 7. , 3.2, 4.7, 1.4],\n",
       "       [1. , 5.8, 2.7, 5.1, 1.9],\n",
       "       [1. , 5.4, 3.4, 1.7, 0.2],\n",
       "       [1. , 5. , 3. , 1.6, 0.2],\n",
       "       [1. , 6.1, 2.6, 5.6, 1.4],\n",
       "       [1. , 6.1, 2.8, 4. , 1.3],\n",
       "       [1. , 7.2, 3. , 5.8, 1.6],\n",
       "       [1. , 5.7, 2.6, 3.5, 1. ],\n",
       "       [1. , 6.3, 2.8, 5.1, 1.5],\n",
       "       [1. , 6.4, 3.1, 5.5, 1.8],\n",
       "       [1. , 6.3, 2.5, 4.9, 1.5],\n",
       "       [1. , 6.7, 3.1, 5.6, 2.4],\n",
       "       [1. , 4.9, 3.6, 1.4, 0.1]])"
      ]
     },
     "execution_count": 29,
     "metadata": {},
     "output_type": "execute_result"
    }
   ],
   "source": [
    "X"
   ]
  },
  {
   "cell_type": "code",
   "execution_count": 30,
   "id": "ebde30f5",
   "metadata": {},
   "outputs": [
    {
     "data": {
      "text/plain": [
       "array([0, 1, 1, 0, 0, 1, 0, 0, 0, 0, 1, 0, 0, 1, 1, 0, 1, 1, 0, 0, 1, 1,\n",
       "       1, 0, 0, 1, 0, 0, 1, 0, 1, 0, 1, 0, 0, 0, 1, 0, 1, 0, 0, 0, 0, 0,\n",
       "       1, 0, 0, 0, 0, 1, 0, 0, 0, 0, 0, 0, 0, 1, 0, 1, 0, 0, 0, 0, 0, 0,\n",
       "       0, 0, 0, 1, 1, 0, 0, 0, 1, 1, 0, 1, 0, 1, 0, 0, 0, 0, 0, 1, 0, 0,\n",
       "       0, 0, 1, 0, 0, 1, 0, 0, 1, 0, 0, 1, 0, 1, 0, 1, 1, 0, 1, 0, 0, 0,\n",
       "       0, 0, 0, 0, 1, 0, 0, 0, 0, 0, 0, 0, 0, 1, 0, 1, 1, 0, 0, 1, 0, 1,\n",
       "       1, 0, 1, 1, 1, 1, 0, 0, 0, 0, 1, 0, 1, 0, 0, 1, 0, 0])"
      ]
     },
     "execution_count": 30,
     "metadata": {},
     "output_type": "execute_result"
    }
   ],
   "source": [
    "y"
   ]
  },
  {
   "cell_type": "code",
   "execution_count": 25,
   "id": "e194a55a",
   "metadata": {},
   "outputs": [],
   "source": [
    "np.random.seed(1)\n",
    "theta_init = np.random.normal(0,0.01, size=(5,1))"
   ]
  },
  {
   "cell_type": "code",
   "execution_count": 26,
   "id": "2e0a1d4c",
   "metadata": {},
   "outputs": [
    {
     "data": {
      "text/plain": [
       "array([[ 0.01624345],\n",
       "       [-0.00611756],\n",
       "       [-0.00528172],\n",
       "       [-0.01072969],\n",
       "       [ 0.00865408]])"
      ]
     },
     "execution_count": 26,
     "metadata": {},
     "output_type": "execute_result"
    }
   ],
   "source": [
    "theta_init"
   ]
  },
  {
   "cell_type": "code",
   "execution_count": 43,
   "id": "f2f73453",
   "metadata": {},
   "outputs": [],
   "source": [
    "x0 = X[0]\n",
    "y0 = y[0]"
   ]
  },
  {
   "cell_type": "code",
   "execution_count": 65,
   "id": "cdb1e556",
   "metadata": {},
   "outputs": [],
   "source": [
    "def sigmoid_activation(x, theta):\n",
    "    x = np.asarray(x)\n",
    "    theta = np.asarray(theta)\n",
    "    return 1/(1 + np.exp(-np.dot(theta.T, x)))"
   ]
  },
  {
   "cell_type": "code",
   "execution_count": 38,
   "id": "736f7281",
   "metadata": {},
   "outputs": [],
   "source": [
    "a1 = sigmoid_activation(x0, theta_init)"
   ]
  },
  {
   "cell_type": "code",
   "execution_count": 39,
   "id": "bb6ed502",
   "metadata": {},
   "outputs": [
    {
     "name": "stdout",
     "output_type": "stream",
     "text": [
      "[0.48712532]\n"
     ]
    }
   ],
   "source": [
    "print(a1)"
   ]
  },
  {
   "cell_type": "code",
   "execution_count": 71,
   "id": "22b68699",
   "metadata": {},
   "outputs": [],
   "source": [
    "def singlecost(X, y, theta):\n",
    "    cost = -np.mean(y * np.log(sigmoid_activation(X.T, theta)) + (1 - y)*np.log(1 - sigmoid_activation(X.T, theta)))\n",
    "    return cost\n",
    "    "
   ]
  },
  {
   "cell_type": "code",
   "execution_count": 45,
   "id": "c3d5bfa8",
   "metadata": {},
   "outputs": [],
   "source": [
    "first_cost = singlecost(x0, y0, theta_init)"
   ]
  },
  {
   "cell_type": "code",
   "execution_count": 46,
   "id": "ed2b3f4e",
   "metadata": {},
   "outputs": [
    {
     "data": {
      "text/plain": [
       "0.6677237568307639"
      ]
     },
     "execution_count": 46,
     "metadata": {},
     "output_type": "execute_result"
    }
   ],
   "source": [
    "first_cost"
   ]
  },
  {
   "cell_type": "markdown",
   "id": "1e8f66d5",
   "metadata": {},
   "source": [
    "# Gradient calcul"
   ]
  },
  {
   "cell_type": "code",
   "execution_count": 47,
   "id": "607937f9",
   "metadata": {},
   "outputs": [],
   "source": [
    "grads = np.zeros(theta_init.shape)"
   ]
  },
  {
   "cell_type": "code",
   "execution_count": 48,
   "id": "262494b8",
   "metadata": {},
   "outputs": [
    {
     "data": {
      "text/plain": [
       "array([[0.],\n",
       "       [0.],\n",
       "       [0.],\n",
       "       [0.],\n",
       "       [0.]])"
      ]
     },
     "execution_count": 48,
     "metadata": {},
     "output_type": "execute_result"
    }
   ],
   "source": [
    "grads"
   ]
  },
  {
   "cell_type": "code",
   "execution_count": 49,
   "id": "e7206e52",
   "metadata": {},
   "outputs": [
    {
     "data": {
      "text/plain": [
       "150"
      ]
     },
     "execution_count": 49,
     "metadata": {},
     "output_type": "execute_result"
    }
   ],
   "source": [
    "n = X.shape[0]\n",
    "n"
   ]
  },
  {
   "cell_type": "code",
   "execution_count": 50,
   "id": "e082322f",
   "metadata": {},
   "outputs": [
    {
     "name": "stdout",
     "output_type": "stream",
     "text": [
      "[[-0.03753118]\n",
      " [-0.21073531]\n",
      " [-0.1387791 ]\n",
      " [-0.09740595]\n",
      " [-0.03372266]]\n"
     ]
    }
   ],
   "source": [
    "for j, obs in enumerate(X):\n",
    "    h = sigmoid_activation(obs, theta_init)\n",
    "    delta = (y[j] - h)*h*(1-h)*obs\n",
    "    grads += delta[:, np.newaxis]/n\n",
    "print(grads)"
   ]
  },
  {
   "cell_type": "markdown",
   "id": "c4b354b5",
   "metadata": {},
   "source": [
    "# ANN 2 layers"
   ]
  },
  {
   "cell_type": "code",
   "execution_count": 68,
   "id": "32725b26",
   "metadata": {},
   "outputs": [],
   "source": [
    "X = iris[['ones', 'sepal_length', 'sepal_width', 'petal_length', 'petal_width']].values\n",
    "y = (iris.species == 'versicolor').values.astype(int)\n",
    "np.random.seed(1)\n",
    "theta_init = np.random.normal(0,0.01, size=(5,1))"
   ]
  },
  {
   "cell_type": "code",
   "execution_count": 72,
   "id": "01e9762c",
   "metadata": {},
   "outputs": [],
   "source": [
    "learning_rate = 0.1\n",
    "max_epochs = 10000\n",
    "\n",
    "convergence_thres = 0.00001\n",
    "\n",
    "def learn(X,y, theta, learning_rate, max_epochs, convergence_thres):\n",
    "    costs = []\n",
    "    cost = singlecost(X, y, theta)\n",
    "    costprev = cost + convergence_thres + 0.01\n",
    "    counter = 0\n",
    "    \n",
    "    for counter in range(max_epochs):\n",
    "        grads = np.zeros(theta.shape)\n",
    "        for j, obs in enumerate(X):\n",
    "            h = sigmoid_activation(obs, theta)\n",
    "            delta = (y[j] - h)*h*(1-h)*obs\n",
    "            grads += delta[:, np.newaxis]/n\n",
    "        \n",
    "        theta += grads*learning_rate\n",
    "        counter += 1\n",
    "        costprev = cost\n",
    "        cost = singlecost(X, y, theta)\n",
    "        costs.append(cost)\n",
    "        \n",
    "        if np.abs(costprev - cost) < convergence_thres:\n",
    "            break\n",
    "    plt.plot(costs)\n",
    "    plt.title('Cost function convergence')\n",
    "    plt.ylabel('J')\n",
    "    plt.xlabel('Epochs')\n",
    "    plt.show()\n",
    "    \n",
    "    return theta"
   ]
  },
  {
   "cell_type": "code",
   "execution_count": 73,
   "id": "9297714e",
   "metadata": {},
   "outputs": [
    {
     "data": {
      "image/png": "[encoded data removed]",
      "text/plain": [
       "<Figure size 432x288 with 1 Axes>"
      ]
     },
     "metadata": {
      "needs_background": "light"
     },
     "output_type": "display_data"
    }
   ],
   "source": [
    "theta = learn(X, y, theta_init, learning_rate,max_epochs, convergence_thres)"
   ]
  },
  {
   "cell_type": "code",
   "execution_count": 78,
   "id": "a22ce315",
   "metadata": {},
   "outputs": [
    {
     "data": {
      "text/plain": [
       "(5, 150)"
      ]
     },
     "execution_count": 78,
     "metadata": {},
     "output_type": "execute_result"
    }
   ],
   "source": [
    "X.T.shape"
   ]
  },
  {
   "cell_type": "code",
   "execution_count": 85,
   "id": "538d8083",
   "metadata": {},
   "outputs": [
    {
     "data": {
      "text/plain": [
       "(5, 1)"
      ]
     },
     "execution_count": 85,
     "metadata": {},
     "output_type": "execute_result"
    }
   ],
   "source": [
    "theta_init.shape"
   ]
  },
  {
   "cell_type": "code",
   "execution_count": 86,
   "id": "42249cb4",
   "metadata": {},
   "outputs": [
    {
     "data": {
      "text/plain": [
       "(5, 1)"
      ]
     },
     "execution_count": 86,
     "metadata": {},
     "output_type": "execute_result"
    }
   ],
   "source": [
    "theta.shape"
   ]
  },
  {
   "cell_type": "code",
   "execution_count": 87,
   "id": "7174ec22",
   "metadata": {},
   "outputs": [
    {
     "data": {
      "text/plain": [
       "array([[ 0.50157147],\n",
       "       [ 0.48974371],\n",
       "       [-1.34598368],\n",
       "       [ 0.35216877],\n",
       "       [-1.05719517]])"
      ]
     },
     "execution_count": 87,
     "metadata": {},
     "output_type": "execute_result"
    }
   ],
   "source": [
    "theta"
   ]
  },
  {
   "cell_type": "markdown",
   "id": "412b57ac",
   "metadata": {},
   "source": [
    "# Artificial Neural Networks"
   ]
  },
  {
   "cell_type": "code",
   "execution_count": 89,
   "id": "60ca5432",
   "metadata": {},
   "outputs": [],
   "source": [
    "X = iris[['ones', 'sepal_length', 'sepal_width', 'petal_length', 'petal_width']].values\n",
    "np.random.seed(1)\n",
    "theta0_init = np.random.normal(0, 0.01, size=(5,4))\n",
    "theta1_init = np.random.normal(0, 0.01, size=(5,1))"
   ]
  },
  {
   "cell_type": "code",
   "execution_count": 92,
   "id": "4dbf3cc6",
   "metadata": {},
   "outputs": [],
   "source": [
    "def feedforward(X, theta0, theta1):\n",
    "    a1 = sigmoid_activation(X.T, theta0).T\n",
    "    a1 = np.column_stack([np.ones(a1.shape[0]), a1])\n",
    "    out = sigmoid_activation(a1.T, theta1)\n",
    "    return out"
   ]
  },
  {
   "cell_type": "code",
   "execution_count": 93,
   "id": "ee426d80",
   "metadata": {},
   "outputs": [],
   "source": [
    "h = feedforward(X, theta0_init, theta1_init)"
   ]
  },
  {
   "cell_type": "code",
   "execution_count": 94,
   "id": "f3a253ee",
   "metadata": {},
   "outputs": [
    {
     "data": {
      "text/plain": [
       "array([[0.50149521, 0.501493  , 0.50147094, 0.50149677, 0.50144318,\n",
       "        0.5014681 , 0.50146127, 0.50149479, 0.50150334, 0.50145642,\n",
       "        0.50147997, 0.50149394, 0.50145567, 0.50146984, 0.50147387,\n",
       "        0.50150713, 0.50148117, 0.50147547, 0.5014984 , 0.50150451,\n",
       "        0.50147999, 0.50147657, 0.50146533, 0.5015017 , 0.50145402,\n",
       "        0.50147952, 0.50149423, 0.5014979 , 0.50147334, 0.50147002,\n",
       "        0.50147228, 0.50145043, 0.50148386, 0.50146285, 0.50146887,\n",
       "        0.50149768, 0.50148438, 0.50150077, 0.50147102, 0.50146244,\n",
       "        0.50146015, 0.50150044, 0.5014746 , 0.50146361, 0.50147041,\n",
       "        0.50144721, 0.50149316, 0.50150066, 0.50150515, 0.50148403,\n",
       "        0.50150061, 0.5014992 , 0.50144161, 0.5014597 , 0.50145318,\n",
       "        0.50146258, 0.50147043, 0.50147055, 0.50144823, 0.50147786,\n",
       "        0.50150157, 0.50147305, 0.50146979, 0.5015057 , 0.50150547,\n",
       "        0.5014594 , 0.50150382, 0.50146906, 0.50146368, 0.50146979,\n",
       "        0.50147668, 0.50145636, 0.50147032, 0.50149747, 0.50148305,\n",
       "        0.50147363, 0.50146261, 0.50149292, 0.50145643, 0.50148316,\n",
       "        0.50149712, 0.50150355, 0.50149607, 0.50145745, 0.50150835,\n",
       "        0.50147057, 0.50146613, 0.50146874, 0.50149945, 0.50149898,\n",
       "        0.5014804 , 0.50150383, 0.50145438, 0.50147474, 0.50144799,\n",
       "        0.50146227, 0.50147713, 0.50146116, 0.50144897, 0.501483  ,\n",
       "        0.50149065, 0.50148126, 0.5015118 , 0.50148573, 0.50146488,\n",
       "        0.50149991, 0.50146823, 0.50149875, 0.50149944, 0.50145893,\n",
       "        0.50147248, 0.50145555, 0.50150248, 0.50149823, 0.50146965,\n",
       "        0.50150521, 0.50147085, 0.5015034 , 0.50146419, 0.50148183,\n",
       "        0.50150531, 0.50146199, 0.5015106 , 0.50147885, 0.50150825,\n",
       "        0.50148672, 0.50149334, 0.50150071, 0.50150487, 0.50149287,\n",
       "        0.50150571, 0.50147594, 0.50147218, 0.50150117, 0.50146739,\n",
       "        0.5014782 , 0.50147704, 0.50146541, 0.50147085, 0.50149754,\n",
       "        0.5015029 , 0.50146764, 0.50147802, 0.5014572 , 0.50148581,\n",
       "        0.50146858, 0.50146255, 0.50147183, 0.50145856, 0.50150149]])"
      ]
     },
     "execution_count": 94,
     "metadata": {},
     "output_type": "execute_result"
    }
   ],
   "source": [
    "h"
   ]
  },
  {
   "cell_type": "code",
   "execution_count": 95,
   "id": "32d543c2",
   "metadata": {},
   "outputs": [],
   "source": [
    "def multiplecost(X, y, theta0, theta1):\n",
    "    h = feedforward(X, theta0, theta1)\n",
    "    cost = -np.mean(y * np.log(h) + (1 - y)*np.log(1 - h))\n",
    "    return cost"
   ]
  },
  {
   "cell_type": "code",
   "execution_count": 96,
   "id": "25648551",
   "metadata": {},
   "outputs": [],
   "source": [
    "X = iris[['ones', 'sepal_length', 'sepal_width', 'petal_length', 'petal_width']].values\n",
    "y = (iris.species == 'versicolor').values.astype(int)\n",
    "np.random.seed(1)\n",
    "theta0_init = np.random.normal(0, 0.01, size=(5,4))\n",
    "theta1_init = np.random.normal(0, 0.01, size=(5,1))"
   ]
  },
  {
   "cell_type": "code",
   "execution_count": 97,
   "id": "a868c152",
   "metadata": {},
   "outputs": [
    {
     "data": {
      "text/plain": [
       "0.6941417093435182"
      ]
     },
     "execution_count": 97,
     "metadata": {},
     "output_type": "execute_result"
    }
   ],
   "source": [
    "multiplecost(X, y, theta0_init, theta1_init)"
   ]
  },
  {
   "cell_type": "markdown",
   "id": "99b2df3c",
   "metadata": {},
   "source": [
    "# Backpropagation"
   ]
  },
  {
   "cell_type": "code",
   "execution_count": 98,
   "id": "fa90d384",
   "metadata": {},
   "outputs": [],
   "source": [
    "import numpy as np\n",
    "\n",
    "def sigmoid_activation(x, theta):\n",
    "    x = np.asarray(x) # convertit une entrée en tableau array\n",
    "    theta = np.asarray(theta)\n",
    "    return 1 / (1 + np.exp((-1)*np.dot(theta.T,x)))\n",
    "\n",
    "# Utiliser une classe pour ce modèle, c'est une bonne pratique et permet de condenser le code\n",
    "class NNet3:\n",
    "    def __init__(self, learning_rate=0.5, maxepochs=1e4, \n",
    "                 convergence_thres=1e-5, hidden_layer=4):\n",
    "        self.learning_rate = learning_rate\n",
    "        self.maxepochs = int(maxepochs)\n",
    "        self.convergence_thres = 1e-5\n",
    "        self.hidden_layer = int(hidden_layer)\n",
    "        \n",
    "    def _multiplecost(self, X, y):\n",
    "        # on nourrit le réseau de neurones\n",
    "        _, l2 = self._feedforward(X) # on applique la fonction feedforward\n",
    "        # on calcule l'erreur\n",
    "        inner = y * np.log(l2) + (1-y) * np.log(1-l2)\n",
    "        # négation de l'erreur moyenne\n",
    "        return -np.mean(inner)\n",
    "    \n",
    "    def _feedforward(self, X):\n",
    "        # données de la première couche\n",
    "        l1 = sigmoid_activation(X.T, self.theta0).T\n",
    "        # on ajoute une colonne de 1 pour le terme de biais\n",
    "        l1 = np.column_stack([np.ones(l1.shape[0]), l1])\n",
    "        # les unités d'activation sont ensuite imputées à la couche de soprtie\n",
    "        l2 = sigmoid_activation(l1.T, self.theta1)\n",
    "        return l1, l2\n",
    "    \n",
    "    def predict(self, X):\n",
    "        _, y = self._feedforward(X)\n",
    "        return y\n",
    "    \n",
    "    def learn(self, X, y):\n",
    "        nobs, ncols = X.shape\n",
    "        self.theta0 = np.random.normal(0,0.01,size=(ncols,self.hidden_layer))\n",
    "        self.theta1 = np.random.normal(0,0.01,size=(self.hidden_layer+1,1))\n",
    "        \n",
    "        self.costs = []\n",
    "        cost = self._multiplecost(X, y)\n",
    "        self.costs.append(cost)\n",
    "        costprev = cost + self.convergence_thres+1 # fixe un coût initial à ne pas dépasser\n",
    "        counter = 0 # initialise un compteur\n",
    "        \n",
    "        # Boucle jusqu'à la convergence\n",
    "        for counter in range(self.maxepochs):\n",
    "            # on nourrit le réseau\n",
    "            l1, l2 = self._feedforward(X)\n",
    "            \n",
    "            # on démarre la backpropagation\n",
    "            # Calcul des gradients\n",
    "            l2_delta = (y-l2) * l2 * (1-l2)\n",
    "            l1_delta = l2_delta.T.dot(self.theta1.T) * l1 * (1-l1)\n",
    "            \n",
    "            # Update des paramètres par moyenne des gradients et en multipliant \n",
    "            # par le taux d'apprentissage\n",
    "            self.theta1 += l1.T.dot(l2_delta.T) / nobs * self.learning_rate\n",
    "            self.theta0 += X.T.dot(l1_delta)[:,1:] / nobs * self.learning_rate\n",
    "            \n",
    "            # Stockage des coûts et vérification de la convergence\n",
    "            counter += 1 # décompte\n",
    "            costprev = cost # Stockage du coût actuel dans prev cost\n",
    "            cost = self._multiplecost(X, y) # on obtient le nouveau coût\n",
    "            self.costs.append(cost)\n",
    "            if np.abs(costprev-cost) < self.convergence_thres and counter > 500:\n",
    "                break"
   ]
  },
  {
   "cell_type": "code",
   "execution_count": 99,
   "id": "d63b1625",
   "metadata": {},
   "outputs": [],
   "source": [
    "learning_rate = 0.5"
   ]
  },
  {
   "cell_type": "code",
   "execution_count": 100,
   "id": "cdd8b033",
   "metadata": {},
   "outputs": [],
   "source": [
    "maxepochs = 10000"
   ]
  },
  {
   "cell_type": "code",
   "execution_count": 101,
   "id": "00fc45b3",
   "metadata": {},
   "outputs": [],
   "source": [
    "convergence_thres = 0.00001"
   ]
  },
  {
   "cell_type": "code",
   "execution_count": 102,
   "id": "84926dc3",
   "metadata": {},
   "outputs": [],
   "source": [
    "hidden_units = 4"
   ]
  },
  {
   "cell_type": "code",
   "execution_count": 103,
   "id": "88f9a15f",
   "metadata": {},
   "outputs": [],
   "source": [
    "model = NNet3(learning_rate=learning_rate, maxepochs=maxepochs, convergence_thres=convergence_thres, hidden_layer=hidden_units)"
   ]
  },
  {
   "cell_type": "code",
   "execution_count": 104,
   "id": "0888f34c",
   "metadata": {},
   "outputs": [],
   "source": [
    "model.learn(X,y)"
   ]
  },
  {
   "cell_type": "code",
   "execution_count": 108,
   "id": "a4220d79",
   "metadata": {},
   "outputs": [
    {
     "data": {
      "image/png": "[encoded data removed]",
      "text/plain": [
       "<Figure size 432x288 with 1 Axes>"
      ]
     },
     "metadata": {
      "needs_background": "light"
     },
     "output_type": "display_data"
    }
   ],
   "source": [
    "plt.plot(model.costs)\n",
    "plt.title('Cost function convergence')\n",
    "plt.ylabel('J')\n",
    "plt.xlabel('Epochs')\n",
    "plt.show()"
   ]
  },
  {
   "cell_type": "markdown",
   "id": "3eac5e23",
   "metadata": {},
   "source": [
    "# Prediction on iris "
   ]
  },
  {
   "cell_type": "code",
   "execution_count": 109,
   "id": "228871b1",
   "metadata": {},
   "outputs": [],
   "source": [
    "X = iris[['ones', 'sepal_length', 'sepal_width', 'petal_length', 'petal_width']].values\n",
    "y = (iris.species == 'versicolor').values.astype(int)"
   ]
  },
  {
   "cell_type": "code",
   "execution_count": 111,
   "id": "1dfa55f2",
   "metadata": {},
   "outputs": [],
   "source": [
    "X_train = X[:100]\n",
    "X_test = X[-50:]\n",
    "y_train = y[:100]\n",
    "y_test = y[-50:]"
   ]
  },
  {
   "cell_type": "code",
   "execution_count": 112,
   "id": "bf9d453d",
   "metadata": {},
   "outputs": [
    {
     "data": {
      "text/plain": [
       "100"
      ]
     },
     "execution_count": 112,
     "metadata": {},
     "output_type": "execute_result"
    }
   ],
   "source": [
    "X_train.shape[0]"
   ]
  },
  {
   "cell_type": "code",
   "execution_count": 115,
   "id": "a6b83ad7",
   "metadata": {},
   "outputs": [],
   "source": [
    "from sklearn.metrics import roc_auc_score"
   ]
  },
  {
   "cell_type": "code",
   "execution_count": 117,
   "id": "de049c4a",
   "metadata": {},
   "outputs": [
    {
     "data": {
      "text/plain": [
       "0.6041666666666666"
      ]
     },
     "execution_count": 117,
     "metadata": {},
     "output_type": "execute_result"
    }
   ],
   "source": [
    "model = NNet3(learning_rate=learning_rate, maxepochs=maxepochs, convergence_thres=convergence_thres, hidden_layer=hidden_units)\n",
    "model.learn(X_train, y_train)\n",
    "predictions = model.predict(X_test)[0]\n",
    "\n",
    "roc_auc = roc_auc_score(y_test, predictions)\n",
    "roc_auc"
   ]
  },
  {
   "cell_type": "code",
   "execution_count": null,
   "id": "b2c396f3",
   "metadata": {},
   "outputs": [],
   "source": []
  }
 ],
 "metadata": {
  "kernelspec": {
   "display_name": "Python 3 (ipykernel)",
   "language": "python",
   "name": "python3"
  },
  "language_info": {
   "codemirror_mode": {
    "name": "ipython",
    "version": 3
   },
   "file_extension": ".py",
   "mimetype": "text/x-python",
   "name": "python",
   "nbconvert_exporter": "python",
   "pygments_lexer": "ipython3",
   "version": "3.9.8"
  }
 },
 "nbformat": 4,
 "nbformat_minor": 5
}
